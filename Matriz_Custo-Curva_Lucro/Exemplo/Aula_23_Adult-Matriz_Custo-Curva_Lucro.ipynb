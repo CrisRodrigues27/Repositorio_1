{
 "cells": [
  {
   "cell_type": "markdown",
   "metadata": {},
   "source": [
    "# EXEMPLO - Aula_23: Matriz de Custo e Curva de Lucro"
   ]
  },
  {
   "cell_type": "markdown",
   "metadata": {},
   "source": [
    "Base de Dados <br>\n",
    "Fonte da dados: kaglgle <br>\n",
    "Link: https://www.kaggle.com/kost13/us-income-logistic-regression/data <br>\n",
    "Resumo: Dados do Censo Americano referentes a renda dos cidadãos e variáveis explicativas como Idade, Educação, raça, etc. <br>\n",
    "Objetivo: Ajustar um modelo de regressão logística para prever a renda do cidadão (<=50k-0 e >50k-1), em uma base de treinamento, para uma resposta binária, fazer a previsão desta resposta e avaliar a qualidade de ajuste do modelo em uma base de teste.\n"
   ]
  },
  {
   "cell_type": "markdown",
   "metadata": {
    "_cell_guid": "8db8ec39-0419-4989-a9cc-90cc4c08c35b",
    "_uuid": "321134977aaf497b0d1e99e10652480fa1ffcea2"
   },
   "source": [
    "## 1. Importando os Dados"
   ]
  },
  {
   "cell_type": "code",
   "execution_count": 2,
   "metadata": {
    "_cell_guid": "b3c7994c-c402-4a78-a65f-d44fe4f6f375",
    "_kg_hide-input": false,
    "_uuid": "2d3d846b4daf6c81aaef2026dd4411c02e6f84a0",
    "collapsed": true
   },
   "outputs": [],
   "source": [
    "import numpy as np\n",
    "import pandas as pd\n",
    "pd.set_option('display.max_columns', 500)\n",
    "import matplotlib as mpl\n",
    "import matplotlib.pyplot as plt\n",
    "import seaborn as sns\n",
    "from sklearn.preprocessing import StandardScaler\n",
    "\n",
    "columns = ['Age','Workclass','fnlgwt','Education','Education num','Marital Status',\n",
    "           'Occupation','Relationship','Race','Sex','Capital Gain','Capital Loss',\n",
    "           'Hours/Week','Native country','Income']\n",
    "\n",
    "train = pd.read_csv('C:/Users/crrodr/Desktop/Tera - Data Science/Bases para exemplos-exercicios/Aula_23-Matriz_Custo-Curva_Lucro/Adult_exemplo/adult-training.csv', names=columns)\n",
    "test = pd.read_csv('C:/Users/crrodr/Desktop/Tera - Data Science/Bases para exemplos-exercicios/Aula_23-Matriz_Custo-Curva_Lucro/Adult_exemplo/adult-test.csv', names=columns, skiprows=1)\n",
    "\n",
    "%matplotlib inline"
   ]
  },
  {
   "cell_type": "code",
   "execution_count": 3,
   "metadata": {
    "_cell_guid": "1ebefc56-485c-441f-be5d-caba6ad546a0",
    "_uuid": "7bbac22afe972c60cc5dcf164d681faca6a2d8ac",
    "collapsed": true,
    "scrolled": false
   },
   "outputs": [],
   "source": [
    "# train.head()"
   ]
  },
  {
   "cell_type": "code",
   "execution_count": 4,
   "metadata": {},
   "outputs": [
    {
     "data": {
      "text/plain": [
       "(32561, 15)"
      ]
     },
     "execution_count": 4,
     "metadata": {},
     "output_type": "execute_result"
    }
   ],
   "source": [
    "train.shape"
   ]
  },
  {
   "cell_type": "markdown",
   "metadata": {
    "_cell_guid": "a9bf020a-d2e1-459f-a5a2-8b8ba5ea57a2",
    "_uuid": "5102eacf23ba73ae613d1a7ae576fef5a9b0c344"
   },
   "source": [
    "Mais informação sobre este data set pode se encontrada em: [archive.ics.uci.edu/ml/machine-learning-databases/adult/adult.names](http://archive.ics.uci.edu/ml/machine-learning-databases/adult/adult.names)"
   ]
  },
  {
   "cell_type": "code",
   "execution_count": 5,
   "metadata": {
    "_cell_guid": "ca577964-8356-4b4f-8009-57c5c21aa51f",
    "_uuid": "2d0e63d8dcd66f0f72d6f65233c320ca9840a3a5",
    "collapsed": true,
    "scrolled": true
   },
   "outputs": [],
   "source": [
    "# train.dtypes"
   ]
  },
  {
   "cell_type": "code",
   "execution_count": 6,
   "metadata": {
    "_cell_guid": "66b954d1-f3b5-4761-b875-1d3436266ce3",
    "_uuid": "04536138e2ebdd1cf3fd589d5c57d918c328af52",
    "collapsed": true
   },
   "outputs": [],
   "source": [
    "# test.dtypes"
   ]
  },
  {
   "cell_type": "markdown",
   "metadata": {
    "_cell_guid": "a73bade7-c5a2-47c8-924f-cc2fc7298f22",
    "_uuid": "d5026d47e16c39bb40ca3ea284beae3b62324127"
   },
   "source": [
    "## 2. Limpando os dados\n",
    "Algumas celulas contem ' ?' -> vamos converter para nan"
   ]
  },
  {
   "cell_type": "code",
   "execution_count": 7,
   "metadata": {
    "_cell_guid": "fd0c8de9-360e-419c-805e-ee996836d426",
    "_uuid": "03c0c5e9df0a4f2070b2ee1c5ebe7335034bcaf4",
    "collapsed": true
   },
   "outputs": [],
   "source": [
    "train.replace(' ?', np.nan, inplace=True)\n",
    "test.replace(' ?', np.nan, inplace=True)"
   ]
  },
  {
   "cell_type": "code",
   "execution_count": 8,
   "metadata": {
    "_cell_guid": "17a8289b-d9ad-40fa-8ac2-f62a1872942b",
    "_uuid": "193b78b85fed7b3f364a69ba03f02d97042d555c"
   },
   "outputs": [
    {
     "data": {
      "text/plain": [
       "Age                  0\n",
       "Workclass         1836\n",
       "fnlgwt               0\n",
       "Education            0\n",
       "Education num        0\n",
       "Marital Status       0\n",
       "Occupation        1843\n",
       "Relationship         0\n",
       "Race                 0\n",
       "Sex                  0\n",
       "Capital Gain         0\n",
       "Capital Loss         0\n",
       "Hours/Week           0\n",
       "Native country     583\n",
       "Income               0\n",
       "dtype: int64"
      ]
     },
     "execution_count": 8,
     "metadata": {},
     "output_type": "execute_result"
    }
   ],
   "source": [
    "# verificando quantidade de missing para cada var\n",
    "train.isnull().sum()"
   ]
  },
  {
   "cell_type": "code",
   "execution_count": 9,
   "metadata": {
    "_cell_guid": "693dbbec-c461-4de8-a4bd-1f5f07c1db39",
    "_uuid": "d77a76fda336728b8ff843e3bc232751ac63548d"
   },
   "outputs": [
    {
     "data": {
      "text/plain": [
       "Age                 0\n",
       "Workclass         963\n",
       "fnlgwt              0\n",
       "Education           0\n",
       "Education num       0\n",
       "Marital Status      0\n",
       "Occupation        966\n",
       "Relationship        0\n",
       "Race                0\n",
       "Sex                 0\n",
       "Capital Gain        0\n",
       "Capital Loss        0\n",
       "Hours/Week          0\n",
       "Native country    274\n",
       "Income              0\n",
       "dtype: int64"
      ]
     },
     "execution_count": 9,
     "metadata": {},
     "output_type": "execute_result"
    }
   ],
   "source": [
    "test.isnull().sum()"
   ]
  },
  {
   "cell_type": "markdown",
   "metadata": {
    "_cell_guid": "8753be5f-5fbe-4aa6-97da-08902c6ba028",
    "_uuid": "ea8c4fa4defc114cc2e891f2671c2364b6904eb7"
   },
   "source": [
    "Como visto, somente Workclass, Occupation e Native country tem valores missing"
   ]
  },
  {
   "cell_type": "markdown",
   "metadata": {
    "_cell_guid": "ec4d5159-2bd1-4383-8c96-1a378f5c1b23",
    "_uuid": "08f83972554476f03e75c00970367f46452b42c0"
   },
   "source": [
    "# 3: Transformando as Variáveis Input"
   ]
  },
  {
   "cell_type": "markdown",
   "metadata": {
    "_cell_guid": "2096221b-88a1-4558-b7d8-ee21c056b130",
    "_uuid": "eca6ef331b4d47364b1844affc54d4ffc3048bf4"
   },
   "source": [
    "### 3.1 Income"
   ]
  },
  {
   "cell_type": "markdown",
   "metadata": {
    "_cell_guid": "885d99a7-1656-4c5e-90be-e15b97766fe8",
    "_uuid": "823aeafc3ca8ede27011f5beddad0c1c87efd260"
   },
   "source": [
    "Transformando a variável Income-Renda em 0's and 1's"
   ]
  },
  {
   "cell_type": "code",
   "execution_count": 10,
   "metadata": {
    "_cell_guid": "04dec68c-f9db-42bd-9b8d-878cbf5b2c05",
    "_uuid": "52d410e203ae97ca32b997cd0d10d296d2f63928",
    "collapsed": true
   },
   "outputs": [],
   "source": [
    "# apply: aplica uma fç a coluna especificada - no caso Income\n",
    "# defini a fç lambda (nome de variável restrita do python) e já aplica ela\n",
    "train['Income'] = train['Income'].apply(lambda x: 1 if x==' >50K' else 0)\n",
    "test['Income'] = test['Income'].apply(lambda x: 1 if x==' >50K.' else 0)"
   ]
  },
  {
   "cell_type": "markdown",
   "metadata": {
    "_cell_guid": "034833de-e837-4c9e-81a9-b1d56b895f15",
    "_uuid": "a6fedc55a325add259597425b310f85ccda513f4"
   },
   "source": [
    "### 3.2 Age"
   ]
  },
  {
   "cell_type": "code",
   "execution_count": 11,
   "metadata": {
    "_cell_guid": "ab849813-536c-474a-95e5-215ae2749458",
    "_uuid": "c9932893baa3d9bde9bb3b92eca40472c3b6fd6a"
   },
   "outputs": [
    {
     "data": {
      "image/png": "[encoded data removed]",
      "text/plain": [
       "<matplotlib.figure.Figure at 0x5a7d208>"
      ]
     },
     "metadata": {},
     "output_type": "display_data"
    }
   ],
   "source": [
    "plt.hist(train['Age']);"
   ]
  },
  {
   "cell_type": "markdown",
   "metadata": {
    "_cell_guid": "75a1c801-c9f7-4fcc-93fa-50e346ade08a",
    "_uuid": "d4d76fcc375f3947c17c6364a945b4915edd8574"
   },
   "source": [
    "A variável Age parece assimétrica, ela pode ser normalizada. "
   ]
  },
  {
   "cell_type": "markdown",
   "metadata": {
    "_cell_guid": "5e44634b-d192-4442-8de7-1a24ce200475",
    "_uuid": "97cb96247a0520939272c7e2b2da67bd53ede896"
   },
   "source": [
    "### 3.3 Workclass"
   ]
  },
  {
   "cell_type": "markdown",
   "metadata": {
    "_cell_guid": "98eb40cc-f8aa-48e0-ba52-26c0bc89d78b",
    "_uuid": "530086783bf1a3c3ab7bfe6f642e4028adc8b711"
   },
   "source": [
    "Tem muitas linhas missing, então vamos colocá-las em uma nova classe, substituindo por 0 e ver como fica o gráfico"
   ]
  },
  {
   "cell_type": "code",
   "execution_count": 12,
   "metadata": {
    "_cell_guid": "f1821696-1219-4211-9636-c4540d9e622a",
    "_uuid": "0f969a072c10e0dd07823fa8ba84ed16595c391d",
    "collapsed": true
   },
   "outputs": [],
   "source": [
    "train['Workclass'].fillna(' 0', inplace=True)\n",
    "test['Workclass'].fillna(' 0', inplace=True)"
   ]
  },
  {
   "cell_type": "code",
   "execution_count": 13,
   "metadata": {
    "_cell_guid": "995d6abb-3131-45f8-914b-155762d6cc3c",
    "_uuid": "d8d3de017f23115daca06a9e748f02f8e94eec20"
   },
   "outputs": [
    {
     "data": {
      "text/plain": [
       " Private             22696\n",
       " Self-emp-not-inc     2541\n",
       " Local-gov            2093\n",
       " 0                    1836\n",
       " State-gov            1298\n",
       " Self-emp-inc         1116\n",
       " Federal-gov           960\n",
       " Without-pay            14\n",
       " Never-worked            7\n",
       "Name: Workclass, dtype: int64"
      ]
     },
     "execution_count": 13,
     "metadata": {},
     "output_type": "execute_result"
    }
   ],
   "source": [
    "train['Workclass'].value_counts()"
   ]
  },
  {
   "cell_type": "markdown",
   "metadata": {
    "_cell_guid": "3b054226-b909-4f69-a581-a296d448a897",
    "_uuid": "dd4ff807e49ca2ee68869939241bf8a711cd5223"
   },
   "source": [
    "As categorias Never-worked e Without-pay tem poucas obs então vamos juntá-las"
   ]
  },
  {
   "cell_type": "code",
   "execution_count": 14,
   "metadata": {
    "_cell_guid": "2f836ce2-d849-468b-a0ae-dc6ad95abc7d",
    "_uuid": "6c0914daf28e89fd387c7c7afc1947f17dc980de",
    "collapsed": true
   },
   "outputs": [],
   "source": [
    "train['Workclass'].replace(' Without-pay', ' Never-worked', inplace=True)\n",
    "test['Workclass'].replace(' Without-pay', ' Never-worked', inplace=True)"
   ]
  },
  {
   "cell_type": "markdown",
   "metadata": {
    "_cell_guid": "43adeb81-92b3-4944-94dc-9f90a070b30b",
    "_uuid": "aca3f137e82cb3b74c83ca849cb21ae807cae501"
   },
   "source": [
    "### 3.4 fnlgwt"
   ]
  },
  {
   "cell_type": "code",
   "execution_count": 15,
   "metadata": {
    "_cell_guid": "12403787-7843-4d45-a0b6-a22878d29469",
    "_uuid": "724776faf94970471ec5f753f4a1c7a15a3be204"
   },
   "outputs": [
    {
     "data": {
      "text/plain": [
       "count    3.256100e+04\n",
       "mean     1.897784e+05\n",
       "std      1.055500e+05\n",
       "min      1.228500e+04\n",
       "25%      1.178270e+05\n",
       "50%      1.783560e+05\n",
       "75%      2.370510e+05\n",
       "max      1.484705e+06\n",
       "Name: fnlgwt, dtype: float64"
      ]
     },
     "execution_count": 15,
     "metadata": {},
     "output_type": "execute_result"
    }
   ],
   "source": [
    "train['fnlgwt'].describe()"
   ]
  },
  {
   "cell_type": "markdown",
   "metadata": {
    "_cell_guid": "e543e806-9b60-4a45-a13c-b505cf1497d3",
    "_uuid": "bb89efabe500e37d6897d017069335a32f0acf3d"
   },
   "source": [
    "A variável Fnlwgt tem números elevados e grande desvio padrão, vamos tomar um logaritmo dela"
   ]
  },
  {
   "cell_type": "code",
   "execution_count": 16,
   "metadata": {
    "_cell_guid": "35374a52-13ee-4f02-9895-8907c1c320e2",
    "_uuid": "29e48004d1f8c002f0460409bb0ea0b55fe50c8e",
    "collapsed": true
   },
   "outputs": [],
   "source": [
    "# poderia usar tb train['fnlgwt'] = train['fnlgwt'].apply(np.log1p)\n",
    "train['fnlgwt'] = train['fnlgwt'].apply(lambda x: np.log1p(x))\n",
    "test['fnlgwt'] = test['fnlgwt'].apply(lambda x: np.log1p(x))"
   ]
  },
  {
   "cell_type": "code",
   "execution_count": 17,
   "metadata": {
    "_cell_guid": "d6367a80-0ddf-4d42-9d53-85ff2874e1c2",
    "_uuid": "18aed5e8be121f4be949012208956a728288831e"
   },
   "outputs": [
    {
     "data": {
      "text/plain": [
       "count    32561.000000\n",
       "mean        11.983778\n",
       "std          0.630738\n",
       "min          9.416216\n",
       "25%         11.676981\n",
       "50%         12.091542\n",
       "75%         12.376035\n",
       "max         14.210727\n",
       "Name: fnlgwt, dtype: float64"
      ]
     },
     "execution_count": 17,
     "metadata": {},
     "output_type": "execute_result"
    }
   ],
   "source": [
    "train['fnlgwt'].describe()"
   ]
  },
  {
   "cell_type": "markdown",
   "metadata": {
    "_cell_guid": "e5f73d58-8f8b-412a-b113-b92b6f0e644e",
    "_uuid": "cca65f789aeb81eba03e816b0f1f36ecbd534836"
   },
   "source": [
    "### 3.5 Education"
   ]
  },
  {
   "cell_type": "markdown",
   "metadata": {
    "_cell_guid": "49a4aec3-48b9-4d52-b5be-68a35b404733",
    "_uuid": "6b97ed16d4b37649dc00a0fa647902587eff055e"
   },
   "source": [
    "A educação primária é dividada em grades:' 1st-4th', ' 5th-6th', ' 7th-8th', ' 9th', ' 10th', ' 11th', ' 12th'. <br>\n",
    "Por isso vamos juntar essas classes em uma nova classe - Primary"
   ]
  },
  {
   "cell_type": "code",
   "execution_count": 18,
   "metadata": {
    "_cell_guid": "3b277a06-05bb-4685-b337-aed6167112f3",
    "_uuid": "e8800bdbd79c4d1e53e2c40b883a86eed2d74490",
    "collapsed": true
   },
   "outputs": [],
   "source": [
    "def primary(x):\n",
    "    if x in [' 1st-4th', ' 5th-6th', ' 7th-8th', ' 9th', ' 10th', ' 11th', ' 12th']:\n",
    "        return ' Primary'\n",
    "    else:\n",
    "        return x"
   ]
  },
  {
   "cell_type": "code",
   "execution_count": 19,
   "metadata": {
    "_cell_guid": "79d7c7be-581e-4576-bea2-ab980c0c1243",
    "_uuid": "c8675f8d8b87d1923c2b8d78bd44596a080dcd89",
    "collapsed": true
   },
   "outputs": [],
   "source": [
    "train['Education'] = train['Education'].apply(primary)\n",
    "test['Education'] = test['Education'].apply(primary)"
   ]
  },
  {
   "cell_type": "code",
   "execution_count": 20,
   "metadata": {
    "_cell_guid": "8b9ceab0-315e-4de0-a8f5-788098ddbd4c",
    "_uuid": "9d1317363c5e05204ab97fcc9fe5510576d2693d"
   },
   "outputs": [
    {
     "data": {
      "image/png": "[encoded data removed]",
      "text/plain": [
       "<matplotlib.figure.Figure at 0x96f09b0>"
      ]
     },
     "metadata": {},
     "output_type": "display_data"
    }
   ],
   "source": [
    "sns.factorplot(x=\"Education\",y=\"Income\",data=train,kind=\"bar\", size = 6, \n",
    "palette = \"muted\")\n",
    "plt.xticks(rotation=60);"
   ]
  },
  {
   "cell_type": "markdown",
   "metadata": {
    "_cell_guid": "79140784-acde-43ce-9c5d-4f8ebac6d544",
    "_uuid": "32bb33ee93168bac378bcf35ee696d8ae89e0db0"
   },
   "source": [
    "### 3.6 Marital Status"
   ]
  },
  {
   "cell_type": "code",
   "execution_count": 21,
   "metadata": {
    "_cell_guid": "c554762f-b21a-40b2-9968-d708d2fc112e",
    "_uuid": "e7cd25833ec464eb5e7ea5519e1f7230d5036c94"
   },
   "outputs": [
    {
     "data": {
      "text/plain": [
       " Married-civ-spouse       14976\n",
       " Never-married            10683\n",
       " Divorced                  4443\n",
       " Separated                 1025\n",
       " Widowed                    993\n",
       " Married-spouse-absent      418\n",
       " Married-AF-spouse           23\n",
       "Name: Marital Status, dtype: int64"
      ]
     },
     "execution_count": 21,
     "metadata": {},
     "output_type": "execute_result"
    }
   ],
   "source": [
    "train['Marital Status'].value_counts()"
   ]
  },
  {
   "cell_type": "markdown",
   "metadata": {
    "_cell_guid": "216825eb-9391-4ff6-8c8c-7fd684bfc5fd",
    "_uuid": "2bfa6632b407c705379e2a88c670b9a3f288d396"
   },
   "source": [
    "Há poucas obs na categoria Married-AF-spouse. Então vamos juntá-la com a categoria Married-civ-spouse."
   ]
  },
  {
   "cell_type": "code",
   "execution_count": 22,
   "metadata": {
    "_cell_guid": "32f55ec2-4eb1-4709-a4e5-06167484a598",
    "_uuid": "afb67a947fd4b4f7faab95089dedf734b5752b0f",
    "collapsed": true
   },
   "outputs": [],
   "source": [
    "train['Marital Status'].replace(' Married-AF-spouse', ' Married-civ-spouse', inplace=True)\n",
    "test['Marital Status'].replace(' Married-AF-spouse', ' Married-civ-spouse', inplace=True)"
   ]
  },
  {
   "cell_type": "markdown",
   "metadata": {
    "_cell_guid": "c16e59ea-3fe6-4d6e-8fde-386dce237635",
    "_uuid": "27fa53e553fd5767a42013871646e53bf8fb911a"
   },
   "source": [
    "### 3.7 Occupation"
   ]
  },
  {
   "cell_type": "markdown",
   "metadata": {},
   "source": [
    "Tem muitas linhas missing, então vamos colocá-las em uma nova classe, substituindo por 0 e ver como fica o gráfico"
   ]
  },
  {
   "cell_type": "code",
   "execution_count": 23,
   "metadata": {
    "_cell_guid": "c77a1dd6-097a-4e96-8e66-feef948d491c",
    "_uuid": "0a30d301786065557dec5fc48e7090c8aa2a206f",
    "collapsed": true
   },
   "outputs": [],
   "source": [
    "train['Occupation'].fillna(' 0', inplace=True)\n",
    "test['Occupation'].fillna(' 0', inplace=True)"
   ]
  },
  {
   "cell_type": "code",
   "execution_count": 24,
   "metadata": {
    "_cell_guid": "f18860ee-97db-4dd1-9f0b-accaee7f6fd3",
    "_uuid": "9cc0cb16f325dc950198739bc5ec193de3422b6f",
    "scrolled": true
   },
   "outputs": [
    {
     "data": {
      "text/plain": [
       " Prof-specialty       4140\n",
       " Craft-repair         4099\n",
       " Exec-managerial      4066\n",
       " Adm-clerical         3770\n",
       " Sales                3650\n",
       " Other-service        3295\n",
       " Machine-op-inspct    2002\n",
       " 0                    1843\n",
       " Transport-moving     1597\n",
       " Handlers-cleaners    1370\n",
       " Farming-fishing       994\n",
       " Tech-support          928\n",
       " Protective-serv       649\n",
       " Priv-house-serv       149\n",
       " Armed-Forces            9\n",
       "Name: Occupation, dtype: int64"
      ]
     },
     "execution_count": 24,
     "metadata": {},
     "output_type": "execute_result"
    }
   ],
   "source": [
    "train['Occupation'].value_counts()"
   ]
  },
  {
   "cell_type": "markdown",
   "metadata": {
    "_cell_guid": "b45743a1-d8c6-469e-9af3-b80b0457e34f",
    "_uuid": "e20f5a92b644a764226cb3915721586ad2867504"
   },
   "source": [
    "A categoria Armed-Forces tem poucas observações, então vamos juntá-la com a categoria 0"
   ]
  },
  {
   "cell_type": "code",
   "execution_count": 25,
   "metadata": {
    "_cell_guid": "97b014c3-dfe1-4167-9e30-0aac76ffca3c",
    "_uuid": "ad44f1e94fabee2dcac386dce2b190777e01a4da",
    "collapsed": true
   },
   "outputs": [],
   "source": [
    "train['Occupation'].replace(' Armed-Forces', ' 0', inplace=True)\n",
    "test['Occupation'].replace(' Armed-Forces', ' 0', inplace=True)"
   ]
  },
  {
   "cell_type": "markdown",
   "metadata": {
    "_cell_guid": "a8ee1f0c-2fe5-43ee-8493-8c03997994d6",
    "_uuid": "bab2cdfefde06ec3d5620f6cc75dcd55647f217c"
   },
   "source": [
    "### 3.8 Native country "
   ]
  },
  {
   "cell_type": "markdown",
   "metadata": {},
   "source": [
    "Tem algumas linhas missing, então vamos colocá-las em uma nova classe, substituindo por 0 e ver como fica o gráfico"
   ]
  },
  {
   "cell_type": "code",
   "execution_count": 26,
   "metadata": {
    "_cell_guid": "30913212-e65e-4234-a1a9-82307125cd15",
    "_uuid": "4b3e0ba704659e6a5b02e94557fb8f328eee9154",
    "collapsed": true
   },
   "outputs": [],
   "source": [
    "train['Native country'].fillna(' 0', inplace=True)\n",
    "test['Native country'].fillna(' 0', inplace=True)"
   ]
  },
  {
   "cell_type": "markdown",
   "metadata": {
    "_cell_guid": "b549123c-9fc4-42bf-8116-666eaeefe63e",
    "_uuid": "b093393dfb2d71568b2448adc522afd6abdd902d"
   },
   "source": [
    "Vamos agrupar essas categorias."
   ]
  },
  {
   "cell_type": "code",
   "execution_count": 27,
   "metadata": {
    "_cell_guid": "454c0b9d-5348-431e-9da6-3abca0d5f0d0",
    "_uuid": "820e7872e5e7deb742cfb9bb93e37ee2ceccd2e3",
    "collapsed": true
   },
   "outputs": [],
   "source": [
    "def native(country):\n",
    "    if country in [' United-States', ' Cuba', ' 0']:\n",
    "        return 'US'\n",
    "    elif country in [' England', ' Germany', ' Canada', ' Italy', ' France', ' Greece', ' Philippines']:\n",
    "        return 'Western'\n",
    "    elif country in [' Mexico', ' Puerto-Rico', ' Honduras', ' Jamaica', ' Columbia', ' Laos', ' Portugal', ' Haiti',\n",
    "                     ' Dominican-Republic', ' El-Salvador', ' Guatemala', ' Peru', \n",
    "                     ' Trinadad&Tobago', ' Outlying-US(Guam-USVI-etc)', ' Nicaragua', ' Vietnam', ' Holand-Netherlands' ]:\n",
    "        return 'Poor' \n",
    "    elif country in [' India', ' Iran', ' Cambodia', ' Taiwan', ' Japan', ' Yugoslavia', ' China', ' Hong']:\n",
    "        return 'Eastern'\n",
    "    elif country in [' South', ' Poland', ' Ireland', ' Hungary', ' Scotland', ' Thailand', ' Ecuador']:\n",
    "        return 'Poland team'\n",
    "    \n",
    "    else: \n",
    "        return country    "
   ]
  },
  {
   "cell_type": "code",
   "execution_count": 28,
   "metadata": {
    "_cell_guid": "c327b433-7587-42bc-be90-3b69e298b7d0",
    "_uuid": "60b838f3968facca02c9516a33c0b98a5143c3a8",
    "collapsed": true
   },
   "outputs": [],
   "source": [
    "train['Native country'] = train['Native country'].apply(native)\n",
    "test['Native country'] = test['Native country'].apply(native)"
   ]
  },
  {
   "cell_type": "code",
   "execution_count": 29,
   "metadata": {
    "_cell_guid": "e53fa207-cd9e-4402-9e56-bd9688c3548e",
    "_uuid": "28f811979ca3e6440378ff643728389c261380f2"
   },
   "outputs": [
    {
     "data": {
      "text/plain": [
       "US             29848\n",
       "Poor            1415\n",
       "Western          677\n",
       "Eastern          386\n",
       "Poland team      235\n",
       "Name: Native country, dtype: int64"
      ]
     },
     "execution_count": 29,
     "metadata": {},
     "output_type": "execute_result"
    }
   ],
   "source": [
    "train['Native country'].value_counts()"
   ]
  },
  {
   "cell_type": "markdown",
   "metadata": {
    "_cell_guid": "b693d9ca-29e1-4082-8e3b-89d94fa742cd",
    "_uuid": "b11ee5d40519b9f84ec22c910d579caea92f2e71"
   },
   "source": [
    "### 3.9 Criando Dummys para as variáveis categóricas"
   ]
  },
  {
   "cell_type": "markdown",
   "metadata": {
    "_cell_guid": "ffef248c-214b-4b45-b7f8-05df2ad4925d",
    "_uuid": "b033aef5b53ac393eaec632186c774938d384820"
   },
   "source": [
    "Agora precisamos criar dummys para as variáveis categóricas usando o pd.get_dummies(). <br>\n",
    "Como esse método pode causar alguns problemas, mesclarmos os conjuntos de dados. Isso garante que as dimensões para ambos os conjuntos de dados sejam iguais às dos conjuntos de dados de treinamento e teste."
   ]
  },
  {
   "cell_type": "code",
   "execution_count": 30,
   "metadata": {
    "_cell_guid": "b6a7a0fd-1013-4273-aafe-6689d54074a1",
    "_uuid": "2b6d65462f680d145916fcd4b9057f135f55747d",
    "collapsed": true
   },
   "outputs": [],
   "source": [
    "#merge datasets\n",
    "joint = pd.concat([train, test], axis=0)\n",
    "# Renaming certain columns for better readability\n",
    "joint = joint.rename(columns={'Education num': 'Education_num', 'Marital Status': 'Marital', 'Capital Gain': 'Capital_Gain',\n",
    "                              'Capital Loss': 'Capital_Loss',   'Hours/Week': 'Hours_Week',  'Native country': 'Country'\n",
    "                                                })"
   ]
  },
  {
   "cell_type": "code",
   "execution_count": 31,
   "metadata": {
    "_cell_guid": "525cd5ec-17f2-4c25-8a07-89c594d64fc8",
    "_uuid": "57a74825249a144bdeb6acec4039f91559c77b10",
    "scrolled": false
   },
   "outputs": [
    {
     "name": "stdout",
     "output_type": "stream",
     "text": [
      "Workclass 8\n",
      "Education 10\n",
      "Marital 6\n",
      "Occupation 14\n",
      "Relationship 6\n",
      "Race 5\n",
      "Sex 2\n",
      "Country 5\n"
     ]
    }
   ],
   "source": [
    "#list of columns with dtype: object\n",
    "#axes[1] coluna\n",
    "#axes[0] linha\n",
    "categorical_features = joint.select_dtypes(include=['object']).axes[1] # retorna as vars que são do tipo objeto\n",
    "\n",
    "# unique: retorna os valores únicos\n",
    "# nunique: retorna o número de valores únicos\n",
    "for col in categorical_features:\n",
    "    print (col, joint[col].nunique()) # retorna as vars que são do tipo objeto e a quantidade de categorias em cada uma delas"
   ]
  },
  {
   "cell_type": "code",
   "execution_count": 32,
   "metadata": {
    "_cell_guid": "5c64f48a-a3ec-4918-9794-fbe9287c0fd5",
    "_uuid": "8110d73345f22085c35184cfbfa053eff9124416",
    "collapsed": true
   },
   "outputs": [],
   "source": [
    "#criando dummys para as variáveis categoricas\n",
    "for col in categorical_features:\n",
    "    joint = pd.concat([joint, pd.get_dummies(joint[col], prefix=col, prefix_sep='_')], axis=1)\n",
    "    joint.drop(col, axis=1, inplace=True)"
   ]
  },
  {
   "cell_type": "code",
   "execution_count": 33,
   "metadata": {
    "collapsed": true
   },
   "outputs": [],
   "source": [
    "# renomeando as variáveis\n",
    "new_columns = {}\n",
    "for i in joint.columns:\n",
    "    new_column = i.replace(\" \", \"\")\n",
    "    new_column = new_column.replace(\"-\", \"_\")\n",
    "    new_columns[i] = new_column\n",
    "\n",
    "joint = joint.rename(columns=new_columns)"
   ]
  },
  {
   "cell_type": "markdown",
   "metadata": {
    "_cell_guid": "58a12f06-5ffc-4f95-b445-df2f248ffbbe",
    "_uuid": "c326860ba9cbe200b508af0ce8769b41d26d25f0"
   },
   "source": [
    "Separando novamente a base em treinamento e teste."
   ]
  },
  {
   "cell_type": "code",
   "execution_count": 34,
   "metadata": {
    "_cell_guid": "148e24dc-0bda-45b7-9e37-8a4897fa9984",
    "_uuid": "38a86c0194a8b2ff179bc775a4dd68dc90c5a2a7",
    "collapsed": true
   },
   "outputs": [],
   "source": [
    "train = joint.head(train.shape[0])\n",
    "test = joint.tail(test.shape[0])"
   ]
  },
  {
   "cell_type": "markdown",
   "metadata": {
    "_cell_guid": "e761bb22-08fd-45f2-9b9f-846388186765",
    "_uuid": "f6ea7a7add55dbdeedb5714118bb247e08273baf"
   },
   "source": [
    "Dividindo o data frame em inputs e target"
   ]
  },
  {
   "cell_type": "code",
   "execution_count": 35,
   "metadata": {
    "_cell_guid": "f0c7f381-f86e-4aed-947e-1284fcb14c75",
    "_uuid": "e7d9bfed3685ad7835bf5152c2cc7ce442dabc52",
    "collapsed": true
   },
   "outputs": [],
   "source": [
    "Xtrain = train.drop('Income', axis=1)\n",
    "Ttrain = train['Income']\n",
    "\n",
    "Xtest = test.drop('Income', axis=1)\n",
    "Ttest = test['Income']\n"
   ]
  },
  {
   "cell_type": "markdown",
   "metadata": {
    "_cell_guid": "a0030fa1-9e7f-4b9b-8423-e99425edfdc0",
    "_uuid": "7533887d132cf0c05bed06efa6f774771227d848"
   },
   "source": [
    "## 4: Ajustando um modelo de Regressão Logística usando sklearn"
   ]
  },
  {
   "cell_type": "code",
   "execution_count": 36,
   "metadata": {
    "_cell_guid": "94ee7e77-f1b1-4cc3-abbf-f5db8860e8ce",
    "_uuid": "355e170bffd21137c3fc9b6c0d6fceb5893952e4"
   },
   "outputs": [
    {
     "name": "stderr",
     "output_type": "stream",
     "text": [
      "C:\\ProgramData\\Anaconda3\\lib\\site-packages\\statsmodels\\compat\\pandas.py:56: FutureWarning: The pandas.core.datetools module is deprecated and will be removed in a future version. Please use the pandas.tseries module instead.\n",
      "  from pandas.core import datetools\n"
     ]
    }
   ],
   "source": [
    "from sklearn.linear_model import LogisticRegression\n",
    "from sklearn.metrics import classification_report\n",
    "from sklearn.model_selection import train_test_split\n",
    "from sklearn.metrics import accuracy_score, classification_report, precision_score, recall_score, confusion_matrix, precision_recall_curve\n",
    "from sklearn.metrics import roc_auc_score\n",
    "from sklearn.metrics import classification_report\n",
    "from sklearn.metrics import roc_curve, auc\n",
    "import statsmodels.api as sm\n",
    "import pylab as pl\n",
    "\n"
   ]
  },
  {
   "cell_type": "code",
   "execution_count": 37,
   "metadata": {
    "_cell_guid": "5fd5caa5-90c5-41cc-b9d0-53a4080703d8",
    "_uuid": "51d5c8d96e5a67f75ae65ff86151c02d1827c85a",
    "collapsed": true
   },
   "outputs": [],
   "source": [
    "model = LogisticRegression()\n",
    "# ajustando o modelo\n",
    "model.fit(Xtrain, Ttrain)\n",
    "# previsão na base de teste\n",
    "Ytest = model.predict(Xtest)\n"
   ]
  },
  {
   "cell_type": "markdown",
   "metadata": {},
   "source": [
    "### 4.1 Calculando Matriz de Confusão, AUC, precision e recall para base de teste"
   ]
  },
  {
   "cell_type": "code",
   "execution_count": 38,
   "metadata": {
    "_cell_guid": "49a9285e-96f3-4b19-ba03-dc61adaf19a8",
    "_uuid": "4447e3d054f327cd861c8694ed4826fbb754f97f"
   },
   "outputs": [
    {
     "name": "stdout",
     "output_type": "stream",
     "text": [
      "\n",
      "\n",
      " ---Matriz de Confusão---\n",
      "[[11574   861]\n",
      " [ 1572  2274]]\n",
      "\n",
      "\n",
      " ---Logistic Model---\n",
      "Logistic AUC = 0.76\n",
      "             precision    recall  f1-score   support\n",
      "\n",
      "          0       0.88      0.93      0.90     12435\n",
      "          1       0.73      0.59      0.65      3846\n",
      "\n",
      "avg / total       0.84      0.85      0.85     16281\n",
      "\n"
     ]
    }
   ],
   "source": [
    "cnf_matrix = confusion_matrix(Ttest, Ytest)\n",
    "print (\"\\n\\n ---Matriz de Confusão---\")\n",
    "print(cnf_matrix)\n",
    "print (\"\\n\\n ---Logistic Model---\")\n",
    "logit_roc_auc = roc_auc_score(Ttest, model.predict(Xtest))\n",
    "print (\"Logistic AUC = %2.2f\" % logit_roc_auc)\n",
    "print(classification_report(Ttest, Ytest))"
   ]
  },
  {
   "cell_type": "markdown",
   "metadata": {},
   "source": [
    "### 4.2 Plotando a curva ROC para cada possível ponto de corte"
   ]
  },
  {
   "cell_type": "code",
   "execution_count": 39,
   "metadata": {},
   "outputs": [
    {
     "data": {
      "image/png": "[encoded data removed]",
      "text/plain": [
       "<matplotlib.figure.Figure at 0xd282d30>"
      ]
     },
     "metadata": {},
     "output_type": "display_data"
    }
   ],
   "source": [
    "# Plotando o curva ROC para a base de teste\n",
    "fpr, tpr, thresholds = roc_curve(Ttest, model.predict_proba(Xtest)[:,1])\n",
    "plt.plot(fpr, tpr, label='Test(LR = %0.2f)' % logit_roc_auc)\n",
    "\n",
    "plt.xlim([0.0, 1.0])\n",
    "plt.ylim([0.0, 1.05])\n",
    "plt.xlabel('False Positive Rate')\n",
    "plt.ylabel('True Positive Rate')\n",
    "plt.title('ROC Graph')\n",
    "plt.legend(loc=\"lower right\")\n",
    "plt.show()"
   ]
  },
  {
   "cell_type": "markdown",
   "metadata": {},
   "source": [
    "## 5. Matriz de Custo e Curva de Lucro"
   ]
  },
  {
   "cell_type": "markdown",
   "metadata": {},
   "source": [
    "### 5.1 Entendendo o uso da matriz de custo"
   ]
  },
  {
   "cell_type": "markdown",
   "metadata": {},
   "source": [
    "A ideia do modelo é prever se a pessoa tem renda <=50k(0) ou renda >50K(1) e que varíáveis influenciam nesta renda. <br>\n",
    "Para as pessoas previstas com renda >50K (previstas como 1) vamos oferecer um produto específico para esse publico de alta renda\n",
    "O custo da campanha de marketing para oferecer esse produto para o cliente é 100 reais, mas se o cliente compra o produto ganhamos 500 reais. <br>\n",
    "Com essas informações conseguimos definir a matriz de custo/benefício"
   ]
  },
  {
   "cell_type": "code",
   "execution_count": 40,
   "metadata": {},
   "outputs": [
    {
     "data": {
      "text/plain": [
       "array([[   0, -100],\n",
       "       [   0,  400]])"
      ]
     },
     "execution_count": 40,
     "metadata": {},
     "output_type": "execute_result"
    }
   ],
   "source": [
    "# Matriz de Custo\n",
    "'''Cost of FP: 1, cost of FN: 2, cost of TN: 0, cost of TP: -1'''\n",
    "cost_TP = 400; cost_FP = -100; cost_FN = 0; cost_TN = 0;\n",
    "cb_matrix = np.array([[cost_TN, cost_FP],[cost_FN, cost_TP]])\n",
    "cb_matrix"
   ]
  },
  {
   "cell_type": "markdown",
   "metadata": {},
   "source": [
    "### 5.2 Calculando o lucro"
   ]
  },
  {
   "cell_type": "code",
   "execution_count": 41,
   "metadata": {
    "collapsed": true
   },
   "outputs": [],
   "source": [
    "# Calcula a probabilidade para a base de teste\n",
    "predict_prob = model.predict_proba(Xtest)[:,1]\n",
    "# Cria um data frame com a probabilidade predita e a y_real\n",
    "df = pd.DataFrame( {\"predict_prob\":predict_prob, \"true_value\":Ttest} )\n",
    "# Ordena o data frame df pela prob predita\n",
    "df.sort_values(by=\"predict_prob\", inplace=True)"
   ]
  },
  {
   "cell_type": "code",
   "execution_count": 42,
   "metadata": {},
   "outputs": [
    {
     "name": "stdout",
     "output_type": "stream",
     "text": [
      "823500\n"
     ]
    }
   ],
   "source": [
    "# Defini um ponto de corte para o cálculo do lucro\n",
    "p = 0.5\n",
    "label_p = df.predict_prob >= p    \n",
    "counf = confusion_matrix(df.true_value, label_p)\n",
    "lucro = (counf * cb_matrix).sum()\n",
    "print(lucro)"
   ]
  },
  {
   "cell_type": "code",
   "execution_count": 43,
   "metadata": {},
   "outputs": [
    {
     "name": "stdout",
     "output_type": "stream",
     "text": [
      "996100\n"
     ]
    }
   ],
   "source": [
    "# e se eu definir outro ponto de corte\n",
    "p = 0.3\n",
    "label_p = df.predict_prob >= p    \n",
    "counf = confusion_matrix(df.true_value, label_p)\n",
    "lucro = (counf * cb_matrix).sum()\n",
    "print(lucro)"
   ]
  },
  {
   "cell_type": "markdown",
   "metadata": {},
   "source": [
    "### 5.3 Como podemos fazer para encontrar o ponto de corte ótimo, ou seja, o que retorno o maior lucro"
   ]
  },
  {
   "cell_type": "code",
   "execution_count": 44,
   "metadata": {
    "collapsed": true
   },
   "outputs": [],
   "source": [
    "#Calcula o lucro para \"cada\" ponto de corte \n",
    "predict_prob = model.predict_proba(Xtest)[:,1]\n",
    "df = pd.DataFrame( {\"predict_prob\":predict_prob, \"true_value\":Ttest} )\n",
    "df.sort_values(by=\"predict_prob\", inplace=True)\n",
    "\n",
    "def profit_gain(predict_prob, true_value, p_step):\n",
    "    lucro = []\n",
    "    p=[0]\n",
    "    while p[-1]+p_step<=1:\n",
    "        label_p = (df.predict_prob >= p[-1]).astype(int)    \n",
    "        counf = confusion_matrix(df.true_value, label_p)\n",
    "        lucro.append( (counf * cb_matrix).sum() )\n",
    "        p.append(p[-1]+p_step)\n",
    "    return lucro, p"
   ]
  },
  {
   "cell_type": "code",
   "execution_count": 45,
   "metadata": {
    "collapsed": true
   },
   "outputs": [],
   "source": [
    "array_lucro, p = profit_gain(df.predict_prob, df.true_value, 0.1 )"
   ]
  },
  {
   "cell_type": "code",
   "execution_count": 46,
   "metadata": {},
   "outputs": [
    {
     "name": "stdout",
     "output_type": "stream",
     "text": [
      "[294900, 1001300, 1044400, 996100, 924300, 823500, 708400, 549400, 368700, 233300]\n",
      "[0, 0.1, 0.2, 0.30000000000000004, 0.4, 0.5, 0.6, 0.7, 0.7999999999999999, 0.8999999999999999, 0.9999999999999999]\n"
     ]
    }
   ],
   "source": [
    "print(array_lucro)\n",
    "print(p)"
   ]
  },
  {
   "cell_type": "markdown",
   "metadata": {},
   "source": [
    "## 6. Agora vamos tornar o processo mais automatico"
   ]
  },
  {
   "cell_type": "markdown",
   "metadata": {},
   "source": [
    "### 6.1 Vamos ajustar alguns modelos para classificação"
   ]
  },
  {
   "cell_type": "code",
   "execution_count": 47,
   "metadata": {
    "collapsed": true
   },
   "outputs": [],
   "source": [
    "# Carregando pacotes necessários\n",
    "from sklearn.linear_model import LogisticRegression as LR\n",
    "from sklearn.ensemble import RandomForestClassifier as RF\n",
    "from sklearn.ensemble import GradientBoostingClassifier as GBC"
   ]
  },
  {
   "cell_type": "code",
   "execution_count": 48,
   "metadata": {
    "collapsed": true
   },
   "outputs": [],
   "source": [
    "model_1 = LR()\n",
    "model_1.fit(Xtrain, Ttrain)\n",
    "\n",
    "model_2 = RF()\n",
    "model_2.fit(Xtrain, Ttrain)\n",
    "\n",
    "model_3 = GBC()\n",
    "model_3.fit(Xtrain, Ttrain)\n",
    "\n",
    "models = model_1, model_2, model_3"
   ]
  },
  {
   "cell_type": "markdown",
   "metadata": {},
   "source": [
    "### 6.2 Definir funções para: \n",
    "- Calcular o lucro em cada ponto de corte \n",
    "- Plotar a curva de lucro versus o ponto de corte ótimo"
   ]
  },
  {
   "cell_type": "code",
   "execution_count": 49,
   "metadata": {
    "collapsed": true
   },
   "outputs": [],
   "source": [
    "#Calcula o locro para \"cada\" ponto de corte e depois plota o lucro versus a probabilidade\n",
    "def profit_gain(predict_prob, true_value, p_step):\n",
    "    df = pd.DataFrame( {\"predict_prob\":predict_prob, \"true_value\":true_value} )\n",
    "    df.sort_values(by=\"predict_prob\", inplace=True)\n",
    "    lucro = []\n",
    "    p=[0]\n",
    "    while p[-1]<=1:\n",
    "        label_p = (df.predict_prob >= p[-1]).astype(int)    \n",
    "        counf = confusion_matrix(df.true_value, label_p)\n",
    "        lucro.append( (counf * cb_matrix).sum() )\n",
    "        p.append(p[-1]+p_step)\n",
    "    return lucro, p\n",
    "\n",
    "def plot_profit( predict_prob, true_value, p_step ):\n",
    "    array_lucro, p = profit_gain( predict_prob, true_value, p_step )\n",
    "    plt.plot(p[:-1], array_lucro)\n",
    "    return None\n",
    "\n",
    "def multi_plot( models, X, y_true, p_step):\n",
    "    for i in models:\n",
    "        predict_prob = i.predict_proba( X )[:,1]\n",
    "        plot_profit( predict_prob, y_true, p_step )\n",
    "    plt.legend([i.__class__.__name__ for i in models])\n",
    "    plt.show()"
   ]
  },
  {
   "cell_type": "markdown",
   "metadata": {},
   "source": [
    "### 6.3 PLotar a curva de lucro para os modelos ajustados"
   ]
  },
  {
   "cell_type": "code",
   "execution_count": 50,
   "metadata": {},
   "outputs": [
    {
     "data": {
      "image/png": "[encoded data removed]",
      "text/plain": [
       "<matplotlib.figure.Figure at 0xd416cf8>"
      ]
     },
     "metadata": {},
     "output_type": "display_data"
    }
   ],
   "source": [
    "multi_plot( models=models, X=Xtest, y_true=Ttest, p_step=0.01)"
   ]
  },
  {
   "cell_type": "code",
   "execution_count": 51,
   "metadata": {},
   "outputs": [
    {
     "data": {
      "image/png": "[encoded data removed]",
      "text/plain": [
       "<matplotlib.figure.Figure at 0xd4af400>"
      ]
     },
     "metadata": {},
     "output_type": "display_data"
    }
   ],
   "source": [
    "# Plotando curva ROC para todos os modelos\n",
    "fpr1, tpr1, thresholds1 = roc_curve(Ttest, model_1.predict_proba(Xtest)[:,1])\n",
    "logit_roc_auc1 = roc_auc_score(Ttest, model_1.predict(Xtest))\n",
    "plt.plot(fpr1, tpr1, label='Test_LR(area = %0.2f)' % logit_roc_auc1)\n",
    "#\n",
    "fpr2, tpr2, thresholds2 = roc_curve(Ttest, model_2.predict_proba(Xtest)[:,1])\n",
    "logit_roc_auc2 = roc_auc_score(Ttest, model_2.predict(Xtest))\n",
    "plt.plot(fpr2, tpr2, label='Test_RF(area = %0.2f)' % logit_roc_auc)\n",
    "#\n",
    "fpr3, tpr3, thresholds3 = roc_curve(Ttest, model_3.predict_proba(Xtest)[:,1])\n",
    "logit_roc_auc3 = roc_auc_score(Ttest, model_3.predict(Xtest))\n",
    "plt.plot(fpr3, tpr3, label='Test_GBC(area = %0.2f)' % logit_roc_auc)\n",
    "\n",
    "plt.xlim([0.0, 1.0])\n",
    "plt.ylim([0.0, 1.05])\n",
    "plt.xlabel('False Positive Rate')\n",
    "plt.ylabel('True Positive Rate')\n",
    "plt.title('ROC Graph')\n",
    "plt.legend(loc=\"lower right\")\n",
    "plt.show()"
   ]
  },
  {
   "cell_type": "markdown",
   "metadata": {
    "collapsed": true
   },
   "source": [
    "Referências <br>\n",
    "- https://www.kaggle.com/kost13/us-income-logistic-regression\n",
    "- http://planspace.org/20150423-forward_selection_with_statsmodels/"
   ]
  }
 ],
 "metadata": {
  "kernelspec": {
   "display_name": "Python 3",
   "language": "python",
   "name": "python3"
  },
  "language_info": {
   "codemirror_mode": {
    "name": "ipython",
    "version": 3
   },
   "file_extension": ".py",
   "mimetype": "text/x-python",
   "name": "python",
   "nbconvert_exporter": "python",
   "pygments_lexer": "ipython3",
   "version": "3.6.3"
  }
 },
 "nbformat": 4,
 "nbformat_minor": 1
}

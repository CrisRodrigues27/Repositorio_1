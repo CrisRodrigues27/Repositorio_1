{
 "cells": [
  {
   "cell_type": "markdown",
   "metadata": {},
   "source": [
    "# DESAFIO - Aula_17: Regressão Logística"
   ]
  },
  {
   "cell_type": "markdown",
   "metadata": {},
   "source": [
    "Base de Dados <br>\n",
    "Link: https://raw.githubusercontent.com/madmashup/targeted-marketing-predictive-engine/master/banking.csv <br>\n",
    "Resumo: O conjunto de dados está relacionado a campanhas de marketing direto (chamadas telefônicas) de uma instituição bancária portuguesa. A variável resposta (y) é binária e indica se o cliente subscreveu um depósito a prazo (1-Sim, 0-Não). <br>\n",
    "Objetivo: Ajustar um modelo de regressão logística, em uma base de treinamento, para a resposta binária, fazer a previsão desta resposta e avaliar a qualidade de ajuste do modelo em uma base de teste.\n"
   ]
  },
  {
   "cell_type": "markdown",
   "metadata": {
    "_cell_guid": "8db8ec39-0419-4989-a9cc-90cc4c08c35b",
    "_uuid": "321134977aaf497b0d1e99e10652480fa1ffcea2"
   },
   "source": [
    "## Importando os Dados"
   ]
  },
  {
   "cell_type": "code",
   "execution_count": 6,
   "metadata": {
    "_cell_guid": "b3c7994c-c402-4a78-a65f-d44fe4f6f375",
    "_kg_hide-input": false,
    "_uuid": "2d3d846b4daf6c81aaef2026dd4411c02e6f84a0"
   },
   "outputs": [
    {
     "name": "stdout",
     "output_type": "stream",
     "text": [
      "(41188, 7)\n"
     ]
    }
   ],
   "source": [
    "import pandas as pd\n",
    "pd.set_option('display.max_columns', 500)\n",
    "import numpy as np\n",
    "from sklearn import preprocessing\n",
    "import matplotlib.pyplot as plt \n",
    "plt.rc(\"font\", size=14)\n",
    "from sklearn.linear_model import LogisticRegression\n",
    "from sklearn.cross_validation import train_test_split\n",
    "import seaborn as sns\n",
    "sns.set(style=\"white\")\n",
    "sns.set(style=\"whitegrid\", color_codes=True)\n",
    "\n",
    "data = pd.read_csv('C:/Users/crrodr/Desktop/Tera - Data Science/Bases para exemplos-exercicios/Regressao_Logistica/bank/banking.csv',header=0)\n",
    "#drop na\n",
    "data = data.dropna()\n",
    "lista = ('age','education','contact','month','day_of_week','duration',\n",
    "        'campaign','pdays','previous','emp_var_rate','cons_price_idx','cons_conf_idx', \n",
    "        'euribor3m','nr_employed')\n",
    "#exclui algumas variáveis da análise\n",
    "for col in lista:\n",
    "    data.drop(col, axis=1, inplace=True)\n",
    "print(data.shape)"
   ]
  },
  {
   "cell_type": "markdown",
   "metadata": {},
   "source": [
    "O conjunto de dados fornece a informação dos clientes do banco. Inclui 41,188 registros e 16 variáveis."
   ]
  },
  {
   "cell_type": "code",
   "execution_count": 7,
   "metadata": {
    "_cell_guid": "1ebefc56-485c-441f-be5d-caba6ad546a0",
    "_uuid": "7bbac22afe972c60cc5dcf164d681faca6a2d8ac",
    "scrolled": false
   },
   "outputs": [
    {
     "data": {
      "text/html": [
       "<div>\n",
       "<style>\n",
       "    .dataframe thead tr:only-child th {\n",
       "        text-align: right;\n",
       "    }\n",
       "\n",
       "    .dataframe thead th {\n",
       "        text-align: left;\n",
       "    }\n",
       "\n",
       "    .dataframe tbody tr th {\n",
       "        vertical-align: top;\n",
       "    }\n",
       "</style>\n",
       "<table border=\"1\" class=\"dataframe\">\n",
       "  <thead>\n",
       "    <tr style=\"text-align: right;\">\n",
       "      <th></th>\n",
       "      <th>job</th>\n",
       "      <th>marital</th>\n",
       "      <th>default</th>\n",
       "      <th>housing</th>\n",
       "      <th>loan</th>\n",
       "      <th>poutcome</th>\n",
       "      <th>y</th>\n",
       "    </tr>\n",
       "  </thead>\n",
       "  <tbody>\n",
       "    <tr>\n",
       "      <th>0</th>\n",
       "      <td>blue-collar</td>\n",
       "      <td>married</td>\n",
       "      <td>unknown</td>\n",
       "      <td>yes</td>\n",
       "      <td>no</td>\n",
       "      <td>nonexistent</td>\n",
       "      <td>0</td>\n",
       "    </tr>\n",
       "    <tr>\n",
       "      <th>1</th>\n",
       "      <td>technician</td>\n",
       "      <td>married</td>\n",
       "      <td>no</td>\n",
       "      <td>no</td>\n",
       "      <td>no</td>\n",
       "      <td>nonexistent</td>\n",
       "      <td>0</td>\n",
       "    </tr>\n",
       "    <tr>\n",
       "      <th>2</th>\n",
       "      <td>management</td>\n",
       "      <td>single</td>\n",
       "      <td>no</td>\n",
       "      <td>yes</td>\n",
       "      <td>no</td>\n",
       "      <td>success</td>\n",
       "      <td>1</td>\n",
       "    </tr>\n",
       "    <tr>\n",
       "      <th>3</th>\n",
       "      <td>services</td>\n",
       "      <td>married</td>\n",
       "      <td>no</td>\n",
       "      <td>no</td>\n",
       "      <td>no</td>\n",
       "      <td>nonexistent</td>\n",
       "      <td>0</td>\n",
       "    </tr>\n",
       "    <tr>\n",
       "      <th>4</th>\n",
       "      <td>retired</td>\n",
       "      <td>married</td>\n",
       "      <td>no</td>\n",
       "      <td>yes</td>\n",
       "      <td>no</td>\n",
       "      <td>success</td>\n",
       "      <td>1</td>\n",
       "    </tr>\n",
       "  </tbody>\n",
       "</table>\n",
       "</div>"
      ],
      "text/plain": [
       "           job  marital  default housing loan     poutcome  y\n",
       "0  blue-collar  married  unknown     yes   no  nonexistent  0\n",
       "1   technician  married       no      no   no  nonexistent  0\n",
       "2   management   single       no     yes   no      success  1\n",
       "3     services  married       no      no   no  nonexistent  0\n",
       "4      retired  married       no     yes   no      success  1"
      ]
     },
     "execution_count": 7,
     "metadata": {},
     "output_type": "execute_result"
    }
   ],
   "source": [
    "data.head()"
   ]
  },
  {
   "cell_type": "markdown",
   "metadata": {
    "_cell_guid": "ca577964-8356-4b4f-8009-57c5c21aa51f",
    "_uuid": "2d0e63d8dcd66f0f72d6f65233c320ca9840a3a5",
    "scrolled": true
   },
   "source": [
    "Variáveis Input <br>\n",
    "- job: tipo de trabalho: “admin”, “blue-collar”, “entrepreneur”, “housemaid”, “management”, “retired”, “self-employed”, “services”, “student”, “technician”, “unemployed”, “unknown” <br>\n",
    "- marital: estado civil: “divorced”, “married”, “single”, “unknown” <br>\n",
    "- default: tem credito em default?: “no”, “yes”, “unknown” <br>\n",
    "- housing: tem emprestimo imobiliário?: “no”, “yes”, “unknown” <br>\n",
    "- loan: tem emprestimo pessoal?: “no”, “yes”, “unknown” <br>\n",
    "- poutcome: resultado da campanha de marketing anterior: “failure”, “nonexistent”, “success”) <br>\n",
    "\n",
    "As variáveis input abaixo não serão utilizadas na análise\n",
    "- campaign: número de contatos realizados durante esta campanha e para este cliente <br>\n",
    "- pdays: número de dias que passaram desde a última ves que o cliente foi contactado por uma campanha anterior: 999 significa que o cliente nunca foi contactado <br>\n",
    "- previous: número de contatos realizados antes desta campanha e para este cliente (numeric) <br>\n",
    "- emp.var.rate: Taxa de variação do emprego <br>\n",
    "- cons.price.idx: índice de preços do consumidor — (numeric) <br>\n",
    "- cons.conf.idx: índice de confiança do consumidor — (numeric) <br>\n",
    "- euribor3m: euribor taxa de 3 meses — (numeric) <br>\n",
    "- nr.employed: número de funcionários — (numeric) <br>\n",
    "\n",
    "Variável target <br>\n",
    "- y: o cliente subscreveu um depósito a prazo: \"1\", significa \"Sim\", \"0\" significa \"Não\""
   ]
  },
  {
   "cell_type": "markdown",
   "metadata": {
    "_cell_guid": "ec4d5159-2bd1-4383-8c96-1a378f5c1b23",
    "_uuid": "08f83972554476f03e75c00970367f46452b42c0"
   },
   "source": [
    "# Parte_1: Tratando os dados"
   ]
  },
  {
   "cell_type": "markdown",
   "metadata": {
    "_cell_guid": "2096221b-88a1-4558-b7d8-ee21c056b130",
    "_uuid": "eca6ef331b4d47364b1844affc54d4ffc3048bf4"
   },
   "source": [
    "- ## Var resposta"
   ]
  },
  {
   "cell_type": "markdown",
   "metadata": {
    "_cell_guid": "885d99a7-1656-4c5e-90be-e15b97766fe8",
    "_uuid": "823aeafc3ca8ede27011f5beddad0c1c87efd260"
   },
   "source": [
    "Transformando a variável Income-Renda em 0's and 1's"
   ]
  },
  {
   "cell_type": "code",
   "execution_count": 8,
   "metadata": {
    "_cell_guid": "04dec68c-f9db-42bd-9b8d-878cbf5b2c05",
    "_uuid": "52d410e203ae97ca32b997cd0d10d296d2f63928"
   },
   "outputs": [
    {
     "data": {
      "image/png": "[encoded data removed]",
      "text/plain": [
       "<matplotlib.figure.Figure at 0xc5b8208>"
      ]
     },
     "metadata": {},
     "output_type": "display_data"
    }
   ],
   "source": [
    "# grafico de barras para a variável dependente\n",
    "sns.countplot(x='y',data=data, palette='hls')\n",
    "plt.show()"
   ]
  },
  {
   "cell_type": "markdown",
   "metadata": {},
   "source": [
    "A proporção de 1's é de aproximandamente 14%"
   ]
  },
  {
   "cell_type": "markdown",
   "metadata": {
    "_cell_guid": "034833de-e837-4c9e-81a9-b1d56b895f15",
    "_uuid": "a6fedc55a325add259597425b310f85ccda513f4"
   },
   "source": [
    "- ## Verificando valores missing"
   ]
  },
  {
   "cell_type": "code",
   "execution_count": 9,
   "metadata": {
    "_cell_guid": "ab849813-536c-474a-95e5-215ae2749458",
    "_uuid": "c9932893baa3d9bde9bb3b92eca40472c3b6fd6a"
   },
   "outputs": [
    {
     "data": {
      "text/plain": [
       "job         0\n",
       "marital     0\n",
       "default     0\n",
       "housing     0\n",
       "loan        0\n",
       "poutcome    0\n",
       "y           0\n",
       "dtype: int64"
      ]
     },
     "execution_count": 9,
     "metadata": {},
     "output_type": "execute_result"
    }
   ],
   "source": [
    "data.isnull().sum()"
   ]
  },
  {
   "cell_type": "markdown",
   "metadata": {
    "_cell_guid": "75a1c801-c9f7-4fcc-93fa-50e346ade08a",
    "_uuid": "d4d76fcc375f3947c17c6364a945b4915edd8574"
   },
   "source": [
    "Não há dados missing na base de análise"
   ]
  },
  {
   "cell_type": "markdown",
   "metadata": {
    "_cell_guid": "5e44634b-d192-4442-8de7-1a24ce200475",
    "_uuid": "97cb96247a0520939272c7e2b2da67bd53ede896"
   },
   "source": [
    "- ## job: trabalho do cliente"
   ]
  },
  {
   "cell_type": "markdown",
   "metadata": {
    "_cell_guid": "98eb40cc-f8aa-48e0-ba52-26c0bc89d78b",
    "_uuid": "530086783bf1a3c3ab7bfe6f642e4028adc8b711"
   },
   "source": [
    "Tem muitas linhas missing, então vamos colocá-las em uma nova classe, substituindo por 0 e ver como fica o gráfico"
   ]
  },
  {
   "cell_type": "code",
   "execution_count": 10,
   "metadata": {
    "_cell_guid": "f1821696-1219-4211-9636-c4540d9e622a",
    "_uuid": "0f969a072c10e0dd07823fa8ba84ed16595c391d"
   },
   "outputs": [
    {
     "data": {
      "image/png": "[encoded data removed]",
      "text/plain": [
       "<matplotlib.figure.Figure at 0x5dca320>"
      ]
     },
     "metadata": {},
     "output_type": "display_data"
    }
   ],
   "source": [
    "# grafico de barras para a variável customer job \n",
    "sns.countplot(y='job',data=data)\n",
    "plt.show()\n",
    "#há muitas categorias: vamos agrupar as classes que tem menos obs"
   ]
  },
  {
   "cell_type": "code",
   "execution_count": 11,
   "metadata": {
    "collapsed": true
   },
   "outputs": [],
   "source": [
    "# unindo as categorias de trabalho, para depois não criar muitas dummys\n",
    "def agrupa(job):\n",
    "    if job in ['blue-collar']:\n",
    "        return 'blue_collar'\n",
    "    elif job in ['technician']:\n",
    "        return 'technician'\n",
    "    elif job in ['admin.']:\n",
    "        return 'admin' \n",
    "    elif job in ['management']:\n",
    "        return 'management'\n",
    "    elif job in ['services']:\n",
    "        return 'services'\n",
    "    \n",
    "    else: \n",
    "        return 'other'    "
   ]
  },
  {
   "cell_type": "code",
   "execution_count": 12,
   "metadata": {
    "collapsed": true
   },
   "outputs": [],
   "source": [
    "data['job'] = data['job'].apply(agrupa)"
   ]
  },
  {
   "cell_type": "code",
   "execution_count": 13,
   "metadata": {},
   "outputs": [
    {
     "data": {
      "image/png": "[encoded data removed]",
      "text/plain": [
       "<matplotlib.figure.Figure at 0xc7bf2b0>"
      ]
     },
     "metadata": {},
     "output_type": "display_data"
    }
   ],
   "source": [
    "# grafico de barras para a variável customer job \n",
    "sns.countplot(y='job',data=data)\n",
    "plt.show()"
   ]
  },
  {
   "cell_type": "markdown",
   "metadata": {
    "_cell_guid": "43adeb81-92b3-4944-94dc-9f90a070b30b",
    "_uuid": "aca3f137e82cb3b74c83ca849cb21ae807cae501"
   },
   "source": [
    "- ## Marital: estado civil"
   ]
  },
  {
   "cell_type": "code",
   "execution_count": 14,
   "metadata": {
    "_cell_guid": "12403787-7843-4d45-a0b6-a22878d29469",
    "_uuid": "724776faf94970471ec5f753f4a1c7a15a3be204"
   },
   "outputs": [
    {
     "data": {
      "image/png": "[encoded data removed]",
      "text/plain": [
       "<matplotlib.figure.Figure at 0xc6806a0>"
      ]
     },
     "metadata": {},
     "output_type": "display_data"
    }
   ],
   "source": [
    "sns.countplot(x='marital',data=data)\n",
    "plt.show()"
   ]
  },
  {
   "cell_type": "markdown",
   "metadata": {
    "_cell_guid": "e543e806-9b60-4a45-a13c-b505cf1497d3",
    "_uuid": "bb89efabe500e37d6897d017069335a32f0acf3d"
   },
   "source": [
    "A categoria unknown tem poucas obs - vamos juntá-la com a cat divorced"
   ]
  },
  {
   "cell_type": "code",
   "execution_count": 15,
   "metadata": {
    "collapsed": true
   },
   "outputs": [],
   "source": [
    "def agrupa1(marital):\n",
    "    if marital in ['unknown']:\n",
    "        return 'divorced'\n",
    "    else: \n",
    "        return marital   "
   ]
  },
  {
   "cell_type": "code",
   "execution_count": 16,
   "metadata": {
    "collapsed": true
   },
   "outputs": [],
   "source": [
    "data['marital'] = data['marital'].apply(agrupa1)"
   ]
  },
  {
   "cell_type": "code",
   "execution_count": 17,
   "metadata": {},
   "outputs": [
    {
     "data": {
      "image/png": "[encoded data removed]",
      "text/plain": [
       "<matplotlib.figure.Figure at 0xc7c7c88>"
      ]
     },
     "metadata": {},
     "output_type": "display_data"
    }
   ],
   "source": [
    "sns.countplot(x='marital',data=data)\n",
    "plt.show()"
   ]
  },
  {
   "cell_type": "markdown",
   "metadata": {
    "_cell_guid": "e5f73d58-8f8b-412a-b113-b92b6f0e644e",
    "_uuid": "cca65f789aeb81eba03e816b0f1f36ecbd534836"
   },
   "source": [
    "- ## Default - crédito em default"
   ]
  },
  {
   "cell_type": "code",
   "execution_count": 18,
   "metadata": {
    "_cell_guid": "f84db673-af02-4587-90ad-5c794dfee3e4",
    "_uuid": "9c29a000c4247d323358660baad7d24accdd79d2"
   },
   "outputs": [
    {
     "data": {
      "image/png": "[encoded data removed]",
      "text/plain": [
       "<matplotlib.figure.Figure at 0xcb89550>"
      ]
     },
     "metadata": {},
     "output_type": "display_data"
    }
   ],
   "source": [
    "sns.countplot(x='default',data=data)\n",
    "plt.show()"
   ]
  },
  {
   "cell_type": "markdown",
   "metadata": {},
   "source": [
    "A categoria yes tem poucas obs - vamos juntá-la com a cat unknown"
   ]
  },
  {
   "cell_type": "code",
   "execution_count": 19,
   "metadata": {
    "collapsed": true
   },
   "outputs": [],
   "source": [
    "def agrupa2(default):\n",
    "    if default in ['yes']:\n",
    "        return 'unknown'\n",
    "    else: \n",
    "        return default   "
   ]
  },
  {
   "cell_type": "code",
   "execution_count": 20,
   "metadata": {
    "collapsed": true
   },
   "outputs": [],
   "source": [
    "data['default'] = data['default'].apply(agrupa2)"
   ]
  },
  {
   "cell_type": "code",
   "execution_count": 21,
   "metadata": {},
   "outputs": [
    {
     "data": {
      "image/png": "[encoded data removed]",
      "text/plain": [
       "<matplotlib.figure.Figure at 0xcde08d0>"
      ]
     },
     "metadata": {},
     "output_type": "display_data"
    }
   ],
   "source": [
    "sns.countplot(x='default',data=data)\n",
    "plt.show()"
   ]
  },
  {
   "cell_type": "markdown",
   "metadata": {
    "_cell_guid": "cde9658b-bc7b-46e3-ab70-046ecac0eb44",
    "_uuid": "2e74d27ac8dcff2619da0d07cf14985e74df9cbc"
   },
   "source": [
    "- ## housing: emprestimo imobiliario"
   ]
  },
  {
   "cell_type": "code",
   "execution_count": 22,
   "metadata": {
    "_cell_guid": "0612a765-858a-4f7d-adc8-ac56358e0a04",
    "_uuid": "c7d4f1f29d71427bdae3a96b95f98601aee3e427"
   },
   "outputs": [
    {
     "data": {
      "image/png": "[encoded data removed]",
      "text/plain": [
       "<matplotlib.figure.Figure at 0xc7d0240>"
      ]
     },
     "metadata": {},
     "output_type": "display_data"
    }
   ],
   "source": [
    "sns.countplot(x='housing',data=data)\n",
    "plt.show()"
   ]
  },
  {
   "cell_type": "markdown",
   "metadata": {},
   "source": [
    "Está tudo OK"
   ]
  },
  {
   "cell_type": "markdown",
   "metadata": {
    "_cell_guid": "79140784-acde-43ce-9c5d-4f8ebac6d544",
    "_uuid": "32bb33ee93168bac378bcf35ee696d8ae89e0db0"
   },
   "source": [
    "- ## loan: emprestimo pessoal"
   ]
  },
  {
   "cell_type": "code",
   "execution_count": 23,
   "metadata": {
    "_cell_guid": "225cae7f-7400-47b1-9c8e-37a9c9945676",
    "_uuid": "b7f7ef4d6ec855a4e869807698e6007fe3a9ec18"
   },
   "outputs": [
    {
     "data": {
      "image/png": "[encoded data removed]",
      "text/plain": [
       "<matplotlib.figure.Figure at 0xce4a710>"
      ]
     },
     "metadata": {},
     "output_type": "display_data"
    }
   ],
   "source": [
    "sns.countplot(x='loan',data=data)\n",
    "plt.show()"
   ]
  },
  {
   "cell_type": "markdown",
   "metadata": {
    "_cell_guid": "216825eb-9391-4ff6-8c8c-7fd684bfc5fd",
    "_uuid": "2bfa6632b407c705379e2a88c670b9a3f288d396"
   },
   "source": [
    "Está tudo OK"
   ]
  },
  {
   "cell_type": "markdown",
   "metadata": {
    "_cell_guid": "c16e59ea-3fe6-4d6e-8fde-386dce237635",
    "_uuid": "27fa53e553fd5767a42013871646e53bf8fb911a"
   },
   "source": [
    "- ## poutcome: resultado da campanha de marketing anterior"
   ]
  },
  {
   "cell_type": "code",
   "execution_count": 24,
   "metadata": {
    "_cell_guid": "c77a1dd6-097a-4e96-8e66-feef948d491c",
    "_uuid": "0a30d301786065557dec5fc48e7090c8aa2a206f"
   },
   "outputs": [
    {
     "data": {
      "image/png": "[encoded data removed]",
      "text/plain": [
       "<matplotlib.figure.Figure at 0xce64048>"
      ]
     },
     "metadata": {},
     "output_type": "display_data"
    }
   ],
   "source": [
    "sns.countplot(x='poutcome',data=data)\n",
    "plt.show()"
   ]
  },
  {
   "cell_type": "markdown",
   "metadata": {
    "_cell_guid": "b45743a1-d8c6-469e-9af3-b80b0457e34f",
    "_uuid": "e20f5a92b644a764226cb3915721586ad2867504"
   },
   "source": [
    "Está tudo OK"
   ]
  },
  {
   "cell_type": "code",
   "execution_count": null,
   "metadata": {
    "collapsed": true
   },
   "outputs": [],
   "source": []
  },
  {
   "cell_type": "markdown",
   "metadata": {
    "_cell_guid": "b693d9ca-29e1-4082-8e3b-89d94fa742cd",
    "_uuid": "b11ee5d40519b9f84ec22c910d579caea92f2e71"
   },
   "source": [
    "- ## Criando Dummys"
   ]
  },
  {
   "cell_type": "markdown",
   "metadata": {
    "_cell_guid": "ffef248c-214b-4b45-b7f8-05df2ad4925d",
    "_uuid": "b033aef5b53ac393eaec632186c774938d384820"
   },
   "source": [
    "Crie variáveis dummy, que são variáveis com apenas dois valores, zero e um. <br>\n",
    "Nos modelos de regressão logística, a codificação de todas as variáveis independentes-categoricas como variáveis dummy permite uma fácil interpretação e cálculo da odds ratios e aumenta a estabilidade e a importância dos coeficientes."
   ]
  },
  {
   "cell_type": "code",
   "execution_count": 25,
   "metadata": {},
   "outputs": [
    {
     "data": {
      "text/plain": [
       "job         object\n",
       "marital     object\n",
       "default     object\n",
       "housing     object\n",
       "loan        object\n",
       "poutcome    object\n",
       "y            int64\n",
       "dtype: object"
      ]
     },
     "execution_count": 25,
     "metadata": {},
     "output_type": "execute_result"
    }
   ],
   "source": [
    "data.dtypes"
   ]
  },
  {
   "cell_type": "code",
   "execution_count": 26,
   "metadata": {
    "_cell_guid": "525cd5ec-17f2-4c25-8a07-89c594d64fc8",
    "_uuid": "57a74825249a144bdeb6acec4039f91559c77b10",
    "scrolled": false
   },
   "outputs": [
    {
     "name": "stdout",
     "output_type": "stream",
     "text": [
      "job 6\n",
      "marital 3\n",
      "default 2\n",
      "housing 3\n",
      "loan 3\n",
      "poutcome 3\n"
     ]
    }
   ],
   "source": [
    "#list of columns with dtype: object\n",
    "#axes[1] coluna\n",
    "#axes[0] linha\n",
    "categorical_features = data.select_dtypes(include=['object']).axes[1] # retorna as vars que são do tipo objeto\n",
    "\n",
    "# unique: retorna os valores únicos\n",
    "# nunique: retorna o número de valores únicos\n",
    "for col in categorical_features:\n",
    "    print (col, data[col].nunique()) # retorna as vars que são do tipo objeto e a quantidade de categorias em cada uma delas"
   ]
  },
  {
   "cell_type": "code",
   "execution_count": 27,
   "metadata": {
    "_cell_guid": "5c64f48a-a3ec-4918-9794-fbe9287c0fd5",
    "_uuid": "8110d73345f22085c35184cfbfa053eff9124416",
    "collapsed": true
   },
   "outputs": [],
   "source": [
    "#criando dummys para as variáveis categoricas\n",
    "for col in categorical_features:\n",
    "    data = pd.concat([data, pd.get_dummies(data[col], prefix=col, prefix_sep='_')], axis=1)\n",
    "    data.drop(col, axis=1, inplace=True)"
   ]
  },
  {
   "cell_type": "code",
   "execution_count": 28,
   "metadata": {},
   "outputs": [
    {
     "data": {
      "text/plain": [
       "Index(['y', 'job_admin', 'job_blue_collar', 'job_management', 'job_other',\n",
       "       'job_services', 'job_technician', 'marital_divorced', 'marital_married',\n",
       "       'marital_single', 'default_no', 'default_unknown', 'housing_no',\n",
       "       'housing_unknown', 'housing_yes', 'loan_no', 'loan_unknown', 'loan_yes',\n",
       "       'poutcome_failure', 'poutcome_nonexistent', 'poutcome_success'],\n",
       "      dtype='object')"
      ]
     },
     "execution_count": 28,
     "metadata": {},
     "output_type": "execute_result"
    }
   ],
   "source": [
    "data.columns"
   ]
  },
  {
   "cell_type": "code",
   "execution_count": 29,
   "metadata": {},
   "outputs": [
    {
     "data": {
      "text/html": [
       "<div>\n",
       "<style>\n",
       "    .dataframe thead tr:only-child th {\n",
       "        text-align: right;\n",
       "    }\n",
       "\n",
       "    .dataframe thead th {\n",
       "        text-align: left;\n",
       "    }\n",
       "\n",
       "    .dataframe tbody tr th {\n",
       "        vertical-align: top;\n",
       "    }\n",
       "</style>\n",
       "<table border=\"1\" class=\"dataframe\">\n",
       "  <thead>\n",
       "    <tr style=\"text-align: right;\">\n",
       "      <th></th>\n",
       "      <th>y</th>\n",
       "      <th>job_admin</th>\n",
       "      <th>job_blue_collar</th>\n",
       "      <th>job_management</th>\n",
       "      <th>job_other</th>\n",
       "      <th>job_services</th>\n",
       "      <th>job_technician</th>\n",
       "      <th>marital_divorced</th>\n",
       "      <th>marital_married</th>\n",
       "      <th>marital_single</th>\n",
       "      <th>default_no</th>\n",
       "      <th>default_unknown</th>\n",
       "      <th>housing_no</th>\n",
       "      <th>housing_unknown</th>\n",
       "      <th>housing_yes</th>\n",
       "      <th>loan_no</th>\n",
       "      <th>loan_unknown</th>\n",
       "      <th>loan_yes</th>\n",
       "      <th>poutcome_failure</th>\n",
       "      <th>poutcome_nonexistent</th>\n",
       "      <th>poutcome_success</th>\n",
       "    </tr>\n",
       "  </thead>\n",
       "  <tbody>\n",
       "    <tr>\n",
       "      <th>0</th>\n",
       "      <td>0</td>\n",
       "      <td>0</td>\n",
       "      <td>1</td>\n",
       "      <td>0</td>\n",
       "      <td>0</td>\n",
       "      <td>0</td>\n",
       "      <td>0</td>\n",
       "      <td>0</td>\n",
       "      <td>1</td>\n",
       "      <td>0</td>\n",
       "      <td>0</td>\n",
       "      <td>1</td>\n",
       "      <td>0</td>\n",
       "      <td>0</td>\n",
       "      <td>1</td>\n",
       "      <td>1</td>\n",
       "      <td>0</td>\n",
       "      <td>0</td>\n",
       "      <td>0</td>\n",
       "      <td>1</td>\n",
       "      <td>0</td>\n",
       "    </tr>\n",
       "    <tr>\n",
       "      <th>1</th>\n",
       "      <td>0</td>\n",
       "      <td>0</td>\n",
       "      <td>0</td>\n",
       "      <td>0</td>\n",
       "      <td>0</td>\n",
       "      <td>0</td>\n",
       "      <td>1</td>\n",
       "      <td>0</td>\n",
       "      <td>1</td>\n",
       "      <td>0</td>\n",
       "      <td>1</td>\n",
       "      <td>0</td>\n",
       "      <td>1</td>\n",
       "      <td>0</td>\n",
       "      <td>0</td>\n",
       "      <td>1</td>\n",
       "      <td>0</td>\n",
       "      <td>0</td>\n",
       "      <td>0</td>\n",
       "      <td>1</td>\n",
       "      <td>0</td>\n",
       "    </tr>\n",
       "    <tr>\n",
       "      <th>2</th>\n",
       "      <td>1</td>\n",
       "      <td>0</td>\n",
       "      <td>0</td>\n",
       "      <td>1</td>\n",
       "      <td>0</td>\n",
       "      <td>0</td>\n",
       "      <td>0</td>\n",
       "      <td>0</td>\n",
       "      <td>0</td>\n",
       "      <td>1</td>\n",
       "      <td>1</td>\n",
       "      <td>0</td>\n",
       "      <td>0</td>\n",
       "      <td>0</td>\n",
       "      <td>1</td>\n",
       "      <td>1</td>\n",
       "      <td>0</td>\n",
       "      <td>0</td>\n",
       "      <td>0</td>\n",
       "      <td>0</td>\n",
       "      <td>1</td>\n",
       "    </tr>\n",
       "    <tr>\n",
       "      <th>3</th>\n",
       "      <td>0</td>\n",
       "      <td>0</td>\n",
       "      <td>0</td>\n",
       "      <td>0</td>\n",
       "      <td>0</td>\n",
       "      <td>1</td>\n",
       "      <td>0</td>\n",
       "      <td>0</td>\n",
       "      <td>1</td>\n",
       "      <td>0</td>\n",
       "      <td>1</td>\n",
       "      <td>0</td>\n",
       "      <td>1</td>\n",
       "      <td>0</td>\n",
       "      <td>0</td>\n",
       "      <td>1</td>\n",
       "      <td>0</td>\n",
       "      <td>0</td>\n",
       "      <td>0</td>\n",
       "      <td>1</td>\n",
       "      <td>0</td>\n",
       "    </tr>\n",
       "    <tr>\n",
       "      <th>4</th>\n",
       "      <td>1</td>\n",
       "      <td>0</td>\n",
       "      <td>0</td>\n",
       "      <td>0</td>\n",
       "      <td>1</td>\n",
       "      <td>0</td>\n",
       "      <td>0</td>\n",
       "      <td>0</td>\n",
       "      <td>1</td>\n",
       "      <td>0</td>\n",
       "      <td>1</td>\n",
       "      <td>0</td>\n",
       "      <td>0</td>\n",
       "      <td>0</td>\n",
       "      <td>1</td>\n",
       "      <td>1</td>\n",
       "      <td>0</td>\n",
       "      <td>0</td>\n",
       "      <td>0</td>\n",
       "      <td>0</td>\n",
       "      <td>1</td>\n",
       "    </tr>\n",
       "  </tbody>\n",
       "</table>\n",
       "</div>"
      ],
      "text/plain": [
       "   y  job_admin  job_blue_collar  job_management  job_other  job_services  \\\n",
       "0  0          0                1               0          0             0   \n",
       "1  0          0                0               0          0             0   \n",
       "2  1          0                0               1          0             0   \n",
       "3  0          0                0               0          0             1   \n",
       "4  1          0                0               0          1             0   \n",
       "\n",
       "   job_technician  marital_divorced  marital_married  marital_single  \\\n",
       "0               0                 0                1               0   \n",
       "1               1                 0                1               0   \n",
       "2               0                 0                0               1   \n",
       "3               0                 0                1               0   \n",
       "4               0                 0                1               0   \n",
       "\n",
       "   default_no  default_unknown  housing_no  housing_unknown  housing_yes  \\\n",
       "0           0                1           0                0            1   \n",
       "1           1                0           1                0            0   \n",
       "2           1                0           0                0            1   \n",
       "3           1                0           1                0            0   \n",
       "4           1                0           0                0            1   \n",
       "\n",
       "   loan_no  loan_unknown  loan_yes  poutcome_failure  poutcome_nonexistent  \\\n",
       "0        1             0         0                 0                     1   \n",
       "1        1             0         0                 0                     1   \n",
       "2        1             0         0                 0                     0   \n",
       "3        1             0         0                 0                     1   \n",
       "4        1             0         0                 0                     0   \n",
       "\n",
       "   poutcome_success  \n",
       "0                 0  \n",
       "1                 0  \n",
       "2                 1  \n",
       "3                 0  \n",
       "4                 1  "
      ]
     },
     "execution_count": 29,
     "metadata": {},
     "output_type": "execute_result"
    }
   ],
   "source": [
    "data.head()"
   ]
  },
  {
   "cell_type": "markdown",
   "metadata": {},
   "source": [
    "# Parte_2: Correlação"
   ]
  },
  {
   "cell_type": "markdown",
   "metadata": {},
   "source": [
    "- ## Correlação entre as variáveis input"
   ]
  },
  {
   "cell_type": "code",
   "execution_count": 30,
   "metadata": {},
   "outputs": [
    {
     "data": {
      "image/png": "[encoded data removed]",
      "text/plain": [
       "<matplotlib.figure.Figure at 0xd4ee7f0>"
      ]
     },
     "metadata": {},
     "output_type": "display_data"
    }
   ],
   "source": [
    "data1 = data.drop('y', axis=1)\n",
    "sns.heatmap(data1.corr())\n",
    "plt.show()"
   ]
  },
  {
   "cell_type": "markdown",
   "metadata": {},
   "source": [
    "As variáveis input não aparentam alta correlação, desta maneira podemos seguir com todas as variáveis para a análise"
   ]
  },
  {
   "cell_type": "markdown",
   "metadata": {
    "_cell_guid": "e761bb22-08fd-45f2-9b9f-846388186765",
    "_uuid": "f6ea7a7add55dbdeedb5714118bb247e08273baf"
   },
   "source": [
    "## Parte_3: Dividindo a base em train e test"
   ]
  },
  {
   "cell_type": "code",
   "execution_count": 31,
   "metadata": {
    "_cell_guid": "f0c7f381-f86e-4aed-947e-1284fcb14c75",
    "_uuid": "e7d9bfed3685ad7835bf5152c2cc7ce442dabc52",
    "collapsed": true
   },
   "outputs": [],
   "source": [
    "X = data.iloc[:,1:]\n",
    "y = data.iloc[:,0]\n",
    "X_train, X_test, y_train, y_test = train_test_split(X, y, test_size=0.25, random_state=1234)"
   ]
  },
  {
   "cell_type": "code",
   "execution_count": 32,
   "metadata": {},
   "outputs": [
    {
     "name": "stdout",
     "output_type": "stream",
     "text": [
      "(30891, 20) (10297, 20)\n"
     ]
    }
   ],
   "source": [
    "print(X_train.shape, X_test.shape)"
   ]
  },
  {
   "cell_type": "markdown",
   "metadata": {},
   "source": [
    "## Parte_4: Metodo de seleção de variáveis forward"
   ]
  },
  {
   "cell_type": "code",
   "execution_count": 33,
   "metadata": {
    "collapsed": true
   },
   "outputs": [],
   "source": [
    "#Metodo de seleção de variáveis forward usando statsmodels\n",
    "import statsmodels.formula.api as smf\n",
    "def forward_selected(data, response):\n",
    "    \"\"\"Linear model designed by forward selection.\n",
    "\n",
    "    Parameters:\n",
    "    -----------\n",
    "    data : pandas DataFrame with all possible predictors and response\n",
    "\n",
    "    response: string, name of response column in data\n",
    "\n",
    "    Returns:\n",
    "    --------\n",
    "    model: an \"optimal\" fitted statsmodels linear model\n",
    "           with an intercept\n",
    "           selected by forward selection\n",
    "           evaluated by adjusted R-squared\n",
    "    \"\"\"\n",
    "    remaining = set(data.columns)\n",
    "    remaining.remove(response)\n",
    "    selected = []\n",
    "    current_score, best_new_score = 0.0, 0.0\n",
    "    while remaining and current_score == best_new_score:\n",
    "        scores_with_candidates = []\n",
    "        for candidate in remaining:\n",
    "            formula = \"{} ~ {} + 1\".format(response,\n",
    "                                           ' + '.join(selected + [candidate]))\n",
    "            score = smf.ols(formula, data).fit().rsquared_adj\n",
    "            scores_with_candidates.append((score, candidate))\n",
    "        scores_with_candidates.sort()\n",
    "        best_new_score, best_candidate = scores_with_candidates.pop()\n",
    "        if current_score < best_new_score:\n",
    "            remaining.remove(best_candidate)\n",
    "            selected.append(best_candidate)\n",
    "            current_score = best_new_score\n",
    "    formula = \"{} ~ {} + 1\".format(response,\n",
    "                                   ' + '.join(selected))\n",
    "    model = smf.ols(formula, data).fit()\n",
    "    return model"
   ]
  },
  {
   "cell_type": "code",
   "execution_count": 34,
   "metadata": {},
   "outputs": [
    {
     "data": {
      "text/html": [
       "<div>\n",
       "<style>\n",
       "    .dataframe thead tr:only-child th {\n",
       "        text-align: right;\n",
       "    }\n",
       "\n",
       "    .dataframe thead th {\n",
       "        text-align: left;\n",
       "    }\n",
       "\n",
       "    .dataframe tbody tr th {\n",
       "        vertical-align: top;\n",
       "    }\n",
       "</style>\n",
       "<table border=\"1\" class=\"dataframe\">\n",
       "  <thead>\n",
       "    <tr style=\"text-align: right;\">\n",
       "      <th></th>\n",
       "      <th>job_admin</th>\n",
       "      <th>job_blue_collar</th>\n",
       "      <th>job_management</th>\n",
       "      <th>job_other</th>\n",
       "      <th>job_services</th>\n",
       "      <th>job_technician</th>\n",
       "      <th>marital_divorced</th>\n",
       "      <th>marital_married</th>\n",
       "      <th>marital_single</th>\n",
       "      <th>default_no</th>\n",
       "      <th>default_unknown</th>\n",
       "      <th>housing_no</th>\n",
       "      <th>housing_unknown</th>\n",
       "      <th>housing_yes</th>\n",
       "      <th>loan_no</th>\n",
       "      <th>loan_unknown</th>\n",
       "      <th>loan_yes</th>\n",
       "      <th>poutcome_failure</th>\n",
       "      <th>poutcome_nonexistent</th>\n",
       "      <th>poutcome_success</th>\n",
       "      <th>Income</th>\n",
       "    </tr>\n",
       "  </thead>\n",
       "  <tbody>\n",
       "    <tr>\n",
       "      <th>36814</th>\n",
       "      <td>0</td>\n",
       "      <td>0</td>\n",
       "      <td>0</td>\n",
       "      <td>0</td>\n",
       "      <td>0</td>\n",
       "      <td>1</td>\n",
       "      <td>0</td>\n",
       "      <td>1</td>\n",
       "      <td>0</td>\n",
       "      <td>1</td>\n",
       "      <td>0</td>\n",
       "      <td>1</td>\n",
       "      <td>0</td>\n",
       "      <td>0</td>\n",
       "      <td>0</td>\n",
       "      <td>0</td>\n",
       "      <td>1</td>\n",
       "      <td>0</td>\n",
       "      <td>1</td>\n",
       "      <td>0</td>\n",
       "      <td>0</td>\n",
       "    </tr>\n",
       "    <tr>\n",
       "      <th>33401</th>\n",
       "      <td>0</td>\n",
       "      <td>1</td>\n",
       "      <td>0</td>\n",
       "      <td>0</td>\n",
       "      <td>0</td>\n",
       "      <td>0</td>\n",
       "      <td>0</td>\n",
       "      <td>1</td>\n",
       "      <td>0</td>\n",
       "      <td>1</td>\n",
       "      <td>0</td>\n",
       "      <td>0</td>\n",
       "      <td>0</td>\n",
       "      <td>1</td>\n",
       "      <td>1</td>\n",
       "      <td>0</td>\n",
       "      <td>0</td>\n",
       "      <td>1</td>\n",
       "      <td>0</td>\n",
       "      <td>0</td>\n",
       "      <td>1</td>\n",
       "    </tr>\n",
       "    <tr>\n",
       "      <th>33887</th>\n",
       "      <td>1</td>\n",
       "      <td>0</td>\n",
       "      <td>0</td>\n",
       "      <td>0</td>\n",
       "      <td>0</td>\n",
       "      <td>0</td>\n",
       "      <td>0</td>\n",
       "      <td>1</td>\n",
       "      <td>0</td>\n",
       "      <td>1</td>\n",
       "      <td>0</td>\n",
       "      <td>1</td>\n",
       "      <td>0</td>\n",
       "      <td>0</td>\n",
       "      <td>1</td>\n",
       "      <td>0</td>\n",
       "      <td>0</td>\n",
       "      <td>1</td>\n",
       "      <td>0</td>\n",
       "      <td>0</td>\n",
       "      <td>0</td>\n",
       "    </tr>\n",
       "    <tr>\n",
       "      <th>20236</th>\n",
       "      <td>0</td>\n",
       "      <td>0</td>\n",
       "      <td>0</td>\n",
       "      <td>0</td>\n",
       "      <td>0</td>\n",
       "      <td>1</td>\n",
       "      <td>0</td>\n",
       "      <td>0</td>\n",
       "      <td>1</td>\n",
       "      <td>0</td>\n",
       "      <td>1</td>\n",
       "      <td>0</td>\n",
       "      <td>0</td>\n",
       "      <td>1</td>\n",
       "      <td>1</td>\n",
       "      <td>0</td>\n",
       "      <td>0</td>\n",
       "      <td>0</td>\n",
       "      <td>1</td>\n",
       "      <td>0</td>\n",
       "      <td>0</td>\n",
       "    </tr>\n",
       "    <tr>\n",
       "      <th>30971</th>\n",
       "      <td>1</td>\n",
       "      <td>0</td>\n",
       "      <td>0</td>\n",
       "      <td>0</td>\n",
       "      <td>0</td>\n",
       "      <td>0</td>\n",
       "      <td>0</td>\n",
       "      <td>1</td>\n",
       "      <td>0</td>\n",
       "      <td>1</td>\n",
       "      <td>0</td>\n",
       "      <td>0</td>\n",
       "      <td>0</td>\n",
       "      <td>1</td>\n",
       "      <td>1</td>\n",
       "      <td>0</td>\n",
       "      <td>0</td>\n",
       "      <td>0</td>\n",
       "      <td>1</td>\n",
       "      <td>0</td>\n",
       "      <td>0</td>\n",
       "    </tr>\n",
       "  </tbody>\n",
       "</table>\n",
       "</div>"
      ],
      "text/plain": [
       "       job_admin  job_blue_collar  job_management  job_other  job_services  \\\n",
       "36814          0                0               0          0             0   \n",
       "33401          0                1               0          0             0   \n",
       "33887          1                0               0          0             0   \n",
       "20236          0                0               0          0             0   \n",
       "30971          1                0               0          0             0   \n",
       "\n",
       "       job_technician  marital_divorced  marital_married  marital_single  \\\n",
       "36814               1                 0                1               0   \n",
       "33401               0                 0                1               0   \n",
       "33887               0                 0                1               0   \n",
       "20236               1                 0                0               1   \n",
       "30971               0                 0                1               0   \n",
       "\n",
       "       default_no  default_unknown  housing_no  housing_unknown  housing_yes  \\\n",
       "36814           1                0           1                0            0   \n",
       "33401           1                0           0                0            1   \n",
       "33887           1                0           1                0            0   \n",
       "20236           0                1           0                0            1   \n",
       "30971           1                0           0                0            1   \n",
       "\n",
       "       loan_no  loan_unknown  loan_yes  poutcome_failure  \\\n",
       "36814        0             0         1                 0   \n",
       "33401        1             0         0                 1   \n",
       "33887        1             0         0                 1   \n",
       "20236        1             0         0                 0   \n",
       "30971        1             0         0                 0   \n",
       "\n",
       "       poutcome_nonexistent  poutcome_success  Income  \n",
       "36814                     1                 0       0  \n",
       "33401                     0                 0       1  \n",
       "33887                     0                 0       0  \n",
       "20236                     1                 0       0  \n",
       "30971                     1                 0       0  "
      ]
     },
     "execution_count": 34,
     "metadata": {},
     "output_type": "execute_result"
    }
   ],
   "source": [
    "X1 = pd.concat([X_train,y_train], axis=1)\n",
    "X1.rename(columns={'y':'Income'}, inplace=True)\n",
    "X1.head()"
   ]
  },
  {
   "cell_type": "code",
   "execution_count": 35,
   "metadata": {},
   "outputs": [
    {
     "name": "stdout",
     "output_type": "stream",
     "text": [
      "Income ~ poutcome_success + default_no + job_other + poutcome_failure + marital_single + job_blue_collar + job_services + job_technician + marital_divorced + 1\n",
      "0.112510451337\n"
     ]
    }
   ],
   "source": [
    "#colocar para rodar quando for sair para o almoço\n",
    "#aplicando o método de seleção de variáveis forward\n",
    "\n",
    "model = forward_selected(X1, 'Income')\n",
    "print(model.model.formula)\n",
    "print(model.rsquared_adj)\n"
   ]
  },
  {
   "cell_type": "markdown",
   "metadata": {},
   "source": [
    "## Parte_5: Ajustando um modelo de Regressão Logística usando statsmodels"
   ]
  },
  {
   "cell_type": "code",
   "execution_count": 36,
   "metadata": {
    "_cell_guid": "94ee7e77-f1b1-4cc3-abbf-f5db8860e8ce",
    "_uuid": "355e170bffd21137c3fc9b6c0d6fceb5893952e4"
   },
   "outputs": [
    {
     "name": "stderr",
     "output_type": "stream",
     "text": [
      "C:\\ProgramData\\Anaconda3\\lib\\site-packages\\statsmodels\\compat\\pandas.py:56: FutureWarning: The pandas.core.datetools module is deprecated and will be removed in a future version. Please use the pandas.tseries module instead.\n",
      "  from pandas.core import datetools\n"
     ]
    }
   ],
   "source": [
    "from sklearn.linear_model import LogisticRegression\n",
    "from sklearn.metrics import classification_report\n",
    "from sklearn.model_selection import train_test_split\n",
    "from sklearn.metrics import accuracy_score, classification_report, precision_score, recall_score, confusion_matrix, precision_recall_curve\n",
    "from sklearn.metrics import roc_auc_score\n",
    "from sklearn.metrics import classification_report\n",
    "from sklearn.metrics import roc_curve, auc\n",
    "import statsmodels.api as sm\n",
    "import pylab as pl\n",
    "\n"
   ]
  },
  {
   "cell_type": "code",
   "execution_count": 37,
   "metadata": {},
   "outputs": [
    {
     "name": "stdout",
     "output_type": "stream",
     "text": [
      "Optimization terminated successfully.\n",
      "         Current function value: 0.365537\n",
      "         Iterations 7\n"
     ]
    },
    {
     "data": {
      "text/html": [
       "<table class=\"simpletable\">\n",
       "<tr>\n",
       "        <td>Model:</td>              <td>Logit</td>      <td>Pseudo R-squared:</td>   <td>-0.038</td>  \n",
       "</tr>\n",
       "<tr>\n",
       "  <td>Dependent Variable:</td>         <td>y</td>              <td>AIC:</td>        <td>22601.5776</td>\n",
       "</tr>\n",
       "<tr>\n",
       "         <td>Date:</td>        <td>2017-11-11 17:31</td>       <td>BIC:</td>        <td>22676.6216</td>\n",
       "</tr>\n",
       "<tr>\n",
       "   <td>No. Observations:</td>        <td>30891</td>       <td>Log-Likelihood:</td>    <td>-11292.</td> \n",
       "</tr>\n",
       "<tr>\n",
       "       <td>Df Model:</td>              <td>8</td>            <td>LL-Null:</td>        <td>-10883.</td> \n",
       "</tr>\n",
       "<tr>\n",
       "     <td>Df Residuals:</td>          <td>30882</td>        <td>LLR p-value:</td>      <td>1.0000</td>  \n",
       "</tr>\n",
       "<tr>\n",
       "      <td>Converged:</td>           <td>1.0000</td>           <td>Scale:</td>         <td>1.0000</td>  \n",
       "</tr>\n",
       "<tr>\n",
       "    <td>No. Iterations:</td>        <td>7.0000</td>              <td></td>               <td></td>     \n",
       "</tr>\n",
       "</table>\n",
       "<table class=\"simpletable\">\n",
       "<tr>\n",
       "          <td></td>          <th>Coef.</th>  <th>Std.Err.</th>     <th>z</th>     <th>P>|z|</th> <th>[0.025</th>  <th>0.975]</th> \n",
       "</tr>\n",
       "<tr>\n",
       "  <th>poutcome_success</th> <td>2.7946</td>   <td>0.0721</td>   <td>38.7826</td> <td>0.0000</td> <td>2.6534</td>  <td>2.9359</td> \n",
       "</tr>\n",
       "<tr>\n",
       "  <th>default_no</th>       <td>-1.3120</td>  <td>0.0279</td>  <td>-46.9530</td> <td>0.0000</td> <td>-1.3668</td> <td>-1.2572</td>\n",
       "</tr>\n",
       "<tr>\n",
       "  <th>job_other</th>        <td>-0.8645</td>  <td>0.0413</td>  <td>-20.9272</td> <td>0.0000</td> <td>-0.9455</td> <td>-0.7835</td>\n",
       "</tr>\n",
       "<tr>\n",
       "  <th>poutcome_failure</th> <td>0.1830</td>   <td>0.0569</td>   <td>3.2183</td>  <td>0.0013</td> <td>0.0716</td>  <td>0.2944</td> \n",
       "</tr>\n",
       "<tr>\n",
       "  <th>marital_single</th>   <td>-0.3119</td>  <td>0.0392</td>   <td>-7.9639</td> <td>0.0000</td> <td>-0.3887</td> <td>-0.2352</td>\n",
       "</tr>\n",
       "<tr>\n",
       "  <th>job_blue_collar</th>  <td>-1.9286</td>  <td>0.0500</td>  <td>-38.5605</td> <td>0.0000</td> <td>-2.0266</td> <td>-1.8305</td>\n",
       "</tr>\n",
       "<tr>\n",
       "  <th>job_services</th>     <td>-1.5042</td>  <td>0.0711</td>  <td>-21.1699</td> <td>0.0000</td> <td>-1.6435</td> <td>-1.3650</td>\n",
       "</tr>\n",
       "<tr>\n",
       "  <th>job_technician</th>   <td>-1.1101</td>  <td>0.0512</td>  <td>-21.6712</td> <td>0.0000</td> <td>-1.2105</td> <td>-1.0097</td>\n",
       "</tr>\n",
       "<tr>\n",
       "  <th>marital_divorced</th> <td>-0.7179</td>  <td>0.0626</td>  <td>-11.4663</td> <td>0.0000</td> <td>-0.8406</td> <td>-0.5952</td>\n",
       "</tr>\n",
       "</table>"
      ],
      "text/plain": [
       "<class 'statsmodels.iolib.summary2.Summary'>\n",
       "\"\"\"\n",
       "                         Results: Logit\n",
       "=================================================================\n",
       "Model:              Logit            Pseudo R-squared: -0.038    \n",
       "Dependent Variable: y                AIC:              22601.5776\n",
       "Date:               2017-11-11 17:31 BIC:              22676.6216\n",
       "No. Observations:   30891            Log-Likelihood:   -11292.   \n",
       "Df Model:           8                LL-Null:          -10883.   \n",
       "Df Residuals:       30882            LLR p-value:      1.0000    \n",
       "Converged:          1.0000           Scale:            1.0000    \n",
       "No. Iterations:     7.0000                                       \n",
       "-----------------------------------------------------------------\n",
       "                  Coef.  Std.Err.    z     P>|z|   [0.025  0.975]\n",
       "-----------------------------------------------------------------\n",
       "poutcome_success  2.7946   0.0721  38.7826 0.0000  2.6534  2.9359\n",
       "default_no       -1.3120   0.0279 -46.9530 0.0000 -1.3668 -1.2572\n",
       "job_other        -0.8645   0.0413 -20.9272 0.0000 -0.9455 -0.7835\n",
       "poutcome_failure  0.1830   0.0569   3.2183 0.0013  0.0716  0.2944\n",
       "marital_single   -0.3119   0.0392  -7.9639 0.0000 -0.3887 -0.2352\n",
       "job_blue_collar  -1.9286   0.0500 -38.5605 0.0000 -2.0266 -1.8305\n",
       "job_services     -1.5042   0.0711 -21.1699 0.0000 -1.6435 -1.3650\n",
       "job_technician   -1.1101   0.0512 -21.6712 0.0000 -1.2105 -1.0097\n",
       "marital_divorced -0.7179   0.0626 -11.4663 0.0000 -0.8406 -0.5952\n",
       "=================================================================\n",
       "\n",
       "\"\"\""
      ]
     },
     "execution_count": 37,
     "metadata": {},
     "output_type": "execute_result"
    }
   ],
   "source": [
    "# Modelo com todas as variáveis\n",
    "#iv = ['job_admin', 'job_blue_collar', 'job_management', 'job_other',\n",
    "#       'job_services', 'job_technician', 'marital_divorced', 'marital_married',\n",
    "#       'marital_single', 'default_no', 'default_unknown', 'housing_no',\n",
    "#       'housing_unknown', 'housing_yes', 'loan_no', 'loan_unknown', 'loan_yes',\n",
    "#       'poutcome_failure', 'poutcome_nonexistent', 'poutcome_success']\n",
    "\n",
    "iv2 = ['poutcome_success' , 'default_no' , 'job_other' , 'poutcome_failure' , 'marital_single' , 'job_blue_collar' ,\n",
    "       'job_services' , 'job_technician' , 'marital_divorced']\n",
    "\n",
    "logReg = sm.Logit(y_train, X_train[iv2])\n",
    "\n",
    "#Ytrain = logReg.predict(Xtrain[iv])\n",
    "#Ytest = logReg.predict(Xtest)\n",
    "answer = logReg.fit()\n",
    "\n",
    "answer.summary2()\n"
   ]
  },
  {
   "cell_type": "code",
   "execution_count": 38,
   "metadata": {},
   "outputs": [
    {
     "name": "stdout",
     "output_type": "stream",
     "text": [
      "Area under the ROC curve Tain : 0.584928\n",
      "Area under the ROC curve Tain : 0.588577\n"
     ]
    }
   ],
   "source": [
    "# Calculando o valor predito das bases de treinamento e validação\n",
    "#Base Treinamento\n",
    "p_train = answer.predict(X_train[iv2])\n",
    "\n",
    "fpr1, tpr1, thresholds =roc_curve(y_train, p_train)\n",
    "roc_auc1 = auc(fpr1, tpr1)\n",
    "print(\"Area under the ROC curve Tain : %f\" % roc_auc1)\n",
    "\n",
    "#Base Teste\n",
    "p_test = answer.predict(X_test[iv2])\n",
    "\n",
    "fpr2, tpr2, thresholds =roc_curve(y_test, p_test)\n",
    "roc_auc2 = auc(fpr2, tpr2)\n",
    "print(\"Area under the ROC curve Tain : %f\" % roc_auc2)"
   ]
  },
  {
   "cell_type": "code",
   "execution_count": 39,
   "metadata": {},
   "outputs": [
    {
     "data": {
      "image/png": "[encoded data removed]",
      "text/plain": [
       "<matplotlib.figure.Figure at 0xcb04fd0>"
      ]
     },
     "metadata": {},
     "output_type": "display_data"
    }
   ],
   "source": [
    "# plotando a curva ROC para as bases de treinamento e validação\n",
    "plt.plot(fpr1, tpr1)\n",
    "plt.plot(fpr2, tpr2)\n",
    "plt.plot()\n",
    "plt.xlim([0.0, 1.0])\n",
    "plt.ylim([0.0, 1.05])\n",
    "plt.xlabel('False Positive Rate')\n",
    "plt.ylabel('True Positive Rate')\n",
    "plt.title('ROC Graph')\n",
    "plt.legend([\"Train: \" + str(roc_auc1), \"Test: \" + str(roc_auc2)  ],  loc=\"lower right\")\n",
    "plt.show()"
   ]
  },
  {
   "cell_type": "markdown",
   "metadata": {},
   "source": [
    "## Parte_6: Ajustar, Prever e Validar um modelo de Regressão Logística usando sklearn"
   ]
  },
  {
   "cell_type": "code",
   "execution_count": 40,
   "metadata": {},
   "outputs": [
    {
     "data": {
      "text/plain": [
       "array([[ 2.71615324,  0.73717163,  0.32648035,  0.40924849,  0.22482833,\n",
       "        -0.39169545, -0.3017616 , -0.12176288, -0.10080458]])"
      ]
     },
     "execution_count": 40,
     "metadata": {},
     "output_type": "execute_result"
    }
   ],
   "source": [
    "X1_train = X_train[['poutcome_success' , 'default_no' , 'job_other' , 'poutcome_failure' , 'marital_single' , 'job_blue_collar' ,\n",
    "       'job_services' , 'job_technician' , 'marital_divorced']]\n",
    "X1_test = X_test[['poutcome_success' , 'default_no' , 'job_other' , 'poutcome_failure' , 'marital_single' , 'job_blue_collar' ,\n",
    "       'job_services' , 'job_technician' , 'marital_divorced']]\n",
    "\n",
    "model = LogisticRegression()\n",
    "a = model.fit(X1_train, y_train)\n",
    "\n",
    "model.fit(X1_train, y_train)\n",
    "p_train1 = model.predict(X1_train)\n",
    "p_test1 = model.predict(X1_test)\n",
    "\n",
    "a.coef_"
   ]
  },
  {
   "cell_type": "code",
   "execution_count": 41,
   "metadata": {},
   "outputs": [
    {
     "name": "stdout",
     "output_type": "stream",
     "text": [
      "\n",
      "\n",
      " ---Base de Treinamento---\n",
      "\n",
      "\n",
      " ---Matriz de Confusão---\n",
      "[[27053   354]\n",
      " [ 2815   669]]\n",
      "Accuracy of logistic regression classifier on test set: 0.90\n",
      "\n",
      "\n",
      " ---Logistic Model---\n",
      "Logistic AUC = 0.59\n",
      "             precision    recall  f1-score   support\n",
      "\n",
      "          0       0.91      0.99      0.94     27407\n",
      "          1       0.65      0.19      0.30      3484\n",
      "\n",
      "avg / total       0.88      0.90      0.87     30891\n",
      "\n"
     ]
    }
   ],
   "source": [
    "# Calculando confusion matrix, AUC, precision e recall para base de treinamento\n",
    "#model.fit(Xtrain, Ttrain)\n",
    "cnf_matrix = confusion_matrix(y_train, p_train1)\n",
    "print (\"\\n\\n ---Base de Treinamento---\")\n",
    "print (\"\\n\\n ---Matriz de Confusão---\")\n",
    "print(cnf_matrix)\n",
    "print('Accuracy of logistic regression classifier on test set: {:.2f}'.format(model.score(X1_train, y_train)))\n",
    "# 0,8973811142403936\n",
    "\n",
    "print (\"\\n\\n ---Logistic Model---\")\n",
    "logit_roc_auc1 = roc_auc_score(y_train, model.predict(X1_train))\n",
    "print (\"Logistic AUC = %2.2f\" % logit_roc_auc1)\n",
    "print(classification_report(y_train, p_train1))"
   ]
  },
  {
   "cell_type": "code",
   "execution_count": 42,
   "metadata": {},
   "outputs": [
    {
     "name": "stdout",
     "output_type": "stream",
     "text": [
      "\n",
      "\n",
      " ---Base de Teste---\n",
      "\n",
      "\n",
      " ---Matriz de Confusão---\n",
      "[[9038  103]\n",
      " [ 942  214]]\n",
      "Accuracy of logistic regression classifier on test set: 0.90\n",
      "\n",
      "\n",
      " ---Logistic Model---\n",
      "Logistic AUC = 0.59\n",
      "             precision    recall  f1-score   support\n",
      "\n",
      "          0       0.91      0.99      0.95      9141\n",
      "          1       0.68      0.19      0.29      1156\n",
      "\n",
      "avg / total       0.88      0.90      0.87     10297\n",
      "\n"
     ]
    }
   ],
   "source": [
    "# Calculando confusion matrix, AUC, precision e recall para base de treinamento\n",
    "#model.fit(Xtrain, Ttrain)\n",
    "cnf_matrix1 = confusion_matrix(y_test, p_test1)\n",
    "print (\"\\n\\n ---Base de Teste---\")\n",
    "print (\"\\n\\n ---Matriz de Confusão---\")\n",
    "print(cnf_matrix1)\n",
    "print('Accuracy of logistic regression classifier on test set: {:.2f}'.format(model.score(X1_test, y_test)))\n",
    "#0,8986112459939788\n",
    "\n",
    "print (\"\\n\\n ---Logistic Model---\")\n",
    "logit_roc_auc2 = roc_auc_score(y_test, model.predict(X1_test))\n",
    "print (\"Logistic AUC = %2.2f\" % logit_roc_auc2)\n",
    "print(classification_report(y_test, p_test1))"
   ]
  },
  {
   "cell_type": "code",
   "execution_count": 44,
   "metadata": {},
   "outputs": [
    {
     "data": {
      "image/png": "[encoded data removed]",
      "text/plain": [
       "<matplotlib.figure.Figure at 0xcae0b70>"
      ]
     },
     "metadata": {},
     "output_type": "display_data"
    }
   ],
   "source": [
    "# Plotando o curva ROC para a base de treinamento\n",
    "fpr1, tpr1, thresholds = roc_curve(y_train, model.predict_proba(X1_train)[:,1])\n",
    "# fpr, tpr, thresholds = roc_curve(y_test, model.predict_proba(X_test)[:,1])\n",
    "plt.plot(fpr1, tpr1, label='Train(area = %0.2f)' % logit_roc_auc1)\n",
    "\n",
    "# Plotando o curva ROC para a base de teste\n",
    "fpr2, tpr2, thresholds = roc_curve(y_test, model.predict_proba(X1_test)[:,1])\n",
    "plt.plot(fpr2, tpr2, label='Test(area = %0.2f)' % logit_roc_auc2)\n",
    "\n",
    "\n",
    "plt.xlim([0.0, 1.0])\n",
    "plt.ylim([0.0, 1.05])\n",
    "plt.xlabel('False Positive Rate')\n",
    "plt.ylabel('True Positive Rate')\n",
    "plt.title('ROC Graph')\n",
    "plt.legend(loc=\"lower right\")\n",
    "plt.show()"
   ]
  },
  {
   "cell_type": "code",
   "execution_count": null,
   "metadata": {
    "collapsed": true
   },
   "outputs": [],
   "source": []
  },
  {
   "cell_type": "markdown",
   "metadata": {
    "collapsed": true
   },
   "source": [
    "Referências <br>\n",
    "- https://towardsdatascience.com/building-a-logistic-regression-in-python-step-by-step-becd4d56c9c8"
   ]
  }
 ],
 "metadata": {
  "kernelspec": {
   "display_name": "Python 3",
   "language": "python",
   "name": "python3"
  },
  "language_info": {
   "codemirror_mode": {
    "name": "ipython",
    "version": 3
   },
   "file_extension": ".py",
   "mimetype": "text/x-python",
   "name": "python",
   "nbconvert_exporter": "python",
   "pygments_lexer": "ipython3",
   "version": "3.6.3"
  }
 },
 "nbformat": 4,
 "nbformat_minor": 1
}

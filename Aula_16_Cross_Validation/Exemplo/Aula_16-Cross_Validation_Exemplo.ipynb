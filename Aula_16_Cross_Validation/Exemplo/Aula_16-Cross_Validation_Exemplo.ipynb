{
 "cells": [
  {
   "cell_type": "markdown",
   "metadata": {},
   "source": [
    "# EXEMPLO - Aula_16: Cross Validation"
   ]
  },
  {
   "cell_type": "code",
   "execution_count": 451,
   "metadata": {
    "collapsed": true,
    "scrolled": true
   },
   "outputs": [],
   "source": [
    "# carregando as librarys e sub-librarys\n",
    "import pandas as pd #to load the data file as a Pandas data frame and analyze the data.\n",
    "import numpy as np\n",
    "from sklearn import datasets, linear_model #datasets-load a sample dataset linear_model-run a linear regression\n",
    "from sklearn.model_selection import train_test_split #split to training and test sets\n",
    "import matplotlib.pyplot as plt #plot graphs of the data\n",
    "import patsy as ps\n",
    "import seaborn as sns\n",
    "from sklearn.model_selection import learning_curve\n",
    "from sklearn.model_selection import ShuffleSplit\n",
    "\n"
   ]
  },
  {
   "cell_type": "markdown",
   "metadata": {},
   "source": [
    "## Carrega base de dados Diabetes"
   ]
  },
  {
   "cell_type": "markdown",
   "metadata": {},
   "source": [
    "Resumo: 442 pacientes com diabetes foram medidos para <br> 10 variáveis (idade, sexo, bmi (índice de massa corporal), map (pressão arterial média), seis medidas de soro sanguíneo)"
   ]
  },
  {
   "cell_type": "code",
   "execution_count": 452,
   "metadata": {
    "collapsed": true
   },
   "outputs": [],
   "source": [
    "# Load the Diabetes dataset\n",
    "columns = \"age sex bmi map tc ldl hdl tch ltg glu\".split() # Declare the columns names\n",
    "diabetes = datasets.load_diabetes() # Call the diabetes dataset from sklearn\n",
    "df = pd.DataFrame(diabetes.data, columns=columns) # load the dataset as a pandas data frame\n",
    "Y = diabetes.target # define the target variable (dependent variable) as y"
   ]
  },
  {
   "cell_type": "code",
   "execution_count": 453,
   "metadata": {
    "scrolled": true
   },
   "outputs": [
    {
     "data": {
      "text/html": [
       "<div>\n",
       "<style>\n",
       "    .dataframe thead tr:only-child th {\n",
       "        text-align: right;\n",
       "    }\n",
       "\n",
       "    .dataframe thead th {\n",
       "        text-align: left;\n",
       "    }\n",
       "\n",
       "    .dataframe tbody tr th {\n",
       "        vertical-align: top;\n",
       "    }\n",
       "</style>\n",
       "<table border=\"1\" class=\"dataframe\">\n",
       "  <thead>\n",
       "    <tr style=\"text-align: right;\">\n",
       "      <th></th>\n",
       "      <th>age</th>\n",
       "      <th>sex</th>\n",
       "      <th>bmi</th>\n",
       "      <th>map</th>\n",
       "      <th>tc</th>\n",
       "      <th>ldl</th>\n",
       "      <th>hdl</th>\n",
       "      <th>tch</th>\n",
       "      <th>ltg</th>\n",
       "      <th>glu</th>\n",
       "    </tr>\n",
       "  </thead>\n",
       "  <tbody>\n",
       "    <tr>\n",
       "      <th>0</th>\n",
       "      <td>0.038076</td>\n",
       "      <td>0.050680</td>\n",
       "      <td>0.061696</td>\n",
       "      <td>0.021872</td>\n",
       "      <td>-0.044223</td>\n",
       "      <td>-0.034821</td>\n",
       "      <td>-0.043401</td>\n",
       "      <td>-0.002592</td>\n",
       "      <td>0.019908</td>\n",
       "      <td>-0.017646</td>\n",
       "    </tr>\n",
       "    <tr>\n",
       "      <th>1</th>\n",
       "      <td>-0.001882</td>\n",
       "      <td>-0.044642</td>\n",
       "      <td>-0.051474</td>\n",
       "      <td>-0.026328</td>\n",
       "      <td>-0.008449</td>\n",
       "      <td>-0.019163</td>\n",
       "      <td>0.074412</td>\n",
       "      <td>-0.039493</td>\n",
       "      <td>-0.068330</td>\n",
       "      <td>-0.092204</td>\n",
       "    </tr>\n",
       "    <tr>\n",
       "      <th>2</th>\n",
       "      <td>0.085299</td>\n",
       "      <td>0.050680</td>\n",
       "      <td>0.044451</td>\n",
       "      <td>-0.005671</td>\n",
       "      <td>-0.045599</td>\n",
       "      <td>-0.034194</td>\n",
       "      <td>-0.032356</td>\n",
       "      <td>-0.002592</td>\n",
       "      <td>0.002864</td>\n",
       "      <td>-0.025930</td>\n",
       "    </tr>\n",
       "    <tr>\n",
       "      <th>3</th>\n",
       "      <td>-0.089063</td>\n",
       "      <td>-0.044642</td>\n",
       "      <td>-0.011595</td>\n",
       "      <td>-0.036656</td>\n",
       "      <td>0.012191</td>\n",
       "      <td>0.024991</td>\n",
       "      <td>-0.036038</td>\n",
       "      <td>0.034309</td>\n",
       "      <td>0.022692</td>\n",
       "      <td>-0.009362</td>\n",
       "    </tr>\n",
       "    <tr>\n",
       "      <th>4</th>\n",
       "      <td>0.005383</td>\n",
       "      <td>-0.044642</td>\n",
       "      <td>-0.036385</td>\n",
       "      <td>0.021872</td>\n",
       "      <td>0.003935</td>\n",
       "      <td>0.015596</td>\n",
       "      <td>0.008142</td>\n",
       "      <td>-0.002592</td>\n",
       "      <td>-0.031991</td>\n",
       "      <td>-0.046641</td>\n",
       "    </tr>\n",
       "  </tbody>\n",
       "</table>\n",
       "</div>"
      ],
      "text/plain": [
       "        age       sex       bmi       map        tc       ldl       hdl  \\\n",
       "0  0.038076  0.050680  0.061696  0.021872 -0.044223 -0.034821 -0.043401   \n",
       "1 -0.001882 -0.044642 -0.051474 -0.026328 -0.008449 -0.019163  0.074412   \n",
       "2  0.085299  0.050680  0.044451 -0.005671 -0.045599 -0.034194 -0.032356   \n",
       "3 -0.089063 -0.044642 -0.011595 -0.036656  0.012191  0.024991 -0.036038   \n",
       "4  0.005383 -0.044642 -0.036385  0.021872  0.003935  0.015596  0.008142   \n",
       "\n",
       "        tch       ltg       glu  \n",
       "0 -0.002592  0.019908 -0.017646  \n",
       "1 -0.039493 -0.068330 -0.092204  \n",
       "2 -0.002592  0.002864 -0.025930  \n",
       "3  0.034309  0.022692 -0.009362  \n",
       "4 -0.002592 -0.031991 -0.046641  "
      ]
     },
     "execution_count": 453,
     "metadata": {},
     "output_type": "execute_result"
    }
   ],
   "source": [
    "df1 = pd.DataFrame(df)\n",
    "df1.head()"
   ]
  },
  {
   "cell_type": "code",
   "execution_count": 454,
   "metadata": {
    "collapsed": true
   },
   "outputs": [],
   "source": [
    "#df['age'] = df['age'].apply(np.exp)"
   ]
  },
  {
   "cell_type": "code",
   "execution_count": 455,
   "metadata": {},
   "outputs": [],
   "source": [
    "# describe vars\n",
    "#df.describe()"
   ]
  },
  {
   "cell_type": "code",
   "execution_count": 456,
   "metadata": {},
   "outputs": [],
   "source": [
    "# arrumando a var sexo\n",
    "def arruma(sex):\n",
    "    if sex < 0:\n",
    "        return '0'\n",
    "    else:\n",
    "        return '1'\n",
    "df['sex'] = df['sex'].apply(arruma)"
   ]
  },
  {
   "cell_type": "code",
   "execution_count": 457,
   "metadata": {
    "scrolled": true
   },
   "outputs": [
    {
     "name": "stdout",
     "output_type": "stream",
     "text": [
      "Histograma Idade-Age\n"
     ]
    },
    {
     "data": {
      "image/png": "[encoded data removed]",
      "text/plain": [
       "<matplotlib.figure.Figure at 0xed24978>"
      ]
     },
     "metadata": {},
     "output_type": "display_data"
    },
    {
     "name": "stdout",
     "output_type": "stream",
     "text": [
      "Proporção Sexo\n"
     ]
    },
    {
     "data": {
      "image/png": "[encoded data removed]",
      "text/plain": [
       "<matplotlib.figure.Figure at 0xed34518>"
      ]
     },
     "metadata": {},
     "output_type": "display_data"
    },
    {
     "name": "stdout",
     "output_type": "stream",
     "text": [
      "Histograma bmi\n"
     ]
    },
    {
     "data": {
      "image/png": "[encoded data removed]",
      "text/plain": [
       "<matplotlib.figure.Figure at 0xedecb00>"
      ]
     },
     "metadata": {},
     "output_type": "display_data"
    },
    {
     "name": "stdout",
     "output_type": "stream",
     "text": [
      "Histograma map\n"
     ]
    },
    {
     "data": {
      "image/png": "[encoded data removed]",
      "text/plain": [
       "<matplotlib.figure.Figure at 0xeefc630>"
      ]
     },
     "metadata": {},
     "output_type": "display_data"
    },
    {
     "name": "stdout",
     "output_type": "stream",
     "text": [
      "Histograma tc\n"
     ]
    },
    {
     "data": {
      "image/png": "[encoded data removed]",
      "text/plain": [
       "<matplotlib.figure.Figure at 0xef22ac8>"
      ]
     },
     "metadata": {},
     "output_type": "display_data"
    },
    {
     "name": "stdout",
     "output_type": "stream",
     "text": [
      "Histograma ldl\n"
     ]
    },
    {
     "data": {
      "image/png": "[encoded data removed]",
      "text/plain": [
       "<matplotlib.figure.Figure at 0xd6b3c88>"
      ]
     },
     "metadata": {},
     "output_type": "display_data"
    },
    {
     "name": "stdout",
     "output_type": "stream",
     "text": [
      "Histograma hdl\n"
     ]
    },
    {
     "data": {
      "image/png": "[encoded data removed]",
      "text/plain": [
       "<matplotlib.figure.Figure at 0xcc78278>"
      ]
     },
     "metadata": {},
     "output_type": "display_data"
    },
    {
     "name": "stdout",
     "output_type": "stream",
     "text": [
      "Histograma tch\n"
     ]
    },
    {
     "data": {
      "image/png": "[encoded data removed]",
      "text/plain": [
       "<matplotlib.figure.Figure at 0xedb5588>"
      ]
     },
     "metadata": {},
     "output_type": "display_data"
    },
    {
     "name": "stdout",
     "output_type": "stream",
     "text": [
      "Histograma ltg\n"
     ]
    },
    {
     "data": {
      "image/png": "[encoded data removed]",
      "text/plain": [
       "<matplotlib.figure.Figure at 0xedeecf8>"
      ]
     },
     "metadata": {},
     "output_type": "display_data"
    },
    {
     "name": "stdout",
     "output_type": "stream",
     "text": [
      "Histograma glu\n"
     ]
    },
    {
     "data": {
      "image/png": "[encoded data removed]",
      "text/plain": [
       "<matplotlib.figure.Figure at 0xd05deb8>"
      ]
     },
     "metadata": {},
     "output_type": "display_data"
    }
   ],
   "source": [
    "# analisando visualmente as variáveis da base de dados\n",
    "# age\n",
    "print(\"Histograma Idade-Age\" )\n",
    "plt.hist(df['age']);\n",
    "plt.show()\n",
    "#sex\n",
    "print(\"Proporção Sexo\" )\n",
    "sns.countplot(x='sex',data=df, palette='hls')\n",
    "plt.show()\n",
    "# bmi\n",
    "print(\"Histograma bmi\" )\n",
    "plt.hist(df['bmi']);\n",
    "plt.show()\n",
    "# map\n",
    "print(\"Histograma map\" )\n",
    "plt.hist(df['map']);\n",
    "plt.show()\n",
    "# tc\n",
    "print(\"Histograma tc\" )\n",
    "plt.hist(df['tc']);\n",
    "plt.show()\n",
    "# ldl\n",
    "print(\"Histograma ldl\" )\n",
    "plt.hist(df['ldl']);\n",
    "plt.show()\n",
    "# hdl\n",
    "print(\"Histograma hdl\" )\n",
    "plt.hist(df['hdl']);\n",
    "plt.show()\n",
    "# tch\n",
    "print(\"Histograma tch\" )\n",
    "plt.hist(df['tch']);\n",
    "plt.show()\n",
    "# ltg\n",
    "print(\"Histograma ltg\" )\n",
    "plt.hist(df['ltg']);\n",
    "plt.show()\n",
    "# glu\n",
    "print(\"Histograma glu\" )\n",
    "plt.hist(df['glu']);\n",
    "plt.show()\n"
   ]
  },
  {
   "cell_type": "markdown",
   "metadata": {},
   "source": [
    "## Parte_1: Dividindo a Base em treinamento e teste"
   ]
  },
  {
   "cell_type": "markdown",
   "metadata": {},
   "source": [
    "Podemos usar a função train_test_split para fazer a divisão. <br>\n",
    "O test_size = 0.2 dentro da função indica a porcentagem dos dados que devem ser mantidos para testes. <br>\n",
    "Geralmente é cerca de 80/20 ou 70/30."
   ]
  },
  {
   "cell_type": "code",
   "execution_count": 458,
   "metadata": {},
   "outputs": [
    {
     "name": "stdout",
     "output_type": "stream",
     "text": [
      "(353, 10) (353,)\n",
      "(89, 10) (89,)\n"
     ]
    }
   ],
   "source": [
    "# criando as bases de treinamento e teste\n",
    "# fixando a semente para não alterar a amostra a cad vez que for rodar o programa\n",
    "X_train, X_test, y_train, y_test = train_test_split(df, Y, test_size=0.2, random_state=1234)\n",
    "print (X_train.shape, y_train.shape)\n",
    "print (X_test.shape, y_test.shape)"
   ]
  },
  {
   "cell_type": "markdown",
   "metadata": {},
   "source": [
    "## Parte_2: Ajustando um modelo linear na base de treinamento"
   ]
  },
  {
   "cell_type": "code",
   "execution_count": 459,
   "metadata": {},
   "outputs": [
    {
     "data": {
      "text/plain": [
       "array([  -43.45526217,   -26.74332729,   528.97893541,   346.50018232,\n",
       "       -1032.32970269,   661.5777617 ,   241.08637357,   240.52992036,\n",
       "         798.26318387,   123.16933708])"
      ]
     },
     "execution_count": 459,
     "metadata": {},
     "output_type": "execute_result"
    }
   ],
   "source": [
    "# Ajustando o modelo\n",
    "lm = linear_model.LinearRegression()\n",
    "model = lm.fit(X_train, y_train)\n",
    "# Obtendo as predições do modelo ajustado\n",
    "p_train = lm.predict(X_train)\n",
    "p_test = lm.predict(X_test)\n",
    "#print(p_train[0:5])\n",
    "#print(p_test[0:5])\n",
    "model.coef_"
   ]
  },
  {
   "cell_type": "code",
   "execution_count": 460,
   "metadata": {},
   "outputs": [
    {
     "name": "stdout",
     "output_type": "stream",
     "text": [
      "\n",
      "\n",
      " ---Base de Train---\n"
     ]
    },
    {
     "data": {
      "image/png": "[encoded data removed]",
      "text/plain": [
       "<matplotlib.figure.Figure at 0xd755a58>"
      ]
     },
     "metadata": {},
     "output_type": "display_data"
    },
    {
     "name": "stdout",
     "output_type": "stream",
     "text": [
      "\n",
      "\n",
      " ---Base de Test---\n"
     ]
    },
    {
     "data": {
      "image/png": "[encoded data removed]",
      "text/plain": [
       "<matplotlib.figure.Figure at 0xed788d0>"
      ]
     },
     "metadata": {},
     "output_type": "display_data"
    }
   ],
   "source": [
    "## Plotando o modelo ajustado\n",
    "print (\"\\n\\n ---Base de Train---\")\n",
    "plt.scatter(y_train, p_train) # real versus previsto train\n",
    "plt.xlabel(\"Valores Reais\")\n",
    "plt.ylabel(\"Predições\")\n",
    "plt.show()\n",
    "print (\"\\n\\n ---Base de Test---\")\n",
    "plt.scatter(y_test, p_test) # real versus previsto test\n",
    "plt.xlabel(\"Valores Reais\")\n",
    "plt.ylabel(\"Predições\")\n",
    "plt.show()"
   ]
  },
  {
   "cell_type": "code",
   "execution_count": 461,
   "metadata": {},
   "outputs": [
    {
     "name": "stdout",
     "output_type": "stream",
     "text": [
      "R^2 train: 0.527130975259\n",
      "R^2 test: 0.462633650798\n"
     ]
    }
   ],
   "source": [
    "# R^2 do modelo\n",
    "print (\"R^2 train:\", model.score( X_train, y_train))\n",
    "print (\"R^2 test:\", model.score( X_test, y_test))"
   ]
  },
  {
   "cell_type": "markdown",
   "metadata": {},
   "source": [
    "Resumo: <br> \n",
    "1. Carga dos dados  <br> \n",
    "2. Divisão da base em treinamento e teste  <br> \n",
    "3. Ajuste de um modelo de regressão aos dados de treinamento  <br> \n",
    "4. Previsões com base nesses dados   <br> \n",
    "5. Teste das previsões nos dados do teste  <br> \n",
    "\n",
    "Parece bom, certo? <br> \n",
    "Mas a divisão em treinamento/teste tem seus perigos:  <br> \n",
    "E se a divisão não for aleatória?  <br> \n",
    "E se um subconjunto dos dados tiver apenas pessoas de um determinado estado ou funcionários com um certo nível de renda, mas não outros níveis de renda, apenas mulheres ou apenas pessoas com certa idade?  <br> \n",
    "Isso resultará em overfitting, mesmo que tentemos evitá-lo!  <br> \n",
    "É aqui que entra a validação cruzada."
   ]
  },
  {
   "cell_type": "markdown",
   "metadata": {},
   "source": [
    "## Métodos de Cross Validation"
   ]
  },
  {
   "cell_type": "markdown",
   "metadata": {},
   "source": [
    "### Parte_3: "
   ]
  },
  {
   "cell_type": "markdown",
   "metadata": {},
   "source": [
    "### 1. k-fold "
   ]
  },
  {
   "cell_type": "markdown",
   "metadata": {},
   "source": [
    "KFold divide as amostras em k grupos de amostras, chamadas dobras, de tamanhos iguais (se possível). <br>\n",
    "A função de predição é aprendida usando k-1 dobras e a dobra que resta é usada para teste."
   ]
  },
  {
   "cell_type": "code",
   "execution_count": 462,
   "metadata": {},
   "outputs": [
    {
     "name": "stdout",
     "output_type": "stream",
     "text": [
      "KFold(n_splits=2, random_state=1234, shuffle=False)\n"
     ]
    }
   ],
   "source": [
    "from sklearn.model_selection import KFold # import KFold\n",
    "\n",
    "X1 = np.array([[1, 2], [3, 4], [1, 2], [3, 4]]) # create an array\n",
    "y1 = np.array([1, 2, 3, 4]) # Create another array\n",
    "kf = KFold(n_splits=2,random_state=1234) # Define the split - into 2 folds \n",
    "kf.get_n_splits(X1) # returns the number of splitting iterations in the cross-validator\n",
    "print(kf) "
   ]
  },
  {
   "cell_type": "code",
   "execution_count": 463,
   "metadata": {},
   "outputs": [
    {
     "name": "stdout",
     "output_type": "stream",
     "text": [
      "TRAIN: [2 3] TEST: [0 1]\n",
      "TRAIN: [0 1] TEST: [2 3]\n"
     ]
    }
   ],
   "source": [
    "for train_index, test_index in kf.split(X1):\n",
    "    print(\"TRAIN:\", train_index, \"TEST:\", test_index)\n",
    "    X1_train, X1_test = X1[train_index], X1[test_index]\n",
    "    y1_train, y1_test = y1[train_index], y1[test_index]\n",
    "\n",
    "#for i in kf.split(X):\n",
    "#    print(i)\n",
    "# mostra quais as linhas serão utilizadas para teste e quais serão utilizadas para treinamento"
   ]
  },
  {
   "cell_type": "markdown",
   "metadata": {},
   "source": [
    "A função divide os dados originais em diferentes subconjuntos dos dados. <br> Um exemplo muito simples, mas acho que explica muito bem o conceito."
   ]
  },
  {
   "cell_type": "code",
   "execution_count": 464,
   "metadata": {
    "collapsed": true
   },
   "outputs": [],
   "source": [
    "# Necessary imports: \n",
    "from sklearn.cross_validation import cross_val_score, cross_val_predict\n",
    "from sklearn import metrics"
   ]
  },
  {
   "cell_type": "code",
   "execution_count": 465,
   "metadata": {},
   "outputs": [
    {
     "name": "stdout",
     "output_type": "stream",
     "text": [
      "Cross-validated 6-fold scores:  [ 0.4554861   0.46138572  0.40094084  0.55220736  0.43942775  0.56923406]\n",
      "Average 6-Fold CV Score: 0.4797803047530254\n"
     ]
    }
   ],
   "source": [
    "# Perform 6-fold cross validation'\n",
    "scores1 = cross_val_score(model, df, Y, cv=6)\n",
    "print (\"Cross-validated 6-fold scores: \", scores1)\n",
    "print(\"Average 6-Fold CV Score: {}\".format(np.mean(scores1)))"
   ]
  },
  {
   "cell_type": "markdown",
   "metadata": {},
   "source": [
    "Como você pode ver, a última dobra melhorou a pontuação do modelo original  de 0.463 para 0,569. <br>\n",
    "Não é um resultado surpreendente, mas oi, vamos tomar o que podemos conseguir. <br>\n",
    "Agora, vamos traçar as novas previsões, depois de realizar a validação cruzada:"
   ]
  },
  {
   "cell_type": "code",
   "execution_count": 466,
   "metadata": {},
   "outputs": [
    {
     "data": {
      "image/png": "[encoded data removed]",
      "text/plain": [
       "<matplotlib.figure.Figure at 0xd690358>"
      ]
     },
     "metadata": {},
     "output_type": "display_data"
    }
   ],
   "source": [
    "# Make cross validated predictions\n",
    "predictions1 = cross_val_predict(model, df, Y, cv=6)\n",
    "plt.scatter(Y, predictions1)\n",
    "plt.xlabel(\"Valores Reais\")\n",
    "plt.ylabel(\"Predições\")\n",
    "plt.show()"
   ]
  },
  {
   "cell_type": "markdown",
   "metadata": {},
   "source": [
    "Este gráfico é muito diferente do original. Temos seis vezes mais pontos do que o gráfico original porque usei cv = 6. <br>\n",
    "Finalmente, vamos verificar a classificação R² do modelo <br>\n",
    "(R² é um \"número que indica a proporção da variância na variável dependente que é previsível a partir da(s) variável(is) independente(s)\". Basicamente, quão preciso é o nosso modelo):"
   ]
  },
  {
   "cell_type": "code",
   "execution_count": 467,
   "metadata": {},
   "outputs": [
    {
     "name": "stdout",
     "output_type": "stream",
     "text": [
      "Cross-Predicted 6-fold  R^2: 0.490806583864\n"
     ]
    }
   ],
   "source": [
    "accuracy1 = metrics.r2_score(Y, predictions1)\n",
    "print (\"Cross-Predicted 6-fold  R^2:\", accuracy1)"
   ]
  },
  {
   "cell_type": "markdown",
   "metadata": {},
   "source": [
    "### Parte_4: "
   ]
  },
  {
   "cell_type": "markdown",
   "metadata": {},
   "source": [
    "### 2. Leave One Out Cross Validation (LOO) "
   ]
  },
  {
   "cell_type": "markdown",
   "metadata": {},
   "source": [
    "LeaveOneOut (ou LOO) é uma simples validação cruzada. <br> \n",
    "Cada conjunto de treinamento é criado tomando todas as amostras, exceto uma, o conjunto de teste usa esta amostra excluída. <br> \n",
    "Assim, para n amostras, temos n conjuntos de treinamento diferentes e n conjuntos de testes diferentes. <br> \n",
    "Este procedimento de validação cruzada não desperdiça muitos dados, pois apenas uma amostra é removida do conjunto de treinamento"
   ]
  },
  {
   "cell_type": "code",
   "execution_count": 468,
   "metadata": {},
   "outputs": [
    {
     "name": "stdout",
     "output_type": "stream",
     "text": [
      "TRAIN: [1] TEST: [0]\n",
      "[[3 4]] [[1 2]] [2] [1]\n",
      "TRAIN: [0] TEST: [1]\n",
      "[[1 2]] [[3 4]] [1] [2]\n"
     ]
    }
   ],
   "source": [
    "from sklearn.model_selection import LeaveOneOut \n",
    "X2 = np.array([[1, 2], [3, 4]])\n",
    "y2 = np.array([1, 2])\n",
    "loo = LeaveOneOut()\n",
    "loo.get_n_splits(X2,y2)\n",
    "\n",
    "\n",
    "for train_index, test_index in loo.split(X2):\n",
    "    print(\"TRAIN:\", train_index, \"TEST:\", test_index)\n",
    "    X2_train, X2_test = X2[train_index], X2[test_index]\n",
    "    y2_train, y2_test = y2[train_index], y2[test_index]\n",
    "    print(X2_train, X2_test, y2_train, y2_test)\n",
    "\n",
    "#TRAIN: [1] TEST: [0] #linha 0 vai ser teste e linha 1 vai ser train\n",
    "#[[3 4]] [[1 2]] [2] [1]\n",
    "#X_train - [[3 4]]\n",
    "#X_test  - [[1 2]] \n",
    "#y_train - [2] from sklearn.model_selection import LeaveOneOut \n"
   ]
  },
  {
   "cell_type": "code",
   "execution_count": 469,
   "metadata": {},
   "outputs": [
    {
     "name": "stdout",
     "output_type": "stream",
     "text": [
      "TRAIN: [1 2 3 4] TEST: [0]\n",
      "[[3 4]\n",
      " [5 6]\n",
      " [7 8]\n",
      " [9 0]] [[1 2]] [11 12 13 14] [10]\n",
      "TRAIN: [0 2 3 4] TEST: [1]\n",
      "[[1 2]\n",
      " [5 6]\n",
      " [7 8]\n",
      " [9 0]] [[3 4]] [10 12 13 14] [11]\n",
      "TRAIN: [0 1 3 4] TEST: [2]\n",
      "[[1 2]\n",
      " [3 4]\n",
      " [7 8]\n",
      " [9 0]] [[5 6]] [10 11 13 14] [12]\n",
      "TRAIN: [0 1 2 4] TEST: [3]\n",
      "[[1 2]\n",
      " [3 4]\n",
      " [5 6]\n",
      " [9 0]] [[7 8]] [10 11 12 14] [13]\n",
      "TRAIN: [0 1 2 3] TEST: [4]\n",
      "[[1 2]\n",
      " [3 4]\n",
      " [5 6]\n",
      " [7 8]] [[9 0]] [10 11 12 13] [14]\n"
     ]
    }
   ],
   "source": [
    "# Um exemplo com maior número de linhas na tabela\n",
    "from sklearn.model_selection import LeaveOneOut \n",
    "X2 = np.array([[1, 2], [3, 4],[5, 6], [7, 8],[9, 0]])\n",
    "y2 = np.array([10,11,12,13,14])\n",
    "loo = LeaveOneOut()\n",
    "### 2. Leave One Out Cross Validation (LOOCV) loo = LeaveOneOut()\n",
    "loo.get_n_splits(X2)\n",
    "\n",
    "\n",
    "for train_index, test_index in loo.split(X2):\n",
    "    print(\"TRAIN:\", train_index, \"TEST:\", test_index)\n",
    "    X2_train, X2_test = X2[train_index], X2[test_index]\n",
    "    y2_train, y2_test = y2[train_index], y2[test_index]\n",
    "    print(X2_train, X2_test, y2_train, y2_test)"
   ]
  },
  {
   "cell_type": "markdown",
   "metadata": {},
   "source": [
    "Mais uma vez um exemplo bem simples mas realmente ajuda na compreensão do conceito básico desse método. <br>\n",
    "Então, qual método devemos usar? <br>\n",
    "Quantas dobras? <br>\n",
    "- Quanto mais dobras tivermos, estaremos reduzindo o erro devido ao viés, mas aumentando o erro devido à variação; o preço computacional também aumentaria, obviamente - quanto mais dobras você tiver, mais tempo seria necessário para computá-lo e você precisaria de mais memória. <br>\n",
    "- Com um menor número de dobras, estamos reduzindo o erro devido à variação, mas o erro devido ao viés é maior. É também computacionalmente mais barato. <br>\n",
    "- Portanto, em conjuntos de dados grandes, geralmente é aconselhável que k = 3. Em conjuntos de dados menores, como mencionei anteriormente, é melhor usar o LOOCV."
   ]
  },
  {
   "cell_type": "code",
   "execution_count": 470,
   "metadata": {},
   "outputs": [
    {
     "data": {
      "text/plain": [
       "(442, 10)"
      ]
     },
     "execution_count": 470,
     "metadata": {},
     "output_type": "execute_result"
    }
   ],
   "source": [
    "# verificando número de obs na base de dados\n",
    "df.shape\n",
    "# 442"
   ]
  },
  {
   "cell_type": "code",
   "execution_count": 471,
   "metadata": {
    "collapsed": true
   },
   "outputs": [],
   "source": [
    "# Perform n(442)-fold cross validation\n",
    "scores2 = cross_val_score(model, df, Y, cv=200)\n",
    "#print (\"Cross-validated Leave One Out scores: \", scores2)\n"
   ]
  },
  {
   "cell_type": "code",
   "execution_count": 472,
   "metadata": {},
   "outputs": [
    {
     "data": {
      "image/png": "[encoded data removed]",
      "text/plain": [
       "<matplotlib.figure.Figure at 0xe7a64e0>"
      ]
     },
     "metadata": {},
     "output_type": "display_data"
    }
   ],
   "source": [
    "# Make cross validated predictions\n",
    "predictions2 = cross_val_predict(model, df, Y, cv=200)\n",
    "plt.scatter(Y, predictions2)\n",
    "plt.xlabel(\"Valores Reais\")\n",
    "plt.ylabel(\"Predições\")\n",
    "plt.show()"
   ]
  },
  {
   "cell_type": "code",
   "execution_count": 473,
   "metadata": {},
   "outputs": [
    {
     "name": "stdout",
     "output_type": "stream",
     "text": [
      "Cross-Predicted n-fold R^2: 0.493424990339\n"
     ]
    }
   ],
   "source": [
    "accuracy2 = metrics.r2_score(Y, predictions2)\n",
    "print (\"Cross-Predicted n-fold R^2:\", accuracy2)"
   ]
  },
  {
   "cell_type": "markdown",
   "metadata": {},
   "source": [
    "## Outros Métodos de Cross Validation"
   ]
  },
  {
   "cell_type": "markdown",
   "metadata": {},
   "source": [
    "### 3. K-Fold estratificada"
   ]
  },
  {
   "cell_type": "markdown",
   "metadata": {},
   "source": [
    "Stratified K-Fold é uma variação de dobra em K, que retorna dobras estratificadas, isto é, cria dobras ao preservar a mesma porcentagem para cada classe-alvo como no conjunto completo."
   ]
  },
  {
   "cell_type": "code",
   "execution_count": 474,
   "metadata": {
    "scrolled": true
   },
   "outputs": [
    {
     "name": "stdout",
     "output_type": "stream",
     "text": [
      "sklearn.cross_validation.StratifiedKFold(labels=[0 0 0 1 1 1 0 1 1 0], n_folds=3, shuffle=False, random_state=None)\n",
      "[2 5 6 7 8 9] [0 1 3 4]\n",
      "[0 1 3 4 8 9] [2 5 6 7]\n",
      "[0 1 2 3 4 5 6 7] [8 9]\n"
     ]
    }
   ],
   "source": [
    "#Example of stratified 3-fold cross-validation on a dataset with 10 samples from two slightly unbalanced classes:\n",
    "from sklearn.cross_validation import StratifiedKFold\n",
    "X1 = [[0., 0.],\n",
    "     [1., 1.],\n",
    "     [-1., -1.],\n",
    "     [2., 2.],\n",
    "     [3., 3.],\n",
    "     [4., 4.],\n",
    "     [0., 1.],\n",
    "     [3., 3.],\n",
    "     [4., 4.],\n",
    "     [0., 1.]]\n",
    "Y1 = [0, 0, 0, 1, 1, 1, 0,1,1,0]\n",
    "\n",
    "skf = StratifiedKFold(Y1, 3)\n",
    "print(skf)\n",
    "\n",
    "for train, test in skf:\n",
    "        print(train, test)"
   ]
  },
  {
   "cell_type": "markdown",
   "metadata": {},
   "source": [
    "### 4. Leave P Out (LPO) "
   ]
  },
  {
   "cell_type": "markdown",
   "metadata": {},
   "source": [
    "LeavePOut é muito semelhante ao LeaveOneOut, pois cria todos os conjuntos de treinamento/teste possíveis, removendo p amostras do conjunto completo para o teste.<br>\n",
    "Ao contrário de LeaveOneOut e KFold, os conjuntos de teste se sobrepõem para p> 1.<br>\n",
    "número de subconjuntos n!/(p!(n-p)!)\n"
   ]
  },
  {
   "cell_type": "code",
   "execution_count": 475,
   "metadata": {
    "collapsed": true,
    "scrolled": true
   },
   "outputs": [],
   "source": [
    "#Example of Leave-2-Out on a dataset with 4 samples:\n",
    "from sklearn.model_selection import LeavePOut\n",
    "\n",
    "X1 = np.ones(5)\n",
    "lpo = LeavePOut(p=2)\n",
    "\n",
    "#print(X, lpo)\n",
    "# número de subconjuntos n!/(p!(n-p)!)"
   ]
  },
  {
   "cell_type": "code",
   "execution_count": 476,
   "metadata": {},
   "outputs": [
    {
     "name": "stdout",
     "output_type": "stream",
     "text": [
      "[2 3 4] [0 1]\n",
      "[1 3 4] [0 2]\n",
      "[1 2 4] [0 3]\n",
      "[1 2 3] [0 4]\n",
      "[0 3 4] [1 2]\n",
      "[0 2 4] [1 3]\n",
      "[0 2 3] [1 4]\n",
      "[0 1 4] [2 3]\n",
      "[0 1 3] [2 4]\n",
      "[0 1 2] [3 4]\n"
     ]
    }
   ],
   "source": [
    "for train, test in lpo.split(X1):\n",
    "    print(\"%s %s\" % (train, test))"
   ]
  },
  {
   "cell_type": "markdown",
   "metadata": {},
   "source": [
    "### 5. Leave One Label Out (LOLO) "
   ]
  },
  {
   "cell_type": "markdown",
   "metadata": {},
   "source": [
    "LeaveOneLabelOut (LOLO) é um esquema de validação cruzada que contém as amostras de acordo com um rótulo fornecido. Esta informação do rótulo pode ser usada para codificar as estratificações específicas. <br>\n",
    "Cada conjunto de treinamento é assim constituído por todas as amostras, exceto as relacionadas a um rótulo específico        "
   ]
  },
  {
   "cell_type": "code",
   "execution_count": 477,
   "metadata": {},
   "outputs": [
    {
     "name": "stdout",
     "output_type": "stream",
     "text": [
      "sklearn.cross_validation.LeaveOneLabelOut(labels=[1 1 2 2 3 3 3])\n",
      "[2 3 4 5 6] [0 1]\n",
      "[0 1 4 5 6] [2 3]\n",
      "[0 1 2 3] [4 5 6]\n"
     ]
    }
   ],
   "source": [
    "from sklearn.cross_validation import LeaveOneLabelOut\n",
    "X1 = [[0., 0.], [1., 1.], [-1., -1.], [2., 2.], [1., 1.], [-1., -1.], [2., 2.]]\n",
    "Y1 = [0, 1, 0, 1, 1, 1, 0]\n",
    "labels = [1, 1, 2, 2, 3, 3, 3]\n",
    "\n",
    "lolo = LeaveOneLabelOut(labels)\n",
    "print(lolo)\n",
    "\n",
    "for train, test in lolo:\n",
    "    print(train, test)"
   ]
  },
  {
   "cell_type": "code",
   "execution_count": null,
   "metadata": {
    "collapsed": true
   },
   "outputs": [],
   "source": []
  },
  {
   "cell_type": "markdown",
   "metadata": {},
   "source": [
    "### 6. Leave P Label Out (LPLO) "
   ]
  },
  {
   "cell_type": "markdown",
   "metadata": {},
   "source": [
    "Leave-P-Label-Out é semelhante ao Leave-One-Label-Out, mas remove amostras relacionadas aos P rótulos para cada conjunto de treinamento/teste."
   ]
  },
  {
   "cell_type": "code",
   "execution_count": 478,
   "metadata": {},
   "outputs": [
    {
     "name": "stdout",
     "output_type": "stream",
     "text": [
      "sklearn.cross_validation.LeavePLabelOut(labels=[1 1 2 2 3 3], p=2)\n",
      "[4 5] [0 1 2 3]\n",
      "[2 3] [0 1 4 5]\n",
      "[0 1] [2 3 4 5]\n"
     ]
    }
   ],
   "source": [
    "from sklearn.cross_validation import LeavePLabelOut\n",
    "X1 = [[0., 0.], [1., 1.], [-1., -1.], [2., 2.], [3., 3.], [4., 4.]]\n",
    "Y1 = [0, 1, 0, 1, 0, 1]\n",
    "labels = [1, 1, 2, 2, 3, 3]\n",
    "lplo = LeavePLabelOut(labels, 2)\n",
    "print(lplo)\n",
    "\n",
    "for train, test in lplo:\n",
    "    print(train, test)"
   ]
  },
  {
   "cell_type": "markdown",
   "metadata": {},
   "source": [
    "### 7. ShuffleSplit"
   ]
  },
  {
   "cell_type": "markdown",
   "metadata": {},
   "source": [
    "O iterador ShuffleSplit gerará um número definido pelo usuário de divisões independentes do conjunto de dados de train/teste. <br>\n",
    "As amostras são primeiro embaralhadas e, em seguida, divididas em dois conjuntos de train e teste. <br>\n",
    "É possível controlar a aleatoriedade para a reprodutibilidade dos resultados, criando explicitamente o gerador de números pseudo aleatórios random_state."
   ]
  },
  {
   "cell_type": "code",
   "execution_count": 479,
   "metadata": {},
   "outputs": [
    {
     "name": "stdout",
     "output_type": "stream",
     "text": [
      "[1 3 4] [2 0]\n",
      "[1 4 3] [0 2]\n",
      "[4 0 2] [1 3]\n"
     ]
    }
   ],
   "source": [
    "from sklearn.model_selection import ShuffleSplit\n",
    "X1 = np.arange(5)\n",
    "ss = ShuffleSplit(n_splits=3, test_size=0.25, random_state=0)\n",
    "for train_index, test_index in ss.split(X1):\n",
    "    print(\"%s %s\" % (train_index, test_index))"
   ]
  },
  {
   "cell_type": "markdown",
   "metadata": {},
   "source": [
    "O ShuffleSplit é uma boa alternativa para a validação cruzada K-Fold pois permite um controle mais preciso sobre o número de iterações e a proporção de amostras em cada lado da divisão do train/teste."
   ]
  },
  {
   "cell_type": "code",
   "execution_count": 480,
   "metadata": {},
   "outputs": [
    {
     "name": "stdout",
     "output_type": "stream",
     "text": [
      "Automatically created module for IPython interactive environment\n"
     ]
    }
   ],
   "source": [
    "print(__doc__)\n",
    "\n",
    "def plot_learning_curve(estimator, title, X, y, ylim=None, cv=None,\n",
    "                        n_jobs=1, train_sizes=np.linspace(.1, 1.0, 5)):\n",
    "    \"\"\"\n",
    "    Generate a simple plot of the test and training learning curve.\n",
    "\n",
    "    Parameters\n",
    "    ----------\n",
    "    estimator : object type that implements the \"fit\" and \"predict\" methods\n",
    "        An object of that type which is cloned for each validation.\n",
    "\n",
    "    title : string\n",
    "        Title for the chart.\n",
    "\n",
    "    X : array-like, shape (n_samples, n_features)\n",
    "        Training vector, where n_samples is the number of samples and\n",
    "        n_features is the number of features.\n",
    "\n",
    "    y : array-like, shape (n_samples) or (n_samples, n_features), optional\n",
    "        Target relative to X for classification or regression;\n",
    "        None for unsupervised learning.\n",
    "\n",
    "    ylim : tuple, shape (ymin, ymax), optional\n",
    "        Defines minimum and maximum yvalues plotted.\n",
    "\n",
    "    cv : int, cross-validation generator or an iterable, optional\n",
    "        Determines the cross-validation splitting strategy.\n",
    "        Possible inputs for cv are:\n",
    "          - None, to use the default 3-fold cross-validation,\n",
    "          - integer, to specify the number of folds.\n",
    "          - An object to be used as a cross-validation generator.\n",
    "          - An iterable yielding train/test splits.\n",
    "\n",
    "        For integer/None inputs, if ``y`` is binary or multiclass,\n",
    "        :class:`StratifiedKFold` used. If the estimator is not a classifier\n",
    "        or if ``y`` is neither binary nor multiclass, :class:`KFold` is used.\n",
    "\n",
    "        Refer :ref:`User Guide <cross_validation>` for the various\n",
    "        cross-validators that can be used here.\n",
    "\n",
    "    n_jobs : integer, optional\n",
    "        Number of jobs to run in parallel (default 1).\n",
    "    \"\"\"\n",
    "    plt.figure()\n",
    "    plt.title(title)\n",
    "    if ylim is not None:\n",
    "        plt.ylim(*ylim)\n",
    "    plt.xlabel(\"Training examples\")\n",
    "    plt.ylabel(\"Score\")\n",
    "    train_sizes, train_scores, test_scores = learning_curve(\n",
    "        estimator, X, y, cv=cv, n_jobs=n_jobs, train_sizes=train_sizes)\n",
    "    train_scores_mean = np.mean(train_scores, axis=1)\n",
    "    train_scores_std = np.std(train_scores, axis=1)\n",
    "    test_scores_mean = np.mean(test_scores, axis=1)\n",
    "    test_scores_std = np.std(test_scores, axis=1)\n",
    "    plt.grid()\n",
    "\n",
    "    plt.fill_between(train_sizes, train_scores_mean - train_scores_std,\n",
    "                     train_scores_mean + train_scores_std, alpha=0.1,\n",
    "                     color=\"r\")\n",
    "    plt.fill_between(train_sizes, test_scores_mean - test_scores_std,\n",
    "                     test_scores_mean + test_scores_std, alpha=0.1, color=\"g\")\n",
    "    plt.plot(train_sizes, train_scores_mean, 'o-', color=\"r\",\n",
    "             label=\"Training score\")\n",
    "    plt.plot(train_sizes, test_scores_mean, 'o-', color=\"g\",\n",
    "             label=\"Cross-validation score\")\n",
    "\n",
    "    plt.legend(loc=\"best\")\n",
    "    return plt"
   ]
  },
  {
   "cell_type": "code",
   "execution_count": 481,
   "metadata": {},
   "outputs": [
    {
     "data": {
      "image/png": "[encoded data removed]",
      "text/plain": [
       "<matplotlib.figure.Figure at 0xe76fd68>"
      ]
     },
     "metadata": {},
     "output_type": "display_data"
    }
   ],
   "source": [
    "\n",
    "# plotando a curva de aprendizado usando o metodo de validação cruzada ShuffleSplit\n",
    "ss = ShuffleSplit(n_splits=10, test_size=0.3, random_state=0)\n",
    "lm = linear_model.LinearRegression()\n",
    "plot_learning_curve(lm, 'teste', df1, Y, cv=ss, n_jobs=4)\n",
    "plt.show()"
   ]
  },
  {
   "cell_type": "code",
   "execution_count": null,
   "metadata": {
    "collapsed": true
   },
   "outputs": [],
   "source": []
  },
  {
   "cell_type": "markdown",
   "metadata": {},
   "source": [
    "Referências <br>\n",
    "- https://medium.com/towards-data-science/train-test-split-and-cross-validation-in-python-80b61beca4b6\n",
    "\n",
    "- http://scikit-learn.org/stable/modules/cross_validation.html\n",
    "\n",
    "- http://ogrisel.github.io/scikit-learn.org/sklearn-tutorial/modules/cross_validation.html\n",
    "- http://scikit-learn.org/stable/auto_examples/model_selection/plot_learning_curve.html"
   ]
  }
 ],
 "metadata": {
  "kernelspec": {
   "display_name": "Python 3",
   "language": "python",
   "name": "python3"
  },
  "language_info": {
   "codemirror_mode": {
    "name": "ipython",
    "version": 3
   },
   "file_extension": ".py",
   "mimetype": "text/x-python",
   "name": "python",
   "nbconvert_exporter": "python",
   "pygments_lexer": "ipython3",
   "version": "3.6.3"
  }
 },
 "nbformat": 4,
 "nbformat_minor": 2
}

{
 "cells": [
  {
   "cell_type": "markdown",
   "metadata": {},
   "source": [
    "# EXEMPLO - Aula_17: Regressão Logística"
   ]
  },
  {
   "cell_type": "markdown",
   "metadata": {},
   "source": [
    "Base de Dados <br>\n",
    "Fonte da dados: kaglgle <br>\n",
    "Link: https://www.kaggle.com/kost13/us-income-logistic-regression/data <br>\n",
    "Resumo: Dados do Censo Adulto Americano referentes a renda para fatores sociais como Idade, Educação, raça, etc. <br>\n",
    "Objetivo: Ajustar um modelo de regressão logística, em uma base de treinamento, para uma resposta binária, fazer a previsão desta resposta e avaliar a qualidade de ajuste do modelo em uma base de teste.\n"
   ]
  },
  {
   "cell_type": "markdown",
   "metadata": {
    "_cell_guid": "8db8ec39-0419-4989-a9cc-90cc4c08c35b",
    "_uuid": "321134977aaf497b0d1e99e10652480fa1ffcea2"
   },
   "source": [
    "## Importando os Dados"
   ]
  },
  {
   "cell_type": "code",
   "execution_count": 73,
   "metadata": {
    "_cell_guid": "b3c7994c-c402-4a78-a65f-d44fe4f6f375",
    "_kg_hide-input": false,
    "_uuid": "2d3d846b4daf6c81aaef2026dd4411c02e6f84a0",
    "collapsed": true
   },
   "outputs": [],
   "source": [
    "import numpy as np\n",
    "import pandas as pd\n",
    "pd.set_option('display.max_columns', 500)\n",
    "import matplotlib as mpl\n",
    "import matplotlib.pyplot as plt\n",
    "import seaborn as sns\n",
    "from sklearn.preprocessing import StandardScaler\n",
    "\n",
    "columns = ['Age','Workclass','fnlgwt','Education','Education num','Marital Status',\n",
    "           'Occupation','Relationship','Race','Sex','Capital Gain','Capital Loss',\n",
    "           'Hours/Week','Native country','Income']\n",
    "\n",
    "train = pd.read_csv('C:/Users/crrodr/Desktop/Tera - Data Science/Bases para exemplos-exercicios/Regressao_Logistica/Adult/adult-training.csv', names=columns)\n",
    "test = pd.read_csv('C:/Users/crrodr/Desktop/Tera - Data Science/Bases para exemplos-exercicios/Regressao_Logistica/Adult/adult-test.csv', names=columns, skiprows=1)\n",
    "\n",
    "%matplotlib inline"
   ]
  },
  {
   "cell_type": "code",
   "execution_count": 74,
   "metadata": {
    "_cell_guid": "1ebefc56-485c-441f-be5d-caba6ad546a0",
    "_uuid": "7bbac22afe972c60cc5dcf164d681faca6a2d8ac",
    "scrolled": false
   },
   "outputs": [
    {
     "data": {
      "text/html": [
       "<div>\n",
       "<style>\n",
       "    .dataframe thead tr:only-child th {\n",
       "        text-align: right;\n",
       "    }\n",
       "\n",
       "    .dataframe thead th {\n",
       "        text-align: left;\n",
       "    }\n",
       "\n",
       "    .dataframe tbody tr th {\n",
       "        vertical-align: top;\n",
       "    }\n",
       "</style>\n",
       "<table border=\"1\" class=\"dataframe\">\n",
       "  <thead>\n",
       "    <tr style=\"text-align: right;\">\n",
       "      <th></th>\n",
       "      <th>Age</th>\n",
       "      <th>Workclass</th>\n",
       "      <th>fnlgwt</th>\n",
       "      <th>Education</th>\n",
       "      <th>Education num</th>\n",
       "      <th>Marital Status</th>\n",
       "      <th>Occupation</th>\n",
       "      <th>Relationship</th>\n",
       "      <th>Race</th>\n",
       "      <th>Sex</th>\n",
       "      <th>Capital Gain</th>\n",
       "      <th>Capital Loss</th>\n",
       "      <th>Hours/Week</th>\n",
       "      <th>Native country</th>\n",
       "      <th>Income</th>\n",
       "    </tr>\n",
       "  </thead>\n",
       "  <tbody>\n",
       "    <tr>\n",
       "      <th>0</th>\n",
       "      <td>39</td>\n",
       "      <td>State-gov</td>\n",
       "      <td>77516</td>\n",
       "      <td>Bachelors</td>\n",
       "      <td>13</td>\n",
       "      <td>Never-married</td>\n",
       "      <td>Adm-clerical</td>\n",
       "      <td>Not-in-family</td>\n",
       "      <td>White</td>\n",
       "      <td>Male</td>\n",
       "      <td>2174</td>\n",
       "      <td>0</td>\n",
       "      <td>40</td>\n",
       "      <td>United-States</td>\n",
       "      <td>&lt;=50K</td>\n",
       "    </tr>\n",
       "    <tr>\n",
       "      <th>1</th>\n",
       "      <td>50</td>\n",
       "      <td>Self-emp-not-inc</td>\n",
       "      <td>83311</td>\n",
       "      <td>Bachelors</td>\n",
       "      <td>13</td>\n",
       "      <td>Married-civ-spouse</td>\n",
       "      <td>Exec-managerial</td>\n",
       "      <td>Husband</td>\n",
       "      <td>White</td>\n",
       "      <td>Male</td>\n",
       "      <td>0</td>\n",
       "      <td>0</td>\n",
       "      <td>13</td>\n",
       "      <td>United-States</td>\n",
       "      <td>&lt;=50K</td>\n",
       "    </tr>\n",
       "    <tr>\n",
       "      <th>2</th>\n",
       "      <td>38</td>\n",
       "      <td>Private</td>\n",
       "      <td>215646</td>\n",
       "      <td>HS-grad</td>\n",
       "      <td>9</td>\n",
       "      <td>Divorced</td>\n",
       "      <td>Handlers-cleaners</td>\n",
       "      <td>Not-in-family</td>\n",
       "      <td>White</td>\n",
       "      <td>Male</td>\n",
       "      <td>0</td>\n",
       "      <td>0</td>\n",
       "      <td>40</td>\n",
       "      <td>United-States</td>\n",
       "      <td>&lt;=50K</td>\n",
       "    </tr>\n",
       "    <tr>\n",
       "      <th>3</th>\n",
       "      <td>53</td>\n",
       "      <td>Private</td>\n",
       "      <td>234721</td>\n",
       "      <td>11th</td>\n",
       "      <td>7</td>\n",
       "      <td>Married-civ-spouse</td>\n",
       "      <td>Handlers-cleaners</td>\n",
       "      <td>Husband</td>\n",
       "      <td>Black</td>\n",
       "      <td>Male</td>\n",
       "      <td>0</td>\n",
       "      <td>0</td>\n",
       "      <td>40</td>\n",
       "      <td>United-States</td>\n",
       "      <td>&lt;=50K</td>\n",
       "    </tr>\n",
       "    <tr>\n",
       "      <th>4</th>\n",
       "      <td>28</td>\n",
       "      <td>Private</td>\n",
       "      <td>338409</td>\n",
       "      <td>Bachelors</td>\n",
       "      <td>13</td>\n",
       "      <td>Married-civ-spouse</td>\n",
       "      <td>Prof-specialty</td>\n",
       "      <td>Wife</td>\n",
       "      <td>Black</td>\n",
       "      <td>Female</td>\n",
       "      <td>0</td>\n",
       "      <td>0</td>\n",
       "      <td>40</td>\n",
       "      <td>Cuba</td>\n",
       "      <td>&lt;=50K</td>\n",
       "    </tr>\n",
       "  </tbody>\n",
       "</table>\n",
       "</div>"
      ],
      "text/plain": [
       "   Age          Workclass  fnlgwt   Education  Education num  \\\n",
       "0   39          State-gov   77516   Bachelors             13   \n",
       "1   50   Self-emp-not-inc   83311   Bachelors             13   \n",
       "2   38            Private  215646     HS-grad              9   \n",
       "3   53            Private  234721        11th              7   \n",
       "4   28            Private  338409   Bachelors             13   \n",
       "\n",
       "        Marital Status          Occupation    Relationship    Race      Sex  \\\n",
       "0        Never-married        Adm-clerical   Not-in-family   White     Male   \n",
       "1   Married-civ-spouse     Exec-managerial         Husband   White     Male   \n",
       "2             Divorced   Handlers-cleaners   Not-in-family   White     Male   \n",
       "3   Married-civ-spouse   Handlers-cleaners         Husband   Black     Male   \n",
       "4   Married-civ-spouse      Prof-specialty            Wife   Black   Female   \n",
       "\n",
       "   Capital Gain  Capital Loss  Hours/Week  Native country  Income  \n",
       "0          2174             0          40   United-States   <=50K  \n",
       "1             0             0          13   United-States   <=50K  \n",
       "2             0             0          40   United-States   <=50K  \n",
       "3             0             0          40   United-States   <=50K  \n",
       "4             0             0          40            Cuba   <=50K  "
      ]
     },
     "execution_count": 74,
     "metadata": {},
     "output_type": "execute_result"
    }
   ],
   "source": [
    "train.head()"
   ]
  },
  {
   "cell_type": "markdown",
   "metadata": {
    "_cell_guid": "a9bf020a-d2e1-459f-a5a2-8b8ba5ea57a2",
    "_uuid": "5102eacf23ba73ae613d1a7ae576fef5a9b0c344"
   },
   "source": [
    "Mais informação sobre este data set pode se encontrada em: [archive.ics.uci.edu/ml/machine-learning-databases/adult/adult.names](http://archive.ics.uci.edu/ml/machine-learning-databases/adult/adult.names)"
   ]
  },
  {
   "cell_type": "code",
   "execution_count": 75,
   "metadata": {
    "_cell_guid": "ca577964-8356-4b4f-8009-57c5c21aa51f",
    "_uuid": "2d0e63d8dcd66f0f72d6f65233c320ca9840a3a5",
    "scrolled": true
   },
   "outputs": [
    {
     "name": "stdout",
     "output_type": "stream",
     "text": [
      "<class 'pandas.core.frame.DataFrame'>\n",
      "RangeIndex: 32561 entries, 0 to 32560\n",
      "Data columns (total 15 columns):\n",
      "Age               32561 non-null int64\n",
      "Workclass         32561 non-null object\n",
      "fnlgwt            32561 non-null int64\n",
      "Education         32561 non-null object\n",
      "Education num     32561 non-null int64\n",
      "Marital Status    32561 non-null object\n",
      "Occupation        32561 non-null object\n",
      "Relationship      32561 non-null object\n",
      "Race              32561 non-null object\n",
      "Sex               32561 non-null object\n",
      "Capital Gain      32561 non-null int64\n",
      "Capital Loss      32561 non-null int64\n",
      "Hours/Week        32561 non-null int64\n",
      "Native country    32561 non-null object\n",
      "Income            32561 non-null object\n",
      "dtypes: int64(6), object(9)\n",
      "memory usage: 3.7+ MB\n"
     ]
    }
   ],
   "source": [
    "train.info()"
   ]
  },
  {
   "cell_type": "code",
   "execution_count": 76,
   "metadata": {
    "_cell_guid": "66b954d1-f3b5-4761-b875-1d3436266ce3",
    "_uuid": "04536138e2ebdd1cf3fd589d5c57d918c328af52"
   },
   "outputs": [
    {
     "name": "stdout",
     "output_type": "stream",
     "text": [
      "<class 'pandas.core.frame.DataFrame'>\n",
      "RangeIndex: 16281 entries, 0 to 16280\n",
      "Data columns (total 15 columns):\n",
      "Age               16281 non-null int64\n",
      "Workclass         16281 non-null object\n",
      "fnlgwt            16281 non-null int64\n",
      "Education         16281 non-null object\n",
      "Education num     16281 non-null int64\n",
      "Marital Status    16281 non-null object\n",
      "Occupation        16281 non-null object\n",
      "Relationship      16281 non-null object\n",
      "Race              16281 non-null object\n",
      "Sex               16281 non-null object\n",
      "Capital Gain      16281 non-null int64\n",
      "Capital Loss      16281 non-null int64\n",
      "Hours/Week        16281 non-null int64\n",
      "Native country    16281 non-null object\n",
      "Income            16281 non-null object\n",
      "dtypes: int64(6), object(9)\n",
      "memory usage: 1.9+ MB\n"
     ]
    }
   ],
   "source": [
    "test.info()"
   ]
  },
  {
   "cell_type": "markdown",
   "metadata": {
    "_cell_guid": "a73bade7-c5a2-47c8-924f-cc2fc7298f22",
    "_uuid": "d5026d47e16c39bb40ca3ea284beae3b62324127"
   },
   "source": [
    "## Limpando os dados\n",
    "Algumas celulas contem ' ?' -> vamos converter para nan"
   ]
  },
  {
   "cell_type": "code",
   "execution_count": 77,
   "metadata": {
    "_cell_guid": "fd0c8de9-360e-419c-805e-ee996836d426",
    "_uuid": "03c0c5e9df0a4f2070b2ee1c5ebe7335034bcaf4",
    "collapsed": true
   },
   "outputs": [],
   "source": [
    "train.replace(' ?', np.nan, inplace=True)\n",
    "test.replace(' ?', np.nan, inplace=True)"
   ]
  },
  {
   "cell_type": "code",
   "execution_count": 78,
   "metadata": {
    "_cell_guid": "17a8289b-d9ad-40fa-8ac2-f62a1872942b",
    "_uuid": "193b78b85fed7b3f364a69ba03f02d97042d555c"
   },
   "outputs": [
    {
     "data": {
      "text/plain": [
       "Age                  0\n",
       "Workclass         1836\n",
       "fnlgwt               0\n",
       "Education            0\n",
       "Education num        0\n",
       "Marital Status       0\n",
       "Occupation        1843\n",
       "Relationship         0\n",
       "Race                 0\n",
       "Sex                  0\n",
       "Capital Gain         0\n",
       "Capital Loss         0\n",
       "Hours/Week           0\n",
       "Native country     583\n",
       "Income               0\n",
       "dtype: int64"
      ]
     },
     "execution_count": 78,
     "metadata": {},
     "output_type": "execute_result"
    }
   ],
   "source": [
    "train.isnull().sum()"
   ]
  },
  {
   "cell_type": "code",
   "execution_count": 79,
   "metadata": {
    "_cell_guid": "693dbbec-c461-4de8-a4bd-1f5f07c1db39",
    "_uuid": "d77a76fda336728b8ff843e3bc232751ac63548d"
   },
   "outputs": [
    {
     "data": {
      "text/plain": [
       "Age                 0\n",
       "Workclass         963\n",
       "fnlgwt              0\n",
       "Education           0\n",
       "Education num       0\n",
       "Marital Status      0\n",
       "Occupation        966\n",
       "Relationship        0\n",
       "Race                0\n",
       "Sex                 0\n",
       "Capital Gain        0\n",
       "Capital Loss        0\n",
       "Hours/Week          0\n",
       "Native country    274\n",
       "Income              0\n",
       "dtype: int64"
      ]
     },
     "execution_count": 79,
     "metadata": {},
     "output_type": "execute_result"
    }
   ],
   "source": [
    "test.isnull().sum()"
   ]
  },
  {
   "cell_type": "markdown",
   "metadata": {
    "_cell_guid": "8753be5f-5fbe-4aa6-97da-08902c6ba028",
    "_uuid": "ea8c4fa4defc114cc2e891f2671c2364b6904eb7"
   },
   "source": [
    "Como visto, somente Workclass, Occupation e Native country tem valores missing"
   ]
  },
  {
   "cell_type": "markdown",
   "metadata": {
    "_cell_guid": "ec4d5159-2bd1-4383-8c96-1a378f5c1b23",
    "_uuid": "08f83972554476f03e75c00970367f46452b42c0"
   },
   "source": [
    "# Parte_1: Analisando as Variáveis Input"
   ]
  },
  {
   "cell_type": "markdown",
   "metadata": {
    "_cell_guid": "2096221b-88a1-4558-b7d8-ee21c056b130",
    "_uuid": "eca6ef331b4d47364b1844affc54d4ffc3048bf4"
   },
   "source": [
    "## Income"
   ]
  },
  {
   "cell_type": "markdown",
   "metadata": {
    "_cell_guid": "885d99a7-1656-4c5e-90be-e15b97766fe8",
    "_uuid": "823aeafc3ca8ede27011f5beddad0c1c87efd260"
   },
   "source": [
    "Transformando a variável Income-Renda em 0's and 1's"
   ]
  },
  {
   "cell_type": "code",
   "execution_count": 80,
   "metadata": {
    "_cell_guid": "04dec68c-f9db-42bd-9b8d-878cbf5b2c05",
    "_uuid": "52d410e203ae97ca32b997cd0d10d296d2f63928",
    "collapsed": true
   },
   "outputs": [],
   "source": [
    "# apply: aplica uma fç a coluna especificada - no caso Income\n",
    "# defini a fç lambda (nome de variável restrita do python) e já aplica ela\n",
    "train['Income'] = train['Income'].apply(lambda x: 1 if x==' >50K' else 0)\n",
    "test['Income'] = test['Income'].apply(lambda x: 1 if x==' >50K.' else 0)"
   ]
  },
  {
   "cell_type": "markdown",
   "metadata": {
    "_cell_guid": "034833de-e837-4c9e-81a9-b1d56b895f15",
    "_uuid": "a6fedc55a325add259597425b310f85ccda513f4"
   },
   "source": [
    "## Age"
   ]
  },
  {
   "cell_type": "code",
   "execution_count": 81,
   "metadata": {
    "_cell_guid": "ab849813-536c-474a-95e5-215ae2749458",
    "_uuid": "c9932893baa3d9bde9bb3b92eca40472c3b6fd6a"
   },
   "outputs": [
    {
     "data": {
      "image/png": "[encoded data removed]",
      "text/plain": [
       "<matplotlib.figure.Figure at 0xf0de780>"
      ]
     },
     "metadata": {},
     "output_type": "display_data"
    }
   ],
   "source": [
    "plt.hist(train['Age']);"
   ]
  },
  {
   "cell_type": "markdown",
   "metadata": {
    "_cell_guid": "75a1c801-c9f7-4fcc-93fa-50e346ade08a",
    "_uuid": "d4d76fcc375f3947c17c6364a945b4915edd8574"
   },
   "source": [
    "A variável Age parece assimétrica, ela pode ser normalizada. "
   ]
  },
  {
   "cell_type": "markdown",
   "metadata": {
    "_cell_guid": "5e44634b-d192-4442-8de7-1a24ce200475",
    "_uuid": "97cb96247a0520939272c7e2b2da67bd53ede896"
   },
   "source": [
    "## Workclass"
   ]
  },
  {
   "cell_type": "markdown",
   "metadata": {
    "_cell_guid": "98eb40cc-f8aa-48e0-ba52-26c0bc89d78b",
    "_uuid": "530086783bf1a3c3ab7bfe6f642e4028adc8b711"
   },
   "source": [
    "Tem muitas linhas missing, então vamos colocá-las em uma nova classe, substituindo por 0 e ver como fica o gráfico"
   ]
  },
  {
   "cell_type": "code",
   "execution_count": 82,
   "metadata": {
    "_cell_guid": "f1821696-1219-4211-9636-c4540d9e622a",
    "_uuid": "0f969a072c10e0dd07823fa8ba84ed16595c391d",
    "collapsed": true
   },
   "outputs": [],
   "source": [
    "train['Workclass'].fillna(' 0', inplace=True)\n",
    "test['Workclass'].fillna(' 0', inplace=True)"
   ]
  },
  {
   "cell_type": "code",
   "execution_count": 83,
   "metadata": {
    "_cell_guid": "a15101d7-f8eb-4048-a50c-5020641c5c24",
    "_uuid": "bc0590434ae6a3a7482b8e12c0c779e1aecb4eb8"
   },
   "outputs": [
    {
     "data": {
      "image/png": "[encoded data removed]",
      "text/plain": [
       "<matplotlib.figure.Figure at 0xd3b7b70>"
      ]
     },
     "metadata": {},
     "output_type": "display_data"
    }
   ],
   "source": [
    "sns.factorplot(x=\"Workclass\", y=\"Income\", data=train, kind=\"bar\", size = 6, \n",
    "palette = \"muted\")\n",
    "plt.xticks(rotation=45);"
   ]
  },
  {
   "cell_type": "code",
   "execution_count": 84,
   "metadata": {
    "_cell_guid": "995d6abb-3131-45f8-914b-155762d6cc3c",
    "_uuid": "d8d3de017f23115daca06a9e748f02f8e94eec20"
   },
   "outputs": [
    {
     "data": {
      "text/plain": [
       " Private             22696\n",
       " Self-emp-not-inc     2541\n",
       " Local-gov            2093\n",
       " 0                    1836\n",
       " State-gov            1298\n",
       " Self-emp-inc         1116\n",
       " Federal-gov           960\n",
       " Without-pay            14\n",
       " Never-worked            7\n",
       "Name: Workclass, dtype: int64"
      ]
     },
     "execution_count": 84,
     "metadata": {},
     "output_type": "execute_result"
    }
   ],
   "source": [
    "train['Workclass'].value_counts()"
   ]
  },
  {
   "cell_type": "markdown",
   "metadata": {
    "_cell_guid": "3b054226-b909-4f69-a581-a296d448a897",
    "_uuid": "dd4ff807e49ca2ee68869939241bf8a711cd5223"
   },
   "source": [
    "As categorias Never-worked e Without-pay tem poucas obs então vamos juntá-las"
   ]
  },
  {
   "cell_type": "code",
   "execution_count": 85,
   "metadata": {
    "_cell_guid": "2f836ce2-d849-468b-a0ae-dc6ad95abc7d",
    "_uuid": "6c0914daf28e89fd387c7c7afc1947f17dc980de",
    "collapsed": true
   },
   "outputs": [],
   "source": [
    "train['Workclass'].replace(' Without-pay', ' Never-worked', inplace=True)\n",
    "test['Workclass'].replace(' Without-pay', ' Never-worked', inplace=True)"
   ]
  },
  {
   "cell_type": "markdown",
   "metadata": {
    "_cell_guid": "43adeb81-92b3-4944-94dc-9f90a070b30b",
    "_uuid": "aca3f137e82cb3b74c83ca849cb21ae807cae501"
   },
   "source": [
    "## fnlgwt"
   ]
  },
  {
   "cell_type": "code",
   "execution_count": 86,
   "metadata": {
    "_cell_guid": "12403787-7843-4d45-a0b6-a22878d29469",
    "_uuid": "724776faf94970471ec5f753f4a1c7a15a3be204"
   },
   "outputs": [
    {
     "data": {
      "text/plain": [
       "count    3.256100e+04\n",
       "mean     1.897784e+05\n",
       "std      1.055500e+05\n",
       "min      1.228500e+04\n",
       "25%      1.178270e+05\n",
       "50%      1.783560e+05\n",
       "75%      2.370510e+05\n",
       "max      1.484705e+06\n",
       "Name: fnlgwt, dtype: float64"
      ]
     },
     "execution_count": 86,
     "metadata": {},
     "output_type": "execute_result"
    }
   ],
   "source": [
    "train['fnlgwt'].describe()"
   ]
  },
  {
   "cell_type": "markdown",
   "metadata": {
    "_cell_guid": "e543e806-9b60-4a45-a13c-b505cf1497d3",
    "_uuid": "bb89efabe500e37d6897d017069335a32f0acf3d"
   },
   "source": [
    "A variável Fnlwgt tem números elevados e grande desvio padrão, vamos tomar um logaritmo dela"
   ]
  },
  {
   "cell_type": "code",
   "execution_count": 87,
   "metadata": {
    "_cell_guid": "35374a52-13ee-4f02-9895-8907c1c320e2",
    "_uuid": "29e48004d1f8c002f0460409bb0ea0b55fe50c8e",
    "collapsed": true
   },
   "outputs": [],
   "source": [
    "# poderia usar tb train['fnlgwt'] = train['fnlgwt'].apply(np.log1p)\n",
    "train['fnlgwt'] = train['fnlgwt'].apply(lambda x: np.log1p(x))\n",
    "test['fnlgwt'] = test['fnlgwt'].apply(lambda x: np.log1p(x))"
   ]
  },
  {
   "cell_type": "code",
   "execution_count": 88,
   "metadata": {
    "_cell_guid": "d6367a80-0ddf-4d42-9d53-85ff2874e1c2",
    "_uuid": "18aed5e8be121f4be949012208956a728288831e"
   },
   "outputs": [
    {
     "data": {
      "text/plain": [
       "count    32561.000000\n",
       "mean        11.983778\n",
       "std          0.630738\n",
       "min          9.416216\n",
       "25%         11.676981\n",
       "50%         12.091542\n",
       "75%         12.376035\n",
       "max         14.210727\n",
       "Name: fnlgwt, dtype: float64"
      ]
     },
     "execution_count": 88,
     "metadata": {},
     "output_type": "execute_result"
    }
   ],
   "source": [
    "train['fnlgwt'].describe()"
   ]
  },
  {
   "cell_type": "markdown",
   "metadata": {
    "_cell_guid": "e5f73d58-8f8b-412a-b113-b92b6f0e644e",
    "_uuid": "cca65f789aeb81eba03e816b0f1f36ecbd534836"
   },
   "source": [
    "## Education"
   ]
  },
  {
   "cell_type": "code",
   "execution_count": 89,
   "metadata": {
    "_cell_guid": "f84db673-af02-4587-90ad-5c794dfee3e4",
    "_uuid": "9c29a000c4247d323358660baad7d24accdd79d2"
   },
   "outputs": [
    {
     "data": {
      "image/png": "[encoded data removed]",
      "text/plain": [
       "<matplotlib.figure.Figure at 0xf2f5be0>"
      ]
     },
     "metadata": {},
     "output_type": "display_data"
    }
   ],
   "source": [
    "sns.factorplot(x=\"Education\",y=\"Income\",data=train,kind=\"bar\", size = 7, \n",
    "palette = \"muted\")\n",
    "plt.xticks(rotation=60);"
   ]
  },
  {
   "cell_type": "markdown",
   "metadata": {
    "_cell_guid": "49a4aec3-48b9-4d52-b5be-68a35b404733",
    "_uuid": "6b97ed16d4b37649dc00a0fa647902587eff055e"
   },
   "source": [
    "A educação primária é dividada em grades:' 1st-4th', ' 5th-6th', ' 7th-8th', ' 9th', ' 10th', ' 11th', ' 12th'. <br>\n",
    "Por isso vamos juntar essas classes em uma nova classe - Primary"
   ]
  },
  {
   "cell_type": "code",
   "execution_count": 90,
   "metadata": {
    "_cell_guid": "3b277a06-05bb-4685-b337-aed6167112f3",
    "_uuid": "e8800bdbd79c4d1e53e2c40b883a86eed2d74490",
    "collapsed": true
   },
   "outputs": [],
   "source": [
    "def primary(x):\n",
    "    if x in [' 1st-4th', ' 5th-6th', ' 7th-8th', ' 9th', ' 10th', ' 11th', ' 12th']:\n",
    "        return ' Primary'\n",
    "    else:\n",
    "        return x"
   ]
  },
  {
   "cell_type": "code",
   "execution_count": 91,
   "metadata": {
    "_cell_guid": "79d7c7be-581e-4576-bea2-ab980c0c1243",
    "_uuid": "c8675f8d8b87d1923c2b8d78bd44596a080dcd89",
    "collapsed": true
   },
   "outputs": [],
   "source": [
    "train['Education'] = train['Education'].apply(primary)\n",
    "test['Education'] = test['Education'].apply(primary)"
   ]
  },
  {
   "cell_type": "code",
   "execution_count": 92,
   "metadata": {
    "_cell_guid": "8b9ceab0-315e-4de0-a8f5-788098ddbd4c",
    "_uuid": "9d1317363c5e05204ab97fcc9fe5510576d2693d"
   },
   "outputs": [
    {
     "data": {
      "image/png": "[encoded data removed]",
      "text/plain": [
       "<matplotlib.figure.Figure at 0xf002b00>"
      ]
     },
     "metadata": {},
     "output_type": "display_data"
    }
   ],
   "source": [
    "sns.factorplot(x=\"Education\",y=\"Income\",data=train,kind=\"bar\", size = 6, \n",
    "palette = \"muted\")\n",
    "plt.xticks(rotation=60);"
   ]
  },
  {
   "cell_type": "markdown",
   "metadata": {
    "_cell_guid": "cde9658b-bc7b-46e3-ab70-046ecac0eb44",
    "_uuid": "2e74d27ac8dcff2619da0d07cf14985e74df9cbc"
   },
   "source": [
    "## Education num"
   ]
  },
  {
   "cell_type": "code",
   "execution_count": 93,
   "metadata": {
    "_cell_guid": "0612a765-858a-4f7d-adc8-ac56358e0a04",
    "_uuid": "c7d4f1f29d71427bdae3a96b95f98601aee3e427"
   },
   "outputs": [
    {
     "data": {
      "image/png": "[encoded data removed]",
      "text/plain": [
       "<matplotlib.figure.Figure at 0xdc20048>"
      ]
     },
     "metadata": {},
     "output_type": "display_data"
    }
   ],
   "source": [
    "sns.factorplot(x=\"Education num\",y=\"Income\",data=train,kind=\"bar\", size = 6, \n",
    "palette = \"muted\")\n",
    "plt.xticks(rotation=60);"
   ]
  },
  {
   "cell_type": "markdown",
   "metadata": {
    "_cell_guid": "79140784-acde-43ce-9c5d-4f8ebac6d544",
    "_uuid": "32bb33ee93168bac378bcf35ee696d8ae89e0db0"
   },
   "source": [
    "## Marital Status"
   ]
  },
  {
   "cell_type": "code",
   "execution_count": 94,
   "metadata": {
    "_cell_guid": "225cae7f-7400-47b1-9c8e-37a9c9945676",
    "_uuid": "b7f7ef4d6ec855a4e869807698e6007fe3a9ec18"
   },
   "outputs": [
    {
     "data": {
      "image/png": "[encoded data removed]",
      "text/plain": [
       "<matplotlib.figure.Figure at 0xf0c6e10>"
      ]
     },
     "metadata": {},
     "output_type": "display_data"
    }
   ],
   "source": [
    "sns.factorplot(x=\"Marital Status\",y=\"Income\",data=train,kind=\"bar\", size = 5, \n",
    "palette = \"muted\")\n",
    "plt.xticks(rotation=60);"
   ]
  },
  {
   "cell_type": "code",
   "execution_count": 95,
   "metadata": {
    "_cell_guid": "c554762f-b21a-40b2-9968-d708d2fc112e",
    "_uuid": "e7cd25833ec464eb5e7ea5519e1f7230d5036c94"
   },
   "outputs": [
    {
     "data": {
      "text/plain": [
       " Married-civ-spouse       14976\n",
       " Never-married            10683\n",
       " Divorced                  4443\n",
       " Separated                 1025\n",
       " Widowed                    993\n",
       " Married-spouse-absent      418\n",
       " Married-AF-spouse           23\n",
       "Name: Marital Status, dtype: int64"
      ]
     },
     "execution_count": 95,
     "metadata": {},
     "output_type": "execute_result"
    }
   ],
   "source": [
    "train['Marital Status'].value_counts()"
   ]
  },
  {
   "cell_type": "markdown",
   "metadata": {
    "_cell_guid": "216825eb-9391-4ff6-8c8c-7fd684bfc5fd",
    "_uuid": "2bfa6632b407c705379e2a88c670b9a3f288d396"
   },
   "source": [
    "Há poucas obs na categoria Married-AF-spouse. Então vamos juntá-la com a categoria Married-civ-spouse."
   ]
  },
  {
   "cell_type": "code",
   "execution_count": 96,
   "metadata": {
    "_cell_guid": "32f55ec2-4eb1-4709-a4e5-06167484a598",
    "_uuid": "afb67a947fd4b4f7faab95089dedf734b5752b0f",
    "collapsed": true
   },
   "outputs": [],
   "source": [
    "train['Marital Status'].replace(' Married-AF-spouse', ' Married-civ-spouse', inplace=True)\n",
    "test['Marital Status'].replace(' Married-AF-spouse', ' Married-civ-spouse', inplace=True)"
   ]
  },
  {
   "cell_type": "code",
   "execution_count": 97,
   "metadata": {
    "_cell_guid": "4ce72fc8-ce62-4c57-b943-4f03d005d901",
    "_uuid": "8fb46adb242b359c409dd43e3bd2cfd85b50cf48"
   },
   "outputs": [
    {
     "data": {
      "image/png": "[encoded data removed]",
      "text/plain": [
       "<matplotlib.figure.Figure at 0xf4d4eb8>"
      ]
     },
     "metadata": {},
     "output_type": "display_data"
    }
   ],
   "source": [
    "sns.factorplot(x=\"Marital Status\",y=\"Income\",data=train,kind=\"bar\", size = 6, \n",
    "palette = \"muted\")\n",
    "plt.xticks(rotation=60);"
   ]
  },
  {
   "cell_type": "markdown",
   "metadata": {
    "_cell_guid": "c16e59ea-3fe6-4d6e-8fde-386dce237635",
    "_uuid": "27fa53e553fd5767a42013871646e53bf8fb911a"
   },
   "source": [
    "## Occupation"
   ]
  },
  {
   "cell_type": "markdown",
   "metadata": {},
   "source": [
    "Tem muitas linhas missing, então vamos colocá-las em uma nova classe, substituindo por 0 e ver como fica o gráfico"
   ]
  },
  {
   "cell_type": "code",
   "execution_count": 98,
   "metadata": {
    "_cell_guid": "c77a1dd6-097a-4e96-8e66-feef948d491c",
    "_uuid": "0a30d301786065557dec5fc48e7090c8aa2a206f",
    "collapsed": true
   },
   "outputs": [],
   "source": [
    "train['Occupation'].fillna(' 0', inplace=True)\n",
    "test['Occupation'].fillna(' 0', inplace=True)"
   ]
  },
  {
   "cell_type": "code",
   "execution_count": 99,
   "metadata": {
    "_cell_guid": "5f17e5b2-68b2-4b53-9949-6b8d8c8ce34f",
    "_uuid": "fb2cc89a7be3725d27f091fc65b6273618e2af7a",
    "scrolled": true
   },
   "outputs": [
    {
     "data": {
      "image/png": "[encoded data removed]",
      "text/plain": [
       "<matplotlib.figure.Figure at 0xd793d30>"
      ]
     },
     "metadata": {},
     "output_type": "display_data"
    }
   ],
   "source": [
    "sns.factorplot(x=\"Occupation\",y=\"Income\",data=train,kind=\"bar\", size = 8, \n",
    "palette = \"muted\")\n",
    "plt.xticks(rotation=60);"
   ]
  },
  {
   "cell_type": "code",
   "execution_count": 100,
   "metadata": {
    "_cell_guid": "f18860ee-97db-4dd1-9f0b-accaee7f6fd3",
    "_uuid": "9cc0cb16f325dc950198739bc5ec193de3422b6f",
    "scrolled": true
   },
   "outputs": [
    {
     "data": {
      "text/plain": [
       " Prof-specialty       4140\n",
       " Craft-repair         4099\n",
       " Exec-managerial      4066\n",
       " Adm-clerical         3770\n",
       " Sales                3650\n",
       " Other-service        3295\n",
       " Machine-op-inspct    2002\n",
       " 0                    1843\n",
       " Transport-moving     1597\n",
       " Handlers-cleaners    1370\n",
       " Farming-fishing       994\n",
       " Tech-support          928\n",
       " Protective-serv       649\n",
       " Priv-house-serv       149\n",
       " Armed-Forces            9\n",
       "Name: Occupation, dtype: int64"
      ]
     },
     "execution_count": 100,
     "metadata": {},
     "output_type": "execute_result"
    }
   ],
   "source": [
    "train['Occupation'].value_counts()"
   ]
  },
  {
   "cell_type": "markdown",
   "metadata": {
    "_cell_guid": "b45743a1-d8c6-469e-9af3-b80b0457e34f",
    "_uuid": "e20f5a92b644a764226cb3915721586ad2867504"
   },
   "source": [
    "A categoria Armed-Forces tem poucas observações, então vamos juntá-la com a categoria 0"
   ]
  },
  {
   "cell_type": "code",
   "execution_count": 101,
   "metadata": {
    "_cell_guid": "97b014c3-dfe1-4167-9e30-0aac76ffca3c",
    "_uuid": "ad44f1e94fabee2dcac386dce2b190777e01a4da",
    "collapsed": true
   },
   "outputs": [],
   "source": [
    "train['Occupation'].replace(' Armed-Forces', ' 0', inplace=True)\n",
    "test['Occupation'].replace(' Armed-Forces', ' 0', inplace=True)"
   ]
  },
  {
   "cell_type": "code",
   "execution_count": 102,
   "metadata": {
    "_cell_guid": "23e65da0-0cbf-4128-9d3c-256d83f06033",
    "_uuid": "0e24b36e023b16b4f3c40c85cc4b26384aae7712"
   },
   "outputs": [
    {
     "data": {
      "image/png": "[encoded data removed]",
      "text/plain": [
       "<matplotlib.figure.Figure at 0xfcffcf8>"
      ]
     },
     "metadata": {},
     "output_type": "display_data"
    }
   ],
   "source": [
    "sns.factorplot(x=\"Occupation\",y=\"Income\",data=train,kind=\"bar\", size = 8, \n",
    "palette = \"muted\")\n",
    "plt.xticks(rotation=60);"
   ]
  },
  {
   "cell_type": "markdown",
   "metadata": {
    "_cell_guid": "47f98041-4008-43b4-8f33-e994b7ceff06",
    "_uuid": "0b89f2fa185c0171c1768b8582aced9359d9c8e8"
   },
   "source": [
    "## Relationship"
   ]
  },
  {
   "cell_type": "code",
   "execution_count": 103,
   "metadata": {
    "_cell_guid": "47b839ab-5825-4f09-938d-9db123984838",
    "_uuid": "ea858e4fefd322ec7d1c284c89eba3449d86b613"
   },
   "outputs": [
    {
     "data": {
      "image/png": "[encoded data removed]",
      "text/plain": [
       "<matplotlib.figure.Figure at 0x10bc15c0>"
      ]
     },
     "metadata": {},
     "output_type": "display_data"
    }
   ],
   "source": [
    "sns.factorplot(x=\"Relationship\",y=\"Income\",data=train,kind=\"bar\", size = 6, \n",
    "palette = \"muted\")\n",
    "plt.xticks(rotation=60);"
   ]
  },
  {
   "cell_type": "code",
   "execution_count": 104,
   "metadata": {
    "_cell_guid": "b563854f-7fdb-4d64-96fb-5350b0f8ec63",
    "_uuid": "02917c01f6b7031816ea612895ce349df5397181",
    "scrolled": true
   },
   "outputs": [
    {
     "data": {
      "text/plain": [
       " Husband           13193\n",
       " Not-in-family      8305\n",
       " Own-child          5068\n",
       " Unmarried          3446\n",
       " Wife               1568\n",
       " Other-relative      981\n",
       "Name: Relationship, dtype: int64"
      ]
     },
     "execution_count": 104,
     "metadata": {},
     "output_type": "execute_result"
    }
   ],
   "source": [
    "train['Relationship'].value_counts()"
   ]
  },
  {
   "cell_type": "markdown",
   "metadata": {
    "_cell_guid": "3bf9f9f5-df64-4825-8c90-c773660fdbc6",
    "_uuid": "5e0e184a6af3729d25206f89a2abb766c36fc36a"
   },
   "source": [
    "Tudo OK com essa variável"
   ]
  },
  {
   "cell_type": "markdown",
   "metadata": {
    "_cell_guid": "2f2e9ee0-782d-40b6-9380-879164d5efcc",
    "_uuid": "8dba84274fc44824417db937a08cd0301c37994e"
   },
   "source": [
    "## Race"
   ]
  },
  {
   "cell_type": "code",
   "execution_count": 105,
   "metadata": {
    "_cell_guid": "6f09bdb5-ddc6-478e-ab15-c4d66547282c",
    "_uuid": "486edb7d69ffb30553ed71fe20bf05fa92e05e0e"
   },
   "outputs": [
    {
     "data": {
      "image/png": "[encoded data removed]",
      "text/plain": [
       "<matplotlib.figure.Figure at 0x104f2978>"
      ]
     },
     "metadata": {},
     "output_type": "display_data"
    }
   ],
   "source": [
    "sns.factorplot(x=\"Race\",y=\"Income\",data=train,kind=\"bar\", size = 6, \n",
    "palette = \"muted\")\n",
    "plt.xticks(rotation=45);"
   ]
  },
  {
   "cell_type": "code",
   "execution_count": 106,
   "metadata": {
    "_cell_guid": "83475442-43f1-448c-a001-269bcd0824bc",
    "_uuid": "c6d2598fcfd3f5cc8bd513dfe0117458f89a6a85"
   },
   "outputs": [
    {
     "data": {
      "text/plain": [
       " White                 27816\n",
       " Black                  3124\n",
       " Asian-Pac-Islander     1039\n",
       " Amer-Indian-Eskimo      311\n",
       " Other                   271\n",
       "Name: Race, dtype: int64"
      ]
     },
     "execution_count": 106,
     "metadata": {},
     "output_type": "execute_result"
    }
   ],
   "source": [
    "train['Race'].value_counts()"
   ]
  },
  {
   "cell_type": "markdown",
   "metadata": {
    "_cell_guid": "ad756d12-b874-4323-bf55-3e3c816ad1e3",
    "_uuid": "ee5c0957365473d4190cd777ca8c2228e4e1b38d"
   },
   "source": [
    "Tudo OK com essa variável"
   ]
  },
  {
   "cell_type": "markdown",
   "metadata": {
    "_cell_guid": "c1e7e74e-16b2-462c-a7bc-4ca13b687565",
    "_uuid": "7ffce57682c40bc51f1596508360023988d625f7"
   },
   "source": [
    "## Sex"
   ]
  },
  {
   "cell_type": "code",
   "execution_count": 107,
   "metadata": {
    "_cell_guid": "4b9d79ae-0f90-4d56-b9ba-58fb2129bc70",
    "_uuid": "2a0dcb497089ae5f54bced417423c6cd3352d17d"
   },
   "outputs": [
    {
     "data": {
      "image/png": "[encoded data removed]",
      "text/plain": [
       "<matplotlib.figure.Figure at 0x105ca3c8>"
      ]
     },
     "metadata": {},
     "output_type": "display_data"
    }
   ],
   "source": [
    "sns.factorplot(x=\"Sex\",y=\"Income\",data=train,kind=\"bar\", size = 4, \n",
    "palette = \"muted\");"
   ]
  },
  {
   "cell_type": "markdown",
   "metadata": {
    "_cell_guid": "46f8ba74-b35a-4337-ba79-b6188031d9b1",
    "_uuid": "f419acf13aaef062aa7795d37fbd641f9ce521f0"
   },
   "source": [
    "Tudo OK com essa variável"
   ]
  },
  {
   "cell_type": "markdown",
   "metadata": {
    "_cell_guid": "a8ee1f0c-2fe5-43ee-8493-8c03997994d6",
    "_uuid": "bab2cdfefde06ec3d5620f6cc75dcd55647f217c"
   },
   "source": [
    "## Native country "
   ]
  },
  {
   "cell_type": "markdown",
   "metadata": {},
   "source": [
    "Tem algumas linhas missing, então vamos colocá-las em uma nova classe, substituindo por 0 e ver como fica o gráfico"
   ]
  },
  {
   "cell_type": "code",
   "execution_count": 108,
   "metadata": {
    "_cell_guid": "30913212-e65e-4234-a1a9-82307125cd15",
    "_uuid": "4b3e0ba704659e6a5b02e94557fb8f328eee9154",
    "collapsed": true
   },
   "outputs": [],
   "source": [
    "train['Native country'].fillna(' 0', inplace=True)\n",
    "test['Native country'].fillna(' 0', inplace=True)"
   ]
  },
  {
   "cell_type": "code",
   "execution_count": 109,
   "metadata": {
    "_cell_guid": "620ada94-4d33-499a-9e54-343dc2c3b109",
    "_uuid": "68f708cfc099b1bd70489b841fe18a71228d1119"
   },
   "outputs": [
    {
     "data": {
      "image/png": "[encoded data removed]",
      "text/plain": [
       "<matplotlib.figure.Figure at 0x1052d940>"
      ]
     },
     "metadata": {},
     "output_type": "display_data"
    }
   ],
   "source": [
    "sns.factorplot(x=\"Native country\",y=\"Income\",data=train,kind=\"bar\", size = 10, \n",
    "palette = \"muted\")\n",
    "plt.xticks(rotation=80);"
   ]
  },
  {
   "cell_type": "markdown",
   "metadata": {
    "_cell_guid": "b549123c-9fc4-42bf-8116-666eaeefe63e",
    "_uuid": "b093393dfb2d71568b2448adc522afd6abdd902d"
   },
   "source": [
    "Vamos agrupar essas categorias."
   ]
  },
  {
   "cell_type": "code",
   "execution_count": 110,
   "metadata": {
    "_cell_guid": "454c0b9d-5348-431e-9da6-3abca0d5f0d0",
    "_uuid": "820e7872e5e7deb742cfb9bb93e37ee2ceccd2e3",
    "collapsed": true
   },
   "outputs": [],
   "source": [
    "def native(country):\n",
    "    if country in [' United-States', ' Cuba', ' 0']:\n",
    "        return 'US'\n",
    "    elif country in [' England', ' Germany', ' Canada', ' Italy', ' France', ' Greece', ' Philippines']:\n",
    "        return 'Western'\n",
    "    elif country in [' Mexico', ' Puerto-Rico', ' Honduras', ' Jamaica', ' Columbia', ' Laos', ' Portugal', ' Haiti',\n",
    "                     ' Dominican-Republic', ' El-Salvador', ' Guatemala', ' Peru', \n",
    "                     ' Trinadad&Tobago', ' Outlying-US(Guam-USVI-etc)', ' Nicaragua', ' Vietnam', ' Holand-Netherlands' ]:\n",
    "        return 'Poor' \n",
    "    elif country in [' India', ' Iran', ' Cambodia', ' Taiwan', ' Japan', ' Yugoslavia', ' China', ' Hong']:\n",
    "        return 'Eastern'\n",
    "    elif country in [' South', ' Poland', ' Ireland', ' Hungary', ' Scotland', ' Thailand', ' Ecuador']:\n",
    "        return 'Poland team'\n",
    "    \n",
    "    else: \n",
    "        return country    "
   ]
  },
  {
   "cell_type": "code",
   "execution_count": 111,
   "metadata": {
    "_cell_guid": "c327b433-7587-42bc-be90-3b69e298b7d0",
    "_uuid": "60b838f3968facca02c9516a33c0b98a5143c3a8",
    "collapsed": true
   },
   "outputs": [],
   "source": [
    "train['Native country'] = train['Native country'].apply(native)\n",
    "test['Native country'] = test['Native country'].apply(native)"
   ]
  },
  {
   "cell_type": "code",
   "execution_count": 112,
   "metadata": {
    "_cell_guid": "e53fa207-cd9e-4402-9e56-bd9688c3548e",
    "_uuid": "28f811979ca3e6440378ff643728389c261380f2"
   },
   "outputs": [
    {
     "data": {
      "text/plain": [
       "US             29848\n",
       "Poor            1415\n",
       "Western          677\n",
       "Eastern          386\n",
       "Poland team      235\n",
       "Name: Native country, dtype: int64"
      ]
     },
     "execution_count": 112,
     "metadata": {},
     "output_type": "execute_result"
    }
   ],
   "source": [
    "train['Native country'].value_counts()"
   ]
  },
  {
   "cell_type": "code",
   "execution_count": 113,
   "metadata": {
    "_cell_guid": "3bdc3252-35bd-4ebd-91fa-292ccce1ed7b",
    "_uuid": "eadba7f05acd621e1778350a1dff93250a534b68"
   },
   "outputs": [
    {
     "data": {
      "image/png": "[encoded data removed]",
      "text/plain": [
       "<matplotlib.figure.Figure at 0xd3a8d68>"
      ]
     },
     "metadata": {},
     "output_type": "display_data"
    }
   ],
   "source": [
    "sns.factorplot(x=\"Native country\",y=\"Income\",data=train,kind=\"bar\", size = 5, \n",
    "palette = \"muted\")\n",
    "plt.xticks(rotation=60);"
   ]
  },
  {
   "cell_type": "markdown",
   "metadata": {
    "_cell_guid": "b693d9ca-29e1-4082-8e3b-89d94fa742cd",
    "_uuid": "b11ee5d40519b9f84ec22c910d579caea92f2e71"
   },
   "source": [
    "### Parte_1.1: Criando Dummys"
   ]
  },
  {
   "cell_type": "markdown",
   "metadata": {
    "_cell_guid": "ffef248c-214b-4b45-b7f8-05df2ad4925d",
    "_uuid": "b033aef5b53ac393eaec632186c774938d384820"
   },
   "source": [
    "Agora precisamos criar dummys para as variáveis categóricas usando o pd.get_dummies(). <br>\n",
    "Como esse método pode causar alguns problemas, mesclarmos os conjuntos de dados. Isso garante que as dimensões para ambos os conjuntos de dados sejam iguais às dos conjuntos de dados de treinamento e teste."
   ]
  },
  {
   "cell_type": "code",
   "execution_count": 114,
   "metadata": {
    "_cell_guid": "b6a7a0fd-1013-4273-aafe-6689d54074a1",
    "_uuid": "2b6d65462f680d145916fcd4b9057f135f55747d",
    "collapsed": true
   },
   "outputs": [],
   "source": [
    "#merge datasets\n",
    "joint = pd.concat([train, test], axis=0)\n",
    "# Renaming certain columns for better readability\n",
    "joint = joint.rename(columns={'Education num': 'Education_num', \n",
    "                        'Marital Status': 'Marital',\n",
    "                        'Capital Gain': 'Capital_Gain',\n",
    "                        'Capital Loss': 'Capital_Loss',\n",
    "                        'Hours/Week': 'Hours_Week',\n",
    "                        'Native country': 'Country'\n",
    "                                                })"
   ]
  },
  {
   "cell_type": "code",
   "execution_count": 115,
   "metadata": {
    "_cell_guid": "89f336bb-49a6-4eb8-9eba-6f37a542ccc7",
    "_uuid": "d55a86cbbdf4fa38fa64f72199c56ca1abb6bb7a",
    "collapsed": true,
    "scrolled": true
   },
   "outputs": [],
   "source": [
    "#joint.dtypes"
   ]
  },
  {
   "cell_type": "code",
   "execution_count": 116,
   "metadata": {
    "_cell_guid": "525cd5ec-17f2-4c25-8a07-89c594d64fc8",
    "_uuid": "57a74825249a144bdeb6acec4039f91559c77b10",
    "scrolled": false
   },
   "outputs": [
    {
     "name": "stdout",
     "output_type": "stream",
     "text": [
      "Workclass 8\n",
      "Education 10\n",
      "Marital 6\n",
      "Occupation 14\n",
      "Relationship 6\n",
      "Race 5\n",
      "Sex 2\n",
      "Country 5\n"
     ]
    }
   ],
   "source": [
    "#list of columns with dtype: object\n",
    "#axes[1] coluna\n",
    "#axes[0] linha\n",
    "categorical_features = joint.select_dtypes(include=['object']).axes[1] # retorna as vars que são do tipo objeto\n",
    "\n",
    "# unique: retorna os valores únicos\n",
    "# nunique: retorna o número de valores únicos\n",
    "for col in categorical_features:\n",
    "    print (col, joint[col].nunique()) # retorna as vars que são do tipo objeto e a quantidade de categorias em cada uma delas"
   ]
  },
  {
   "cell_type": "code",
   "execution_count": 117,
   "metadata": {
    "_cell_guid": "5c64f48a-a3ec-4918-9794-fbe9287c0fd5",
    "_uuid": "8110d73345f22085c35184cfbfa053eff9124416",
    "collapsed": true
   },
   "outputs": [],
   "source": [
    "#criando dummys para as variáveis categoricas\n",
    "for col in categorical_features:\n",
    "    joint = pd.concat([joint, pd.get_dummies(joint[col], prefix=col, prefix_sep='_')], axis=1)\n",
    "    joint.drop(col, axis=1, inplace=True)"
   ]
  },
  {
   "cell_type": "code",
   "execution_count": 118,
   "metadata": {
    "collapsed": true
   },
   "outputs": [],
   "source": [
    "# renomeando as variáveis\n",
    "new_columns = {}\n",
    "for i in joint.columns:\n",
    "    new_column = i.replace(\" \", \"\")\n",
    "    new_column = new_column.replace(\"-\", \"_\")\n",
    "    new_columns[i] = new_column\n",
    "\n",
    "joint = joint.rename(columns=new_columns)"
   ]
  },
  {
   "cell_type": "code",
   "execution_count": 119,
   "metadata": {
    "collapsed": true
   },
   "outputs": [],
   "source": [
    "#joint.columns"
   ]
  },
  {
   "cell_type": "code",
   "execution_count": 120,
   "metadata": {},
   "outputs": [
    {
     "data": {
      "text/html": [
       "<div>\n",
       "<style>\n",
       "    .dataframe thead tr:only-child th {\n",
       "        text-align: right;\n",
       "    }\n",
       "\n",
       "    .dataframe thead th {\n",
       "        text-align: left;\n",
       "    }\n",
       "\n",
       "    .dataframe tbody tr th {\n",
       "        vertical-align: top;\n",
       "    }\n",
       "</style>\n",
       "<table border=\"1\" class=\"dataframe\">\n",
       "  <thead>\n",
       "    <tr style=\"text-align: right;\">\n",
       "      <th></th>\n",
       "      <th>Age</th>\n",
       "      <th>fnlgwt</th>\n",
       "      <th>Education_num</th>\n",
       "      <th>Capital_Gain</th>\n",
       "      <th>Capital_Loss</th>\n",
       "      <th>Hours_Week</th>\n",
       "      <th>Income</th>\n",
       "      <th>Workclass_0</th>\n",
       "      <th>Workclass_Federal_gov</th>\n",
       "      <th>Workclass_Local_gov</th>\n",
       "      <th>Workclass_Never_worked</th>\n",
       "      <th>Workclass_Private</th>\n",
       "      <th>Workclass_Self_emp_inc</th>\n",
       "      <th>Workclass_Self_emp_not_inc</th>\n",
       "      <th>Workclass_State_gov</th>\n",
       "      <th>Education_Assoc_acdm</th>\n",
       "      <th>Education_Assoc_voc</th>\n",
       "      <th>Education_Bachelors</th>\n",
       "      <th>Education_Doctorate</th>\n",
       "      <th>Education_HS_grad</th>\n",
       "      <th>Education_Masters</th>\n",
       "      <th>Education_Preschool</th>\n",
       "      <th>Education_Primary</th>\n",
       "      <th>Education_Prof_school</th>\n",
       "      <th>Education_Some_college</th>\n",
       "      <th>Marital_Divorced</th>\n",
       "      <th>Marital_Married_civ_spouse</th>\n",
       "      <th>Marital_Married_spouse_absent</th>\n",
       "      <th>Marital_Never_married</th>\n",
       "      <th>Marital_Separated</th>\n",
       "      <th>Marital_Widowed</th>\n",
       "      <th>Occupation_0</th>\n",
       "      <th>Occupation_Adm_clerical</th>\n",
       "      <th>Occupation_Craft_repair</th>\n",
       "      <th>Occupation_Exec_managerial</th>\n",
       "      <th>Occupation_Farming_fishing</th>\n",
       "      <th>Occupation_Handlers_cleaners</th>\n",
       "      <th>Occupation_Machine_op_inspct</th>\n",
       "      <th>Occupation_Other_service</th>\n",
       "      <th>Occupation_Priv_house_serv</th>\n",
       "      <th>Occupation_Prof_specialty</th>\n",
       "      <th>Occupation_Protective_serv</th>\n",
       "      <th>Occupation_Sales</th>\n",
       "      <th>Occupation_Tech_support</th>\n",
       "      <th>Occupation_Transport_moving</th>\n",
       "      <th>Relationship_Husband</th>\n",
       "      <th>Relationship_Not_in_family</th>\n",
       "      <th>Relationship_Other_relative</th>\n",
       "      <th>Relationship_Own_child</th>\n",
       "      <th>Relationship_Unmarried</th>\n",
       "      <th>Relationship_Wife</th>\n",
       "      <th>Race_Amer_Indian_Eskimo</th>\n",
       "      <th>Race_Asian_Pac_Islander</th>\n",
       "      <th>Race_Black</th>\n",
       "      <th>Race_Other</th>\n",
       "      <th>Race_White</th>\n",
       "      <th>Sex_Female</th>\n",
       "      <th>Sex_Male</th>\n",
       "      <th>Country_Eastern</th>\n",
       "      <th>Country_Polandteam</th>\n",
       "      <th>Country_Poor</th>\n",
       "      <th>Country_US</th>\n",
       "      <th>Country_Western</th>\n",
       "    </tr>\n",
       "  </thead>\n",
       "  <tbody>\n",
       "    <tr>\n",
       "      <th>0</th>\n",
       "      <td>39</td>\n",
       "      <td>11.258253</td>\n",
       "      <td>13</td>\n",
       "      <td>2174</td>\n",
       "      <td>0</td>\n",
       "      <td>40</td>\n",
       "      <td>0</td>\n",
       "      <td>0</td>\n",
       "      <td>0</td>\n",
       "      <td>0</td>\n",
       "      <td>0</td>\n",
       "      <td>0</td>\n",
       "      <td>0</td>\n",
       "      <td>0</td>\n",
       "      <td>1</td>\n",
       "      <td>0</td>\n",
       "      <td>0</td>\n",
       "      <td>1</td>\n",
       "      <td>0</td>\n",
       "      <td>0</td>\n",
       "      <td>0</td>\n",
       "      <td>0</td>\n",
       "      <td>0</td>\n",
       "      <td>0</td>\n",
       "      <td>0</td>\n",
       "      <td>0</td>\n",
       "      <td>0</td>\n",
       "      <td>0</td>\n",
       "      <td>1</td>\n",
       "      <td>0</td>\n",
       "      <td>0</td>\n",
       "      <td>0</td>\n",
       "      <td>1</td>\n",
       "      <td>0</td>\n",
       "      <td>0</td>\n",
       "      <td>0</td>\n",
       "      <td>0</td>\n",
       "      <td>0</td>\n",
       "      <td>0</td>\n",
       "      <td>0</td>\n",
       "      <td>0</td>\n",
       "      <td>0</td>\n",
       "      <td>0</td>\n",
       "      <td>0</td>\n",
       "      <td>0</td>\n",
       "      <td>0</td>\n",
       "      <td>1</td>\n",
       "      <td>0</td>\n",
       "      <td>0</td>\n",
       "      <td>0</td>\n",
       "      <td>0</td>\n",
       "      <td>0</td>\n",
       "      <td>0</td>\n",
       "      <td>0</td>\n",
       "      <td>0</td>\n",
       "      <td>1</td>\n",
       "      <td>0</td>\n",
       "      <td>1</td>\n",
       "      <td>0</td>\n",
       "      <td>0</td>\n",
       "      <td>0</td>\n",
       "      <td>1</td>\n",
       "      <td>0</td>\n",
       "    </tr>\n",
       "    <tr>\n",
       "      <th>1</th>\n",
       "      <td>50</td>\n",
       "      <td>11.330348</td>\n",
       "      <td>13</td>\n",
       "      <td>0</td>\n",
       "      <td>0</td>\n",
       "      <td>13</td>\n",
       "      <td>0</td>\n",
       "      <td>0</td>\n",
       "      <td>0</td>\n",
       "      <td>0</td>\n",
       "      <td>0</td>\n",
       "      <td>0</td>\n",
       "      <td>0</td>\n",
       "      <td>1</td>\n",
       "      <td>0</td>\n",
       "      <td>0</td>\n",
       "      <td>0</td>\n",
       "      <td>1</td>\n",
       "      <td>0</td>\n",
       "      <td>0</td>\n",
       "      <td>0</td>\n",
       "      <td>0</td>\n",
       "      <td>0</td>\n",
       "      <td>0</td>\n",
       "      <td>0</td>\n",
       "      <td>0</td>\n",
       "      <td>1</td>\n",
       "      <td>0</td>\n",
       "      <td>0</td>\n",
       "      <td>0</td>\n",
       "      <td>0</td>\n",
       "      <td>0</td>\n",
       "      <td>0</td>\n",
       "      <td>0</td>\n",
       "      <td>1</td>\n",
       "      <td>0</td>\n",
       "      <td>0</td>\n",
       "      <td>0</td>\n",
       "      <td>0</td>\n",
       "      <td>0</td>\n",
       "      <td>0</td>\n",
       "      <td>0</td>\n",
       "      <td>0</td>\n",
       "      <td>0</td>\n",
       "      <td>0</td>\n",
       "      <td>1</td>\n",
       "      <td>0</td>\n",
       "      <td>0</td>\n",
       "      <td>0</td>\n",
       "      <td>0</td>\n",
       "      <td>0</td>\n",
       "      <td>0</td>\n",
       "      <td>0</td>\n",
       "      <td>0</td>\n",
       "      <td>0</td>\n",
       "      <td>1</td>\n",
       "      <td>0</td>\n",
       "      <td>1</td>\n",
       "      <td>0</td>\n",
       "      <td>0</td>\n",
       "      <td>0</td>\n",
       "      <td>1</td>\n",
       "      <td>0</td>\n",
       "    </tr>\n",
       "    <tr>\n",
       "      <th>2</th>\n",
       "      <td>38</td>\n",
       "      <td>12.281398</td>\n",
       "      <td>9</td>\n",
       "      <td>0</td>\n",
       "      <td>0</td>\n",
       "      <td>40</td>\n",
       "      <td>0</td>\n",
       "      <td>0</td>\n",
       "      <td>0</td>\n",
       "      <td>0</td>\n",
       "      <td>0</td>\n",
       "      <td>1</td>\n",
       "      <td>0</td>\n",
       "      <td>0</td>\n",
       "      <td>0</td>\n",
       "      <td>0</td>\n",
       "      <td>0</td>\n",
       "      <td>0</td>\n",
       "      <td>0</td>\n",
       "      <td>1</td>\n",
       "      <td>0</td>\n",
       "      <td>0</td>\n",
       "      <td>0</td>\n",
       "      <td>0</td>\n",
       "      <td>0</td>\n",
       "      <td>1</td>\n",
       "      <td>0</td>\n",
       "      <td>0</td>\n",
       "      <td>0</td>\n",
       "      <td>0</td>\n",
       "      <td>0</td>\n",
       "      <td>0</td>\n",
       "      <td>0</td>\n",
       "      <td>0</td>\n",
       "      <td>0</td>\n",
       "      <td>0</td>\n",
       "      <td>1</td>\n",
       "      <td>0</td>\n",
       "      <td>0</td>\n",
       "      <td>0</td>\n",
       "      <td>0</td>\n",
       "      <td>0</td>\n",
       "      <td>0</td>\n",
       "      <td>0</td>\n",
       "      <td>0</td>\n",
       "      <td>0</td>\n",
       "      <td>1</td>\n",
       "      <td>0</td>\n",
       "      <td>0</td>\n",
       "      <td>0</td>\n",
       "      <td>0</td>\n",
       "      <td>0</td>\n",
       "      <td>0</td>\n",
       "      <td>0</td>\n",
       "      <td>0</td>\n",
       "      <td>1</td>\n",
       "      <td>0</td>\n",
       "      <td>1</td>\n",
       "      <td>0</td>\n",
       "      <td>0</td>\n",
       "      <td>0</td>\n",
       "      <td>1</td>\n",
       "      <td>0</td>\n",
       "    </tr>\n",
       "    <tr>\n",
       "      <th>3</th>\n",
       "      <td>53</td>\n",
       "      <td>12.366157</td>\n",
       "      <td>7</td>\n",
       "      <td>0</td>\n",
       "      <td>0</td>\n",
       "      <td>40</td>\n",
       "      <td>0</td>\n",
       "      <td>0</td>\n",
       "      <td>0</td>\n",
       "      <td>0</td>\n",
       "      <td>0</td>\n",
       "      <td>1</td>\n",
       "      <td>0</td>\n",
       "      <td>0</td>\n",
       "      <td>0</td>\n",
       "      <td>0</td>\n",
       "      <td>0</td>\n",
       "      <td>0</td>\n",
       "      <td>0</td>\n",
       "      <td>0</td>\n",
       "      <td>0</td>\n",
       "      <td>0</td>\n",
       "      <td>1</td>\n",
       "      <td>0</td>\n",
       "      <td>0</td>\n",
       "      <td>0</td>\n",
       "      <td>1</td>\n",
       "      <td>0</td>\n",
       "      <td>0</td>\n",
       "      <td>0</td>\n",
       "      <td>0</td>\n",
       "      <td>0</td>\n",
       "      <td>0</td>\n",
       "      <td>0</td>\n",
       "      <td>0</td>\n",
       "      <td>0</td>\n",
       "      <td>1</td>\n",
       "      <td>0</td>\n",
       "      <td>0</td>\n",
       "      <td>0</td>\n",
       "      <td>0</td>\n",
       "      <td>0</td>\n",
       "      <td>0</td>\n",
       "      <td>0</td>\n",
       "      <td>0</td>\n",
       "      <td>1</td>\n",
       "      <td>0</td>\n",
       "      <td>0</td>\n",
       "      <td>0</td>\n",
       "      <td>0</td>\n",
       "      <td>0</td>\n",
       "      <td>0</td>\n",
       "      <td>0</td>\n",
       "      <td>1</td>\n",
       "      <td>0</td>\n",
       "      <td>0</td>\n",
       "      <td>0</td>\n",
       "      <td>1</td>\n",
       "      <td>0</td>\n",
       "      <td>0</td>\n",
       "      <td>0</td>\n",
       "      <td>1</td>\n",
       "      <td>0</td>\n",
       "    </tr>\n",
       "    <tr>\n",
       "      <th>4</th>\n",
       "      <td>28</td>\n",
       "      <td>12.732013</td>\n",
       "      <td>13</td>\n",
       "      <td>0</td>\n",
       "      <td>0</td>\n",
       "      <td>40</td>\n",
       "      <td>0</td>\n",
       "      <td>0</td>\n",
       "      <td>0</td>\n",
       "      <td>0</td>\n",
       "      <td>0</td>\n",
       "      <td>1</td>\n",
       "      <td>0</td>\n",
       "      <td>0</td>\n",
       "      <td>0</td>\n",
       "      <td>0</td>\n",
       "      <td>0</td>\n",
       "      <td>1</td>\n",
       "      <td>0</td>\n",
       "      <td>0</td>\n",
       "      <td>0</td>\n",
       "      <td>0</td>\n",
       "      <td>0</td>\n",
       "      <td>0</td>\n",
       "      <td>0</td>\n",
       "      <td>0</td>\n",
       "      <td>1</td>\n",
       "      <td>0</td>\n",
       "      <td>0</td>\n",
       "      <td>0</td>\n",
       "      <td>0</td>\n",
       "      <td>0</td>\n",
       "      <td>0</td>\n",
       "      <td>0</td>\n",
       "      <td>0</td>\n",
       "      <td>0</td>\n",
       "      <td>0</td>\n",
       "      <td>0</td>\n",
       "      <td>0</td>\n",
       "      <td>0</td>\n",
       "      <td>1</td>\n",
       "      <td>0</td>\n",
       "      <td>0</td>\n",
       "      <td>0</td>\n",
       "      <td>0</td>\n",
       "      <td>0</td>\n",
       "      <td>0</td>\n",
       "      <td>0</td>\n",
       "      <td>0</td>\n",
       "      <td>0</td>\n",
       "      <td>1</td>\n",
       "      <td>0</td>\n",
       "      <td>0</td>\n",
       "      <td>1</td>\n",
       "      <td>0</td>\n",
       "      <td>0</td>\n",
       "      <td>1</td>\n",
       "      <td>0</td>\n",
       "      <td>0</td>\n",
       "      <td>0</td>\n",
       "      <td>0</td>\n",
       "      <td>1</td>\n",
       "      <td>0</td>\n",
       "    </tr>\n",
       "  </tbody>\n",
       "</table>\n",
       "</div>"
      ],
      "text/plain": [
       "   Age     fnlgwt  Education_num  Capital_Gain  Capital_Loss  Hours_Week  \\\n",
       "0   39  11.258253             13          2174             0          40   \n",
       "1   50  11.330348             13             0             0          13   \n",
       "2   38  12.281398              9             0             0          40   \n",
       "3   53  12.366157              7             0             0          40   \n",
       "4   28  12.732013             13             0             0          40   \n",
       "\n",
       "   Income  Workclass_0  Workclass_Federal_gov  Workclass_Local_gov  \\\n",
       "0       0            0                      0                    0   \n",
       "1       0            0                      0                    0   \n",
       "2       0            0                      0                    0   \n",
       "3       0            0                      0                    0   \n",
       "4       0            0                      0                    0   \n",
       "\n",
       "   Workclass_Never_worked  Workclass_Private  Workclass_Self_emp_inc  \\\n",
       "0                       0                  0                       0   \n",
       "1                       0                  0                       0   \n",
       "2                       0                  1                       0   \n",
       "3                       0                  1                       0   \n",
       "4                       0                  1                       0   \n",
       "\n",
       "   Workclass_Self_emp_not_inc  Workclass_State_gov  Education_Assoc_acdm  \\\n",
       "0                           0                    1                     0   \n",
       "1                           1                    0                     0   \n",
       "2                           0                    0                     0   \n",
       "3                           0                    0                     0   \n",
       "4                           0                    0                     0   \n",
       "\n",
       "   Education_Assoc_voc  Education_Bachelors  Education_Doctorate  \\\n",
       "0                    0                    1                    0   \n",
       "1                    0                    1                    0   \n",
       "2                    0                    0                    0   \n",
       "3                    0                    0                    0   \n",
       "4                    0                    1                    0   \n",
       "\n",
       "   Education_HS_grad  Education_Masters  Education_Preschool  \\\n",
       "0                  0                  0                    0   \n",
       "1                  0                  0                    0   \n",
       "2                  1                  0                    0   \n",
       "3                  0                  0                    0   \n",
       "4                  0                  0                    0   \n",
       "\n",
       "   Education_Primary  Education_Prof_school  Education_Some_college  \\\n",
       "0                  0                      0                       0   \n",
       "1                  0                      0                       0   \n",
       "2                  0                      0                       0   \n",
       "3                  1                      0                       0   \n",
       "4                  0                      0                       0   \n",
       "\n",
       "   Marital_Divorced  Marital_Married_civ_spouse  \\\n",
       "0                 0                           0   \n",
       "1                 0                           1   \n",
       "2                 1                           0   \n",
       "3                 0                           1   \n",
       "4                 0                           1   \n",
       "\n",
       "   Marital_Married_spouse_absent  Marital_Never_married  Marital_Separated  \\\n",
       "0                              0                      1                  0   \n",
       "1                              0                      0                  0   \n",
       "2                              0                      0                  0   \n",
       "3                              0                      0                  0   \n",
       "4                              0                      0                  0   \n",
       "\n",
       "   Marital_Widowed  Occupation_0  Occupation_Adm_clerical  \\\n",
       "0                0             0                        1   \n",
       "1                0             0                        0   \n",
       "2                0             0                        0   \n",
       "3                0             0                        0   \n",
       "4                0             0                        0   \n",
       "\n",
       "   Occupation_Craft_repair  Occupation_Exec_managerial  \\\n",
       "0                        0                           0   \n",
       "1                        0                           1   \n",
       "2                        0                           0   \n",
       "3                        0                           0   \n",
       "4                        0                           0   \n",
       "\n",
       "   Occupation_Farming_fishing  Occupation_Handlers_cleaners  \\\n",
       "0                           0                             0   \n",
       "1                           0                             0   \n",
       "2                           0                             1   \n",
       "3                           0                             1   \n",
       "4                           0                             0   \n",
       "\n",
       "   Occupation_Machine_op_inspct  Occupation_Other_service  \\\n",
       "0                             0                         0   \n",
       "1                             0                         0   \n",
       "2                             0                         0   \n",
       "3                             0                         0   \n",
       "4                             0                         0   \n",
       "\n",
       "   Occupation_Priv_house_serv  Occupation_Prof_specialty  \\\n",
       "0                           0                          0   \n",
       "1                           0                          0   \n",
       "2                           0                          0   \n",
       "3                           0                          0   \n",
       "4                           0                          1   \n",
       "\n",
       "   Occupation_Protective_serv  Occupation_Sales  Occupation_Tech_support  \\\n",
       "0                           0                 0                        0   \n",
       "1                           0                 0                        0   \n",
       "2                           0                 0                        0   \n",
       "3                           0                 0                        0   \n",
       "4                           0                 0                        0   \n",
       "\n",
       "   Occupation_Transport_moving  Relationship_Husband  \\\n",
       "0                            0                     0   \n",
       "1                            0                     1   \n",
       "2                            0                     0   \n",
       "3                            0                     1   \n",
       "4                            0                     0   \n",
       "\n",
       "   Relationship_Not_in_family  Relationship_Other_relative  \\\n",
       "0                           1                            0   \n",
       "1                           0                            0   \n",
       "2                           1                            0   \n",
       "3                           0                            0   \n",
       "4                           0                            0   \n",
       "\n",
       "   Relationship_Own_child  Relationship_Unmarried  Relationship_Wife  \\\n",
       "0                       0                       0                  0   \n",
       "1                       0                       0                  0   \n",
       "2                       0                       0                  0   \n",
       "3                       0                       0                  0   \n",
       "4                       0                       0                  1   \n",
       "\n",
       "   Race_Amer_Indian_Eskimo  Race_Asian_Pac_Islander  Race_Black  Race_Other  \\\n",
       "0                        0                        0           0           0   \n",
       "1                        0                        0           0           0   \n",
       "2                        0                        0           0           0   \n",
       "3                        0                        0           1           0   \n",
       "4                        0                        0           1           0   \n",
       "\n",
       "   Race_White  Sex_Female  Sex_Male  Country_Eastern  Country_Polandteam  \\\n",
       "0           1           0         1                0                   0   \n",
       "1           1           0         1                0                   0   \n",
       "2           1           0         1                0                   0   \n",
       "3           0           0         1                0                   0   \n",
       "4           0           1         0                0                   0   \n",
       "\n",
       "   Country_Poor  Country_US  Country_Western  \n",
       "0             0           1                0  \n",
       "1             0           1                0  \n",
       "2             0           1                0  \n",
       "3             0           1                0  \n",
       "4             0           1                0  "
      ]
     },
     "execution_count": 120,
     "metadata": {},
     "output_type": "execute_result"
    }
   ],
   "source": [
    "joint.head()"
   ]
  },
  {
   "cell_type": "markdown",
   "metadata": {
    "_cell_guid": "58a12f06-5ffc-4f95-b445-df2f248ffbbe",
    "_uuid": "c326860ba9cbe200b508af0ce8769b41d26d25f0"
   },
   "source": [
    "Separando novamente a base em treinamento e teste."
   ]
  },
  {
   "cell_type": "code",
   "execution_count": 121,
   "metadata": {
    "_cell_guid": "148e24dc-0bda-45b7-9e37-8a4897fa9984",
    "_uuid": "38a86c0194a8b2ff179bc775a4dd68dc90c5a2a7",
    "collapsed": true
   },
   "outputs": [],
   "source": [
    "train = joint.head(train.shape[0])\n",
    "test = joint.tail(test.shape[0])"
   ]
  },
  {
   "cell_type": "markdown",
   "metadata": {
    "_cell_guid": "e761bb22-08fd-45f2-9b9f-846388186765",
    "_uuid": "f6ea7a7add55dbdeedb5714118bb247e08273baf"
   },
   "source": [
    "Dividindo o data frame em inputs e target"
   ]
  },
  {
   "cell_type": "code",
   "execution_count": 122,
   "metadata": {
    "_cell_guid": "f0c7f381-f86e-4aed-947e-1284fcb14c75",
    "_uuid": "e7d9bfed3685ad7835bf5152c2cc7ce442dabc52",
    "collapsed": true
   },
   "outputs": [],
   "source": [
    "Xtrain = train.drop('Income', axis=1)\n",
    "Ttrain = train['Income']\n",
    "\n",
    "Xtest = test.drop('Income', axis=1)\n",
    "Ttest = test['Income']\n",
    "\n",
    "#scaler = StandardScaler()\n",
    "#scaler.fit(Xtrain)\n",
    "#Xtrain = scaler.transform(Xtrain)\n",
    "#Xtest = scaler.transform(Xtest)"
   ]
  },
  {
   "cell_type": "code",
   "execution_count": 123,
   "metadata": {},
   "outputs": [
    {
     "data": {
      "text/html": [
       "<div>\n",
       "<style>\n",
       "    .dataframe thead tr:only-child th {\n",
       "        text-align: right;\n",
       "    }\n",
       "\n",
       "    .dataframe thead th {\n",
       "        text-align: left;\n",
       "    }\n",
       "\n",
       "    .dataframe tbody tr th {\n",
       "        vertical-align: top;\n",
       "    }\n",
       "</style>\n",
       "<table border=\"1\" class=\"dataframe\">\n",
       "  <thead>\n",
       "    <tr style=\"text-align: right;\">\n",
       "      <th></th>\n",
       "      <th>Age</th>\n",
       "      <th>fnlgwt</th>\n",
       "      <th>Education_num</th>\n",
       "      <th>Capital_Gain</th>\n",
       "      <th>Capital_Loss</th>\n",
       "      <th>Hours_Week</th>\n",
       "      <th>Workclass_0</th>\n",
       "      <th>Workclass_Federal_gov</th>\n",
       "      <th>Workclass_Local_gov</th>\n",
       "      <th>Workclass_Never_worked</th>\n",
       "      <th>Workclass_Private</th>\n",
       "      <th>Workclass_Self_emp_inc</th>\n",
       "      <th>Workclass_Self_emp_not_inc</th>\n",
       "      <th>Workclass_State_gov</th>\n",
       "      <th>Education_Assoc_acdm</th>\n",
       "      <th>Education_Assoc_voc</th>\n",
       "      <th>Education_Bachelors</th>\n",
       "      <th>Education_Doctorate</th>\n",
       "      <th>Education_HS_grad</th>\n",
       "      <th>Education_Masters</th>\n",
       "      <th>Education_Preschool</th>\n",
       "      <th>Education_Primary</th>\n",
       "      <th>Education_Prof_school</th>\n",
       "      <th>Education_Some_college</th>\n",
       "      <th>Marital_Divorced</th>\n",
       "      <th>Marital_Married_civ_spouse</th>\n",
       "      <th>Marital_Married_spouse_absent</th>\n",
       "      <th>Marital_Never_married</th>\n",
       "      <th>Marital_Separated</th>\n",
       "      <th>Marital_Widowed</th>\n",
       "      <th>Occupation_0</th>\n",
       "      <th>Occupation_Adm_clerical</th>\n",
       "      <th>Occupation_Craft_repair</th>\n",
       "      <th>Occupation_Exec_managerial</th>\n",
       "      <th>Occupation_Farming_fishing</th>\n",
       "      <th>Occupation_Handlers_cleaners</th>\n",
       "      <th>Occupation_Machine_op_inspct</th>\n",
       "      <th>Occupation_Other_service</th>\n",
       "      <th>Occupation_Priv_house_serv</th>\n",
       "      <th>Occupation_Prof_specialty</th>\n",
       "      <th>Occupation_Protective_serv</th>\n",
       "      <th>Occupation_Sales</th>\n",
       "      <th>Occupation_Tech_support</th>\n",
       "      <th>Occupation_Transport_moving</th>\n",
       "      <th>Relationship_Husband</th>\n",
       "      <th>Relationship_Not_in_family</th>\n",
       "      <th>Relationship_Other_relative</th>\n",
       "      <th>Relationship_Own_child</th>\n",
       "      <th>Relationship_Unmarried</th>\n",
       "      <th>Relationship_Wife</th>\n",
       "      <th>Race_Amer_Indian_Eskimo</th>\n",
       "      <th>Race_Asian_Pac_Islander</th>\n",
       "      <th>Race_Black</th>\n",
       "      <th>Race_Other</th>\n",
       "      <th>Race_White</th>\n",
       "      <th>Sex_Female</th>\n",
       "      <th>Sex_Male</th>\n",
       "      <th>Country_Eastern</th>\n",
       "      <th>Country_Polandteam</th>\n",
       "      <th>Country_Poor</th>\n",
       "      <th>Country_US</th>\n",
       "      <th>Country_Western</th>\n",
       "    </tr>\n",
       "  </thead>\n",
       "  <tbody>\n",
       "    <tr>\n",
       "      <th>0</th>\n",
       "      <td>39</td>\n",
       "      <td>11.258253</td>\n",
       "      <td>13</td>\n",
       "      <td>2174</td>\n",
       "      <td>0</td>\n",
       "      <td>40</td>\n",
       "      <td>0</td>\n",
       "      <td>0</td>\n",
       "      <td>0</td>\n",
       "      <td>0</td>\n",
       "      <td>0</td>\n",
       "      <td>0</td>\n",
       "      <td>0</td>\n",
       "      <td>1</td>\n",
       "      <td>0</td>\n",
       "      <td>0</td>\n",
       "      <td>1</td>\n",
       "      <td>0</td>\n",
       "      <td>0</td>\n",
       "      <td>0</td>\n",
       "      <td>0</td>\n",
       "      <td>0</td>\n",
       "      <td>0</td>\n",
       "      <td>0</td>\n",
       "      <td>0</td>\n",
       "      <td>0</td>\n",
       "      <td>0</td>\n",
       "      <td>1</td>\n",
       "      <td>0</td>\n",
       "      <td>0</td>\n",
       "      <td>0</td>\n",
       "      <td>1</td>\n",
       "      <td>0</td>\n",
       "      <td>0</td>\n",
       "      <td>0</td>\n",
       "      <td>0</td>\n",
       "      <td>0</td>\n",
       "      <td>0</td>\n",
       "      <td>0</td>\n",
       "      <td>0</td>\n",
       "      <td>0</td>\n",
       "      <td>0</td>\n",
       "      <td>0</td>\n",
       "      <td>0</td>\n",
       "      <td>0</td>\n",
       "      <td>1</td>\n",
       "      <td>0</td>\n",
       "      <td>0</td>\n",
       "      <td>0</td>\n",
       "      <td>0</td>\n",
       "      <td>0</td>\n",
       "      <td>0</td>\n",
       "      <td>0</td>\n",
       "      <td>0</td>\n",
       "      <td>1</td>\n",
       "      <td>0</td>\n",
       "      <td>1</td>\n",
       "      <td>0</td>\n",
       "      <td>0</td>\n",
       "      <td>0</td>\n",
       "      <td>1</td>\n",
       "      <td>0</td>\n",
       "    </tr>\n",
       "    <tr>\n",
       "      <th>1</th>\n",
       "      <td>50</td>\n",
       "      <td>11.330348</td>\n",
       "      <td>13</td>\n",
       "      <td>0</td>\n",
       "      <td>0</td>\n",
       "      <td>13</td>\n",
       "      <td>0</td>\n",
       "      <td>0</td>\n",
       "      <td>0</td>\n",
       "      <td>0</td>\n",
       "      <td>0</td>\n",
       "      <td>0</td>\n",
       "      <td>1</td>\n",
       "      <td>0</td>\n",
       "      <td>0</td>\n",
       "      <td>0</td>\n",
       "      <td>1</td>\n",
       "      <td>0</td>\n",
       "      <td>0</td>\n",
       "      <td>0</td>\n",
       "      <td>0</td>\n",
       "      <td>0</td>\n",
       "      <td>0</td>\n",
       "      <td>0</td>\n",
       "      <td>0</td>\n",
       "      <td>1</td>\n",
       "      <td>0</td>\n",
       "      <td>0</td>\n",
       "      <td>0</td>\n",
       "      <td>0</td>\n",
       "      <td>0</td>\n",
       "      <td>0</td>\n",
       "      <td>0</td>\n",
       "      <td>1</td>\n",
       "      <td>0</td>\n",
       "      <td>0</td>\n",
       "      <td>0</td>\n",
       "      <td>0</td>\n",
       "      <td>0</td>\n",
       "      <td>0</td>\n",
       "      <td>0</td>\n",
       "      <td>0</td>\n",
       "      <td>0</td>\n",
       "      <td>0</td>\n",
       "      <td>1</td>\n",
       "      <td>0</td>\n",
       "      <td>0</td>\n",
       "      <td>0</td>\n",
       "      <td>0</td>\n",
       "      <td>0</td>\n",
       "      <td>0</td>\n",
       "      <td>0</td>\n",
       "      <td>0</td>\n",
       "      <td>0</td>\n",
       "      <td>1</td>\n",
       "      <td>0</td>\n",
       "      <td>1</td>\n",
       "      <td>0</td>\n",
       "      <td>0</td>\n",
       "      <td>0</td>\n",
       "      <td>1</td>\n",
       "      <td>0</td>\n",
       "    </tr>\n",
       "    <tr>\n",
       "      <th>2</th>\n",
       "      <td>38</td>\n",
       "      <td>12.281398</td>\n",
       "      <td>9</td>\n",
       "      <td>0</td>\n",
       "      <td>0</td>\n",
       "      <td>40</td>\n",
       "      <td>0</td>\n",
       "      <td>0</td>\n",
       "      <td>0</td>\n",
       "      <td>0</td>\n",
       "      <td>1</td>\n",
       "      <td>0</td>\n",
       "      <td>0</td>\n",
       "      <td>0</td>\n",
       "      <td>0</td>\n",
       "      <td>0</td>\n",
       "      <td>0</td>\n",
       "      <td>0</td>\n",
       "      <td>1</td>\n",
       "      <td>0</td>\n",
       "      <td>0</td>\n",
       "      <td>0</td>\n",
       "      <td>0</td>\n",
       "      <td>0</td>\n",
       "      <td>1</td>\n",
       "      <td>0</td>\n",
       "      <td>0</td>\n",
       "      <td>0</td>\n",
       "      <td>0</td>\n",
       "      <td>0</td>\n",
       "      <td>0</td>\n",
       "      <td>0</td>\n",
       "      <td>0</td>\n",
       "      <td>0</td>\n",
       "      <td>0</td>\n",
       "      <td>1</td>\n",
       "      <td>0</td>\n",
       "      <td>0</td>\n",
       "      <td>0</td>\n",
       "      <td>0</td>\n",
       "      <td>0</td>\n",
       "      <td>0</td>\n",
       "      <td>0</td>\n",
       "      <td>0</td>\n",
       "      <td>0</td>\n",
       "      <td>1</td>\n",
       "      <td>0</td>\n",
       "      <td>0</td>\n",
       "      <td>0</td>\n",
       "      <td>0</td>\n",
       "      <td>0</td>\n",
       "      <td>0</td>\n",
       "      <td>0</td>\n",
       "      <td>0</td>\n",
       "      <td>1</td>\n",
       "      <td>0</td>\n",
       "      <td>1</td>\n",
       "      <td>0</td>\n",
       "      <td>0</td>\n",
       "      <td>0</td>\n",
       "      <td>1</td>\n",
       "      <td>0</td>\n",
       "    </tr>\n",
       "    <tr>\n",
       "      <th>3</th>\n",
       "      <td>53</td>\n",
       "      <td>12.366157</td>\n",
       "      <td>7</td>\n",
       "      <td>0</td>\n",
       "      <td>0</td>\n",
       "      <td>40</td>\n",
       "      <td>0</td>\n",
       "      <td>0</td>\n",
       "      <td>0</td>\n",
       "      <td>0</td>\n",
       "      <td>1</td>\n",
       "      <td>0</td>\n",
       "      <td>0</td>\n",
       "      <td>0</td>\n",
       "      <td>0</td>\n",
       "      <td>0</td>\n",
       "      <td>0</td>\n",
       "      <td>0</td>\n",
       "      <td>0</td>\n",
       "      <td>0</td>\n",
       "      <td>0</td>\n",
       "      <td>1</td>\n",
       "      <td>0</td>\n",
       "      <td>0</td>\n",
       "      <td>0</td>\n",
       "      <td>1</td>\n",
       "      <td>0</td>\n",
       "      <td>0</td>\n",
       "      <td>0</td>\n",
       "      <td>0</td>\n",
       "      <td>0</td>\n",
       "      <td>0</td>\n",
       "      <td>0</td>\n",
       "      <td>0</td>\n",
       "      <td>0</td>\n",
       "      <td>1</td>\n",
       "      <td>0</td>\n",
       "      <td>0</td>\n",
       "      <td>0</td>\n",
       "      <td>0</td>\n",
       "      <td>0</td>\n",
       "      <td>0</td>\n",
       "      <td>0</td>\n",
       "      <td>0</td>\n",
       "      <td>1</td>\n",
       "      <td>0</td>\n",
       "      <td>0</td>\n",
       "      <td>0</td>\n",
       "      <td>0</td>\n",
       "      <td>0</td>\n",
       "      <td>0</td>\n",
       "      <td>0</td>\n",
       "      <td>1</td>\n",
       "      <td>0</td>\n",
       "      <td>0</td>\n",
       "      <td>0</td>\n",
       "      <td>1</td>\n",
       "      <td>0</td>\n",
       "      <td>0</td>\n",
       "      <td>0</td>\n",
       "      <td>1</td>\n",
       "      <td>0</td>\n",
       "    </tr>\n",
       "    <tr>\n",
       "      <th>4</th>\n",
       "      <td>28</td>\n",
       "      <td>12.732013</td>\n",
       "      <td>13</td>\n",
       "      <td>0</td>\n",
       "      <td>0</td>\n",
       "      <td>40</td>\n",
       "      <td>0</td>\n",
       "      <td>0</td>\n",
       "      <td>0</td>\n",
       "      <td>0</td>\n",
       "      <td>1</td>\n",
       "      <td>0</td>\n",
       "      <td>0</td>\n",
       "      <td>0</td>\n",
       "      <td>0</td>\n",
       "      <td>0</td>\n",
       "      <td>1</td>\n",
       "      <td>0</td>\n",
       "      <td>0</td>\n",
       "      <td>0</td>\n",
       "      <td>0</td>\n",
       "      <td>0</td>\n",
       "      <td>0</td>\n",
       "      <td>0</td>\n",
       "      <td>0</td>\n",
       "      <td>1</td>\n",
       "      <td>0</td>\n",
       "      <td>0</td>\n",
       "      <td>0</td>\n",
       "      <td>0</td>\n",
       "      <td>0</td>\n",
       "      <td>0</td>\n",
       "      <td>0</td>\n",
       "      <td>0</td>\n",
       "      <td>0</td>\n",
       "      <td>0</td>\n",
       "      <td>0</td>\n",
       "      <td>0</td>\n",
       "      <td>0</td>\n",
       "      <td>1</td>\n",
       "      <td>0</td>\n",
       "      <td>0</td>\n",
       "      <td>0</td>\n",
       "      <td>0</td>\n",
       "      <td>0</td>\n",
       "      <td>0</td>\n",
       "      <td>0</td>\n",
       "      <td>0</td>\n",
       "      <td>0</td>\n",
       "      <td>1</td>\n",
       "      <td>0</td>\n",
       "      <td>0</td>\n",
       "      <td>1</td>\n",
       "      <td>0</td>\n",
       "      <td>0</td>\n",
       "      <td>1</td>\n",
       "      <td>0</td>\n",
       "      <td>0</td>\n",
       "      <td>0</td>\n",
       "      <td>0</td>\n",
       "      <td>1</td>\n",
       "      <td>0</td>\n",
       "    </tr>\n",
       "  </tbody>\n",
       "</table>\n",
       "</div>"
      ],
      "text/plain": [
       "   Age     fnlgwt  Education_num  Capital_Gain  Capital_Loss  Hours_Week  \\\n",
       "0   39  11.258253             13          2174             0          40   \n",
       "1   50  11.330348             13             0             0          13   \n",
       "2   38  12.281398              9             0             0          40   \n",
       "3   53  12.366157              7             0             0          40   \n",
       "4   28  12.732013             13             0             0          40   \n",
       "\n",
       "   Workclass_0  Workclass_Federal_gov  Workclass_Local_gov  \\\n",
       "0            0                      0                    0   \n",
       "1            0                      0                    0   \n",
       "2            0                      0                    0   \n",
       "3            0                      0                    0   \n",
       "4            0                      0                    0   \n",
       "\n",
       "   Workclass_Never_worked  Workclass_Private  Workclass_Self_emp_inc  \\\n",
       "0                       0                  0                       0   \n",
       "1                       0                  0                       0   \n",
       "2                       0                  1                       0   \n",
       "3                       0                  1                       0   \n",
       "4                       0                  1                       0   \n",
       "\n",
       "   Workclass_Self_emp_not_inc  Workclass_State_gov  Education_Assoc_acdm  \\\n",
       "0                           0                    1                     0   \n",
       "1                           1                    0                     0   \n",
       "2                           0                    0                     0   \n",
       "3                           0                    0                     0   \n",
       "4                           0                    0                     0   \n",
       "\n",
       "   Education_Assoc_voc  Education_Bachelors  Education_Doctorate  \\\n",
       "0                    0                    1                    0   \n",
       "1                    0                    1                    0   \n",
       "2                    0                    0                    0   \n",
       "3                    0                    0                    0   \n",
       "4                    0                    1                    0   \n",
       "\n",
       "   Education_HS_grad  Education_Masters  Education_Preschool  \\\n",
       "0                  0                  0                    0   \n",
       "1                  0                  0                    0   \n",
       "2                  1                  0                    0   \n",
       "3                  0                  0                    0   \n",
       "4                  0                  0                    0   \n",
       "\n",
       "   Education_Primary  Education_Prof_school  Education_Some_college  \\\n",
       "0                  0                      0                       0   \n",
       "1                  0                      0                       0   \n",
       "2                  0                      0                       0   \n",
       "3                  1                      0                       0   \n",
       "4                  0                      0                       0   \n",
       "\n",
       "   Marital_Divorced  Marital_Married_civ_spouse  \\\n",
       "0                 0                           0   \n",
       "1                 0                           1   \n",
       "2                 1                           0   \n",
       "3                 0                           1   \n",
       "4                 0                           1   \n",
       "\n",
       "   Marital_Married_spouse_absent  Marital_Never_married  Marital_Separated  \\\n",
       "0                              0                      1                  0   \n",
       "1                              0                      0                  0   \n",
       "2                              0                      0                  0   \n",
       "3                              0                      0                  0   \n",
       "4                              0                      0                  0   \n",
       "\n",
       "   Marital_Widowed  Occupation_0  Occupation_Adm_clerical  \\\n",
       "0                0             0                        1   \n",
       "1                0             0                        0   \n",
       "2                0             0                        0   \n",
       "3                0             0                        0   \n",
       "4                0             0                        0   \n",
       "\n",
       "   Occupation_Craft_repair  Occupation_Exec_managerial  \\\n",
       "0                        0                           0   \n",
       "1                        0                           1   \n",
       "2                        0                           0   \n",
       "3                        0                           0   \n",
       "4                        0                           0   \n",
       "\n",
       "   Occupation_Farming_fishing  Occupation_Handlers_cleaners  \\\n",
       "0                           0                             0   \n",
       "1                           0                             0   \n",
       "2                           0                             1   \n",
       "3                           0                             1   \n",
       "4                           0                             0   \n",
       "\n",
       "   Occupation_Machine_op_inspct  Occupation_Other_service  \\\n",
       "0                             0                         0   \n",
       "1                             0                         0   \n",
       "2                             0                         0   \n",
       "3                             0                         0   \n",
       "4                             0                         0   \n",
       "\n",
       "   Occupation_Priv_house_serv  Occupation_Prof_specialty  \\\n",
       "0                           0                          0   \n",
       "1                           0                          0   \n",
       "2                           0                          0   \n",
       "3                           0                          0   \n",
       "4                           0                          1   \n",
       "\n",
       "   Occupation_Protective_serv  Occupation_Sales  Occupation_Tech_support  \\\n",
       "0                           0                 0                        0   \n",
       "1                           0                 0                        0   \n",
       "2                           0                 0                        0   \n",
       "3                           0                 0                        0   \n",
       "4                           0                 0                        0   \n",
       "\n",
       "   Occupation_Transport_moving  Relationship_Husband  \\\n",
       "0                            0                     0   \n",
       "1                            0                     1   \n",
       "2                            0                     0   \n",
       "3                            0                     1   \n",
       "4                            0                     0   \n",
       "\n",
       "   Relationship_Not_in_family  Relationship_Other_relative  \\\n",
       "0                           1                            0   \n",
       "1                           0                            0   \n",
       "2                           1                            0   \n",
       "3                           0                            0   \n",
       "4                           0                            0   \n",
       "\n",
       "   Relationship_Own_child  Relationship_Unmarried  Relationship_Wife  \\\n",
       "0                       0                       0                  0   \n",
       "1                       0                       0                  0   \n",
       "2                       0                       0                  0   \n",
       "3                       0                       0                  0   \n",
       "4                       0                       0                  1   \n",
       "\n",
       "   Race_Amer_Indian_Eskimo  Race_Asian_Pac_Islander  Race_Black  Race_Other  \\\n",
       "0                        0                        0           0           0   \n",
       "1                        0                        0           0           0   \n",
       "2                        0                        0           0           0   \n",
       "3                        0                        0           1           0   \n",
       "4                        0                        0           1           0   \n",
       "\n",
       "   Race_White  Sex_Female  Sex_Male  Country_Eastern  Country_Polandteam  \\\n",
       "0           1           0         1                0                   0   \n",
       "1           1           0         1                0                   0   \n",
       "2           1           0         1                0                   0   \n",
       "3           0           0         1                0                   0   \n",
       "4           0           1         0                0                   0   \n",
       "\n",
       "   Country_Poor  Country_US  Country_Western  \n",
       "0             0           1                0  \n",
       "1             0           1                0  \n",
       "2             0           1                0  \n",
       "3             0           1                0  \n",
       "4             0           1                0  "
      ]
     },
     "execution_count": 123,
     "metadata": {},
     "output_type": "execute_result"
    }
   ],
   "source": [
    "Xtrain.head()"
   ]
  },
  {
   "cell_type": "markdown",
   "metadata": {},
   "source": [
    "## Parte_2: Verificando a correlação entre as variáveis Dummy para cada var_original"
   ]
  },
  {
   "cell_type": "code",
   "execution_count": 124,
   "metadata": {
    "collapsed": true,
    "scrolled": true
   },
   "outputs": [],
   "source": [
    "# # matriz de correlação das variáveis Workclass\n",
    "# Base_Workclass = train[[ 'Workclass_0', 'Workclass_Federal_gov',  'Workclass_Local_gov',  'Workclass_Never_worked',\n",
    "#  'Workclass_Private', 'Workclass_Self_emp_inc', 'Workclass_Self_emp_not_inc', 'Workclass_State_gov','Income']]\n",
    "# corr = Base_Workclass.corr()\n",
    "# corr = (corr)\n",
    "# sns.heatmap(corr, xticklabels=corr.columns.values, yticklabels=corr.columns.values)\n",
    "# corr\n",
    "# # Variáveis mais corr com a resposta Income: 'Workclass_Self_emp_inc', 'Workclass_Private', 'Workclass_0'"
   ]
  },
  {
   "cell_type": "code",
   "execution_count": 125,
   "metadata": {
    "collapsed": true
   },
   "outputs": [],
   "source": [
    "# # matriz de correlação das variáveis Education\n",
    "# Base_Education = train[[  'Education_Assoc_acdm', 'Education_Assoc_voc', 'Education_Bachelors', 'Education_Doctorate',\n",
    "#  'Education_HS_grad', 'Education_Masters', 'Education_Preschool', 'Education_Primary', 'Education_Prof_school',\n",
    "#  'Education_Some_college','Income']]\n",
    "# corr = Base_Education.corr()\n",
    "# corr = (corr)\n",
    "# sns.heatmap(corr, xticklabels=corr.columns.values, yticklabels=corr.columns.values)\n",
    "# corr\n",
    "# # Variáveis mais corr com a resposta Income: 'Education_Bachelors', 'Education_Masters', 'Education_Primary',\n",
    "# #'Education_Prof_school'"
   ]
  },
  {
   "cell_type": "code",
   "execution_count": 126,
   "metadata": {},
   "outputs": [
    {
     "data": {
      "text/html": [
       "<div>\n",
       "<style>\n",
       "    .dataframe thead tr:only-child th {\n",
       "        text-align: right;\n",
       "    }\n",
       "\n",
       "    .dataframe thead th {\n",
       "        text-align: left;\n",
       "    }\n",
       "\n",
       "    .dataframe tbody tr th {\n",
       "        vertical-align: top;\n",
       "    }\n",
       "</style>\n",
       "<table border=\"1\" class=\"dataframe\">\n",
       "  <thead>\n",
       "    <tr style=\"text-align: right;\">\n",
       "      <th></th>\n",
       "      <th>Marital_Divorced</th>\n",
       "      <th>Marital_Married_civ_spouse</th>\n",
       "      <th>Marital_Married_spouse_absent</th>\n",
       "      <th>Marital_Never_married</th>\n",
       "      <th>Marital_Separated</th>\n",
       "      <th>Marital_Widowed</th>\n",
       "      <th>Income</th>\n",
       "    </tr>\n",
       "  </thead>\n",
       "  <tbody>\n",
       "    <tr>\n",
       "      <th>Marital_Divorced</th>\n",
       "      <td>1.000000</td>\n",
       "      <td>-0.367359</td>\n",
       "      <td>-0.045331</td>\n",
       "      <td>-0.277772</td>\n",
       "      <td>-0.071665</td>\n",
       "      <td>-0.070501</td>\n",
       "      <td>-0.126995</td>\n",
       "    </tr>\n",
       "    <tr>\n",
       "      <th>Marital_Married_civ_spouse</th>\n",
       "      <td>-0.367359</td>\n",
       "      <td>1.000000</td>\n",
       "      <td>-0.105388</td>\n",
       "      <td>-0.645784</td>\n",
       "      <td>-0.166611</td>\n",
       "      <td>-0.163906</td>\n",
       "      <td>0.445289</td>\n",
       "    </tr>\n",
       "    <tr>\n",
       "      <th>Marital_Married_spouse_absent</th>\n",
       "      <td>-0.045331</td>\n",
       "      <td>-0.105388</td>\n",
       "      <td>1.000000</td>\n",
       "      <td>-0.079687</td>\n",
       "      <td>-0.020559</td>\n",
       "      <td>-0.020225</td>\n",
       "      <td>-0.042532</td>\n",
       "    </tr>\n",
       "    <tr>\n",
       "      <th>Marital_Never_married</th>\n",
       "      <td>-0.277772</td>\n",
       "      <td>-0.645784</td>\n",
       "      <td>-0.079687</td>\n",
       "      <td>1.000000</td>\n",
       "      <td>-0.125980</td>\n",
       "      <td>-0.123935</td>\n",
       "      <td>-0.318440</td>\n",
       "    </tr>\n",
       "    <tr>\n",
       "      <th>Marital_Separated</th>\n",
       "      <td>-0.071665</td>\n",
       "      <td>-0.166611</td>\n",
       "      <td>-0.020559</td>\n",
       "      <td>-0.125980</td>\n",
       "      <td>1.000000</td>\n",
       "      <td>-0.031975</td>\n",
       "      <td>-0.074386</td>\n",
       "    </tr>\n",
       "    <tr>\n",
       "      <th>Marital_Widowed</th>\n",
       "      <td>-0.070501</td>\n",
       "      <td>-0.163906</td>\n",
       "      <td>-0.020225</td>\n",
       "      <td>-0.123935</td>\n",
       "      <td>-0.031975</td>\n",
       "      <td>1.000000</td>\n",
       "      <td>-0.064381</td>\n",
       "    </tr>\n",
       "    <tr>\n",
       "      <th>Income</th>\n",
       "      <td>-0.126995</td>\n",
       "      <td>0.445289</td>\n",
       "      <td>-0.042532</td>\n",
       "      <td>-0.318440</td>\n",
       "      <td>-0.074386</td>\n",
       "      <td>-0.064381</td>\n",
       "      <td>1.000000</td>\n",
       "    </tr>\n",
       "  </tbody>\n",
       "</table>\n",
       "</div>"
      ],
      "text/plain": [
       "                               Marital_Divorced  Marital_Married_civ_spouse  \\\n",
       "Marital_Divorced                       1.000000                   -0.367359   \n",
       "Marital_Married_civ_spouse            -0.367359                    1.000000   \n",
       "Marital_Married_spouse_absent         -0.045331                   -0.105388   \n",
       "Marital_Never_married                 -0.277772                   -0.645784   \n",
       "Marital_Separated                     -0.071665                   -0.166611   \n",
       "Marital_Widowed                       -0.070501                   -0.163906   \n",
       "Income                                -0.126995                    0.445289   \n",
       "\n",
       "                               Marital_Married_spouse_absent  \\\n",
       "Marital_Divorced                                   -0.045331   \n",
       "Marital_Married_civ_spouse                         -0.105388   \n",
       "Marital_Married_spouse_absent                       1.000000   \n",
       "Marital_Never_married                              -0.079687   \n",
       "Marital_Separated                                  -0.020559   \n",
       "Marital_Widowed                                    -0.020225   \n",
       "Income                                             -0.042532   \n",
       "\n",
       "                               Marital_Never_married  Marital_Separated  \\\n",
       "Marital_Divorced                           -0.277772          -0.071665   \n",
       "Marital_Married_civ_spouse                 -0.645784          -0.166611   \n",
       "Marital_Married_spouse_absent              -0.079687          -0.020559   \n",
       "Marital_Never_married                       1.000000          -0.125980   \n",
       "Marital_Separated                          -0.125980           1.000000   \n",
       "Marital_Widowed                            -0.123935          -0.031975   \n",
       "Income                                     -0.318440          -0.074386   \n",
       "\n",
       "                               Marital_Widowed    Income  \n",
       "Marital_Divorced                     -0.070501 -0.126995  \n",
       "Marital_Married_civ_spouse           -0.163906  0.445289  \n",
       "Marital_Married_spouse_absent        -0.020225 -0.042532  \n",
       "Marital_Never_married                -0.123935 -0.318440  \n",
       "Marital_Separated                    -0.031975 -0.074386  \n",
       "Marital_Widowed                       1.000000 -0.064381  \n",
       "Income                               -0.064381  1.000000  "
      ]
     },
     "execution_count": 126,
     "metadata": {},
     "output_type": "execute_result"
    },
    {
     "data": {
      "image/png": "[encoded data removed]",
      "text/plain": [
       "<matplotlib.figure.Figure at 0xc66feb8>"
      ]
     },
     "metadata": {},
     "output_type": "display_data"
    }
   ],
   "source": [
    "# matriz de correlação das variáveis Marital\n",
    "Base_Marital = train[['Marital_Divorced', 'Marital_Married_civ_spouse', 'Marital_Married_spouse_absent',\n",
    " 'Marital_Never_married', 'Marital_Separated', 'Marital_Widowed','Income']]\n",
    "corr = Base_Marital.corr()\n",
    "corr = (corr)\n",
    "sns.heatmap(corr, xticklabels=corr.columns.values, yticklabels=corr.columns.values)\n",
    "corr\n",
    "# Variáveis mais corr com a resposta Income: 'Marital_Married_civ_spouse', 'Marital_Divorced',"
   ]
  },
  {
   "cell_type": "code",
   "execution_count": 127,
   "metadata": {
    "collapsed": true
   },
   "outputs": [],
   "source": [
    "# # matriz de correlação das variáveis Occupation\n",
    "# Base_Occupation = train[[ 'Occupation_0', 'Occupation_Adm_clerical', 'Occupation_Craft_repair', 'Occupation_Exec_managerial',\n",
    "#  'Occupation_Farming_fishing', 'Occupation_Handlers_cleaners', 'Occupation_Machine_op_inspct', 'Occupation_Other_service',\n",
    "#  'Occupation_Priv_house_serv', 'Occupation_Prof_specialty', 'Occupation_Protective_serv', 'Occupation_Sales',\n",
    "#  'Occupation_Tech_support', 'Occupation_Transport_moving','Income']]\n",
    "# corr = Base_Occupation.corr()\n",
    "# corr = (corr)\n",
    "# sns.heatmap(corr, xticklabels=corr.columns.values, yticklabels=corr.columns.values)\n",
    "# corr\n",
    "# # Variáveis mais corr com a resposta Income: 'Occupation_Exec_managerial', 'Occupation_Other_service','Occupation_Prof_specialty'"
   ]
  },
  {
   "cell_type": "code",
   "execution_count": 128,
   "metadata": {
    "collapsed": true
   },
   "outputs": [],
   "source": [
    "# # matriz de correlação das variáveis Relationship\n",
    "# Base_Relationship = train[[ 'Relationship_Husband', 'Relationship_Not_in_family', 'Relationship_Other_relative',\n",
    "#  'Relationship_Own_child', 'Relationship_Unmarried', 'Relationship_Wife','Income']]\n",
    "# corr = Base_Relationship.corr()\n",
    "# corr = (corr)\n",
    "# sns.heatmap(corr, xticklabels=corr.columns.values, yticklabels=corr.columns.values)\n",
    "# corr\n",
    "# # Variáveis mais corr com a resposta Income: 'Relationship_Husband', 'Relationship_Own_child'"
   ]
  },
  {
   "cell_type": "code",
   "execution_count": 129,
   "metadata": {
    "collapsed": true
   },
   "outputs": [],
   "source": [
    "# # matriz de correlação das variáveis Sex\n",
    "# Base_Race = train[[  'Race_Amer_Indian_Eskimo', 'Race_Asian_Pac_Islander', 'Race_Black',\n",
    "#  'Race_Other', 'Race_White','Income']]\n",
    "# corr = Base_Race.corr()\n",
    "# corr = (corr)\n",
    "# sns.heatmap(corr, xticklabels=corr.columns.values, yticklabels=corr.columns.values)\n",
    "# corr\n",
    "# # Variáveis mais corr com a resposta Income: 'Race_White'"
   ]
  },
  {
   "cell_type": "code",
   "execution_count": 130,
   "metadata": {
    "collapsed": true
   },
   "outputs": [],
   "source": [
    "# matriz de correlação das variáveis Sex\n",
    "# Usar só Female - pois são complementares"
   ]
  },
  {
   "cell_type": "code",
   "execution_count": 131,
   "metadata": {
    "collapsed": true
   },
   "outputs": [],
   "source": [
    "## matriz de correlação das variáveis Country\n",
    "# Base_Country = train[[ 'Country_Eastern', 'Country_Polandteam','Country_Poor','Country_US','Country_Western','Income']]\n",
    "# corr = Base_Country.corr()\n",
    "# corr = (corr)\n",
    "# sns.heatmap(corr, xticklabels=corr.columns.values, yticklabels=corr.columns.values)\n",
    "# corr\n",
    "## Variáveis mais corr com a resposta Income: 'CountryPoor','CountryUS"
   ]
  },
  {
   "cell_type": "markdown",
   "metadata": {},
   "source": [
    "Variáveis a serem utilizadas no método forward para seleção\n",
    "    'Workclass_Self_emp_inc', 'Workclass_Private', 'Workclass_0',\n",
    "    'Education_Bachelors', 'Education_Masters', 'Education_Primary','Education_Prof_school',\n",
    "    'Marital_Married_civ_spouse', 'Marital_Divorced',\n",
    "    'Occupation_Exec_managerial', 'Occupation_Other_service','Occupation_Prof_specialty',\n",
    "    'Relationship_Husband', 'Relationship_Own_child',\n",
    "    'Race_White',\n",
    "    'Sex_Female',\n",
    "    'CountryPoor','CountryUS'"
   ]
  },
  {
   "cell_type": "code",
   "execution_count": 132,
   "metadata": {
    "collapsed": true
   },
   "outputs": [],
   "source": [
    "#train.dtypes"
   ]
  },
  {
   "cell_type": "markdown",
   "metadata": {},
   "source": [
    "## Parte_3: Metodo de seleção de variáveis forward"
   ]
  },
  {
   "cell_type": "code",
   "execution_count": 133,
   "metadata": {
    "collapsed": true
   },
   "outputs": [],
   "source": [
    "#Metodo de seleção de variáveis forward usando statsmodels\n",
    "import statsmodels.formula.api as smf\n",
    "def forward_selected(data, response):\n",
    "    \"\"\"Linear model designed by forward selection.\n",
    "\n",
    "    Parameters:\n",
    "    -----------\n",
    "    data : pandas DataFrame with all possible predictors and response\n",
    "\n",
    "    response: string, name of response column in data\n",
    "\n",
    "    Returns:\n",
    "    --------\n",
    "    model: an \"optimal\" fitted statsmodels linear model\n",
    "           with an intercept\n",
    "           selected by forward selection\n",
    "           evaluated by adjusted R-squared\n",
    "    \"\"\"\n",
    "    remaining = set(data.columns)\n",
    "    remaining.remove(response)\n",
    "    selected = []\n",
    "    current_score, best_new_score = 0.0, 0.0\n",
    "    while remaining and current_score == best_new_score:\n",
    "        scores_with_candidates = []\n",
    "        for candidate in remaining:\n",
    "            formula = \"{} ~ {} + 1\".format(response,\n",
    "                                           ' + '.join(selected + [candidate]))\n",
    "            score = smf.ols(formula, data).fit().rsquared_adj\n",
    "            scores_with_candidates.append((score, candidate))\n",
    "        scores_with_candidates.sort()\n",
    "        best_new_score, best_candidate = scores_with_candidates.pop()\n",
    "        if current_score < best_new_score:\n",
    "            remaining.remove(best_candidate)\n",
    "            selected.append(best_candidate)\n",
    "            current_score = best_new_score\n",
    "    formula = \"{} ~ {} + 1\".format(response,\n",
    "                                   ' + '.join(selected))\n",
    "    model = smf.ols(formula, data).fit()\n",
    "    return model"
   ]
  },
  {
   "cell_type": "code",
   "execution_count": 134,
   "metadata": {
    "collapsed": true
   },
   "outputs": [],
   "source": [
    "train_1 = train[[\n",
    "    'Workclass_Self_emp_inc', 'Workclass_Private', 'Workclass_0',\n",
    "    'Education_Bachelors', 'Education_Masters', 'Education_Primary','Education_Prof_school',\n",
    "    'Marital_Married_civ_spouse', 'Marital_Divorced',\n",
    "    'Occupation_Exec_managerial', 'Occupation_Other_service','Occupation_Prof_specialty',\n",
    "    'Relationship_Husband', 'Relationship_Own_child',\n",
    "    'Race_White',\n",
    "    'Sex_Female',\n",
    "    'Country_Poor','Country_US',\n",
    "    'Age','fnlgwt','Education_num','Capital_Gain','Capital_Loss','Hours_Week',\n",
    "    'Income',\n",
    "]]"
   ]
  },
  {
   "cell_type": "code",
   "execution_count": 135,
   "metadata": {
    "collapsed": true
   },
   "outputs": [],
   "source": [
    "#colocar para rodar quando for sair para o almoço\n",
    "#aplicando o método de seleção de variáveis forward\n",
    "\n",
    "# model = forward_selected(train_1, 'Income')\n",
    "# print(model.model.formula)\n",
    "# print(model.rsquared_adj)\n"
   ]
  },
  {
   "cell_type": "markdown",
   "metadata": {
    "_cell_guid": "a0030fa1-9e7f-4b9b-8423-e99425edfdc0",
    "_uuid": "7533887d132cf0c05bed06efa6f774771227d848"
   },
   "source": [
    "## Parte_4: Ajustando um modelo de Regressão Logística usando sklearn"
   ]
  },
  {
   "cell_type": "code",
   "execution_count": 136,
   "metadata": {
    "_cell_guid": "94ee7e77-f1b1-4cc3-abbf-f5db8860e8ce",
    "_uuid": "355e170bffd21137c3fc9b6c0d6fceb5893952e4"
   },
   "outputs": [],
   "source": [
    "from sklearn.linear_model import LogisticRegression\n",
    "from sklearn.metrics import classification_report\n",
    "from sklearn.model_selection import train_test_split\n",
    "from sklearn.metrics import accuracy_score, classification_report, precision_score, recall_score, confusion_matrix, precision_recall_curve\n",
    "from sklearn.metrics import roc_auc_score\n",
    "from sklearn.metrics import classification_report\n",
    "from sklearn.metrics import roc_curve, auc\n",
    "import statsmodels.api as sm\n",
    "import pylab as pl\n",
    "\n"
   ]
  },
  {
   "cell_type": "code",
   "execution_count": 137,
   "metadata": {
    "_cell_guid": "5fd5caa5-90c5-41cc-b9d0-53a4080703d8",
    "_uuid": "51d5c8d96e5a67f75ae65ff86151c02d1827c85a",
    "collapsed": true
   },
   "outputs": [],
   "source": [
    "model = LogisticRegression()\n",
    "a = model.fit(Xtrain, Ttrain)\n",
    "\n",
    "model.fit(Xtrain, Ttrain)\n",
    "Ytrain = model.predict(Xtrain)\n",
    "Ytest = model.predict(Xtest)\n"
   ]
  },
  {
   "cell_type": "code",
   "execution_count": 138,
   "metadata": {
    "collapsed": true
   },
   "outputs": [],
   "source": [
    "#a.coef_"
   ]
  },
  {
   "cell_type": "code",
   "execution_count": 139,
   "metadata": {
    "_cell_guid": "c1d2f345-bed0-413c-a4d8-04fcd0c42e47",
    "_uuid": "b35ebf3fb45db90f240984012470d6d1beee1cf1"
   },
   "outputs": [
    {
     "name": "stdout",
     "output_type": "stream",
     "text": [
      "\n",
      "\n",
      " ---Base de Treinamento---\n",
      "\n",
      "\n",
      " ---Matriz de Confusão---\n",
      "[[22980  1740]\n",
      " [ 3155  4686]]\n",
      "\n",
      "\n",
      " ---Logistic Model---\n",
      "Logistic AUC = 0.76\n",
      "             precision    recall  f1-score   support\n",
      "\n",
      "          0       0.88      0.93      0.90     24720\n",
      "          1       0.73      0.60      0.66      7841\n",
      "\n",
      "avg / total       0.84      0.85      0.84     32561\n",
      "\n"
     ]
    }
   ],
   "source": [
    "# Calculando confusion matrix, AUC, precision e recall para base de treinamento\n",
    "#model.fit(Xtrain, Ttrain)\n",
    "cnf_matrix = confusion_matrix(Ttrain, Ytrain)\n",
    "print (\"\\n\\n ---Base de Treinamento---\")\n",
    "print (\"\\n\\n ---Matriz de Confusão---\")\n",
    "print(cnf_matrix)\n",
    "\n",
    "print (\"\\n\\n ---Logistic Model---\")\n",
    "logit_roc_auc = roc_auc_score(Ttrain, model.predict(Xtrain))\n",
    "print (\"Logistic AUC = %2.2f\" % logit_roc_auc)\n",
    "print(classification_report(Ttrain, Ytrain))"
   ]
  },
  {
   "cell_type": "code",
   "execution_count": 140,
   "metadata": {
    "_cell_guid": "49a9285e-96f3-4b19-ba03-dc61adaf19a8",
    "_uuid": "4447e3d054f327cd861c8694ed4826fbb754f97f"
   },
   "outputs": [
    {
     "name": "stdout",
     "output_type": "stream",
     "text": [
      "\n",
      "\n",
      " ---Base de Teste---\n",
      "\n",
      "\n",
      " ---Matriz de Confusão---\n",
      "[[11574   861]\n",
      " [ 1572  2274]]\n",
      "\n",
      "\n",
      " ---Logistic Model---\n",
      "Logistic AUC = 0.76\n",
      "             precision    recall  f1-score   support\n",
      "\n",
      "          0       0.88      0.93      0.90     12435\n",
      "          1       0.73      0.59      0.65      3846\n",
      "\n",
      "avg / total       0.84      0.85      0.85     16281\n",
      "\n"
     ]
    }
   ],
   "source": [
    "# Calculando AUC, precision e recall para base de teste\n",
    "#model.fit(Xtest, Ttest)\n",
    "cnf_matrix = confusion_matrix(Ttest, Ytest)\n",
    "print (\"\\n\\n ---Base de Teste---\")\n",
    "print (\"\\n\\n ---Matriz de Confusão---\")\n",
    "print(cnf_matrix)\n",
    "print (\"\\n\\n ---Logistic Model---\")\n",
    "logit_roc_auc = roc_auc_score(Ttest, model.predict(Xtest))\n",
    "print (\"Logistic AUC = %2.2f\" % logit_roc_auc)\n",
    "print(classification_report(Ttest, Ytest))"
   ]
  },
  {
   "cell_type": "code",
   "execution_count": 141,
   "metadata": {},
   "outputs": [
    {
     "data": {
      "image/png": "[encoded data removed]",
      "text/plain": [
       "<matplotlib.figure.Figure at 0xf065f28>"
      ]
     },
     "metadata": {},
     "output_type": "display_data"
    }
   ],
   "source": [
    "# Plotando o curva ROC para a base de treinamento\n",
    "fpr, tpr, thresholds = roc_curve(Ttrain, model.predict_proba(Xtrain)[:,1])\n",
    "# fpr, tpr, thresholds = roc_curve(y_test, model.predict_proba(X_test)[:,1])\n",
    "plt.figure()\n",
    "plt.plot(fpr, tpr, label='Train(area = %0.2f)' % logit_roc_auc)\n",
    "\n",
    "# Plotando o curva ROC para a base de teste\n",
    "fpr, tpr, thresholds = roc_curve(Ttest, model.predict_proba(Xtest)[:,1])\n",
    "plt.plot(fpr, tpr, label='Test(area = %0.2f)' % logit_roc_auc)\n",
    "\n",
    "\n",
    "plt.xlim([0.0, 1.0])\n",
    "plt.ylim([0.0, 1.05])\n",
    "plt.xlabel('False Positive Rate')\n",
    "plt.ylabel('True Positive Rate')\n",
    "plt.title('ROC Graph')\n",
    "plt.legend(loc=\"lower right\")\n",
    "plt.show()"
   ]
  },
  {
   "cell_type": "markdown",
   "metadata": {},
   "source": [
    "## Parte_5: Ajustando um modelo de Regressão Logística usando statsmodels"
   ]
  },
  {
   "cell_type": "code",
   "execution_count": 142,
   "metadata": {},
   "outputs": [
    {
     "name": "stdout",
     "output_type": "stream",
     "text": [
      "Optimization terminated successfully.\n",
      "         Current function value: 0.335338\n",
      "         Iterations 9\n"
     ]
    },
    {
     "data": {
      "text/html": [
       "<table class=\"simpletable\">\n",
       "<tr>\n",
       "        <td>Model:</td>              <td>Logit</td>      <td>Pseudo R-squared:</td>    <td>0.393</td>  \n",
       "</tr>\n",
       "<tr>\n",
       "  <td>Dependent Variable:</td>      <td>Income</td>            <td>AIC:</td>        <td>21879.8574</td>\n",
       "</tr>\n",
       "<tr>\n",
       "         <td>Date:</td>        <td>2017-11-09 19:39</td>       <td>BIC:</td>        <td>22056.0657</td>\n",
       "</tr>\n",
       "<tr>\n",
       "   <td>No. Observations:</td>        <td>32561</td>       <td>Log-Likelihood:</td>    <td>-10919.</td> \n",
       "</tr>\n",
       "<tr>\n",
       "       <td>Df Model:</td>             <td>20</td>            <td>LL-Null:</td>        <td>-17974.</td> \n",
       "</tr>\n",
       "<tr>\n",
       "     <td>Df Residuals:</td>          <td>32540</td>        <td>LLR p-value:</td>      <td>0.0000</td>  \n",
       "</tr>\n",
       "<tr>\n",
       "      <td>Converged:</td>           <td>1.0000</td>           <td>Scale:</td>         <td>1.0000</td>  \n",
       "</tr>\n",
       "<tr>\n",
       "    <td>No. Iterations:</td>        <td>9.0000</td>              <td></td>               <td></td>     \n",
       "</tr>\n",
       "</table>\n",
       "<table class=\"simpletable\">\n",
       "<tr>\n",
       "               <td></td>               <th>Coef.</th>  <th>Std.Err.</th>     <th>z</th>     <th>P>|z|</th> <th>[0.025</th>  <th>0.975]</th> \n",
       "</tr>\n",
       "<tr>\n",
       "  <th>Marital_Married_civ_spouse</th> <td>2.8678</td>   <td>0.0775</td>   <td>36.9795</td> <td>0.0000</td> <td>2.7158</td>  <td>3.0197</td> \n",
       "</tr>\n",
       "<tr>\n",
       "  <th>Education_num</th>              <td>0.1177</td>   <td>0.0140</td>   <td>8.3956</td>  <td>0.0000</td> <td>0.0903</td>  <td>0.1452</td> \n",
       "</tr>\n",
       "<tr>\n",
       "  <th>Capital_Gain</th>               <td>0.0003</td>   <td>0.0000</td>   <td>31.3738</td> <td>0.0000</td> <td>0.0003</td>  <td>0.0003</td> \n",
       "</tr>\n",
       "<tr>\n",
       "  <th>Occupation_Exec_managerial</th> <td>0.8117</td>   <td>0.0481</td>   <td>16.8583</td> <td>0.0000</td> <td>0.7173</td>  <td>0.9061</td> \n",
       "</tr>\n",
       "<tr>\n",
       "  <th>Capital_Loss</th>               <td>0.0006</td>   <td>0.0000</td>   <td>18.0644</td> <td>0.0000</td> <td>0.0006</td>  <td>0.0007</td> \n",
       "</tr>\n",
       "<tr>\n",
       "  <th>Hours_Week</th>                 <td>0.0194</td>   <td>0.0015</td>   <td>13.3241</td> <td>0.0000</td> <td>0.0166</td>  <td>0.0223</td> \n",
       "</tr>\n",
       "<tr>\n",
       "  <th>Age</th>                        <td>0.0170</td>   <td>0.0015</td>   <td>11.7262</td> <td>0.0000</td> <td>0.0142</td>  <td>0.0199</td> \n",
       "</tr>\n",
       "<tr>\n",
       "  <th>Occupation_Prof_specialty</th>  <td>0.6222</td>   <td>0.0546</td>   <td>11.3964</td> <td>0.0000</td> <td>0.5152</td>  <td>0.7292</td> \n",
       "</tr>\n",
       "<tr>\n",
       "  <th>Education_Primary</th>          <td>-0.7670</td>  <td>0.0960</td>   <td>-7.9923</td> <td>0.0000</td> <td>-0.9550</td> <td>-0.5789</td>\n",
       "</tr>\n",
       "<tr>\n",
       "  <th>Workclass_Self_emp_inc</th>     <td>0.4977</td>   <td>0.0849</td>   <td>5.8617</td>  <td>0.0000</td> <td>0.3313</td>  <td>0.6641</td> \n",
       "</tr>\n",
       "<tr>\n",
       "  <th>Workclass_Private</th>          <td>0.1923</td>   <td>0.0387</td>   <td>4.9700</td>  <td>0.0000</td> <td>0.1165</td>  <td>0.2682</td> \n",
       "</tr>\n",
       "<tr>\n",
       "  <th>Sex_Female</th>                 <td>-0.8396</td>  <td>0.0692</td>  <td>-12.1254</td> <td>0.0000</td> <td>-0.9754</td> <td>-0.7039</td>\n",
       "</tr>\n",
       "<tr>\n",
       "  <th>Relationship_Husband</th>       <td>-1.0789</td>  <td>0.0897</td>  <td>-12.0253</td> <td>0.0000</td> <td>-1.2547</td> <td>-0.9030</td>\n",
       "</tr>\n",
       "<tr>\n",
       "  <th>fnlgwt</th>                     <td>-0.4585</td>  <td>0.0139</td>  <td>-32.9189</td> <td>0.0000</td> <td>-0.4858</td> <td>-0.4312</td>\n",
       "</tr>\n",
       "<tr>\n",
       "  <th>Race_White</th>                 <td>-0.0448</td>  <td>0.0541</td>   <td>-0.8286</td> <td>0.4073</td> <td>-0.1508</td> <td>0.0612</td> \n",
       "</tr>\n",
       "<tr>\n",
       "  <th>Education_Masters</th>          <td>0.6637</td>   <td>0.0875</td>   <td>7.5874</td>  <td>0.0000</td> <td>0.4923</td>  <td>0.8351</td> \n",
       "</tr>\n",
       "<tr>\n",
       "  <th>Country_Poor</th>               <td>-0.7648</td>  <td>0.1303</td>   <td>-5.8701</td> <td>0.0000</td> <td>-1.0201</td> <td>-0.5094</td>\n",
       "</tr>\n",
       "<tr>\n",
       "  <th>Education_Prof_school</th>      <td>0.9682</td>   <td>0.1411</td>   <td>6.8604</td>  <td>0.0000</td> <td>0.6916</td>  <td>1.2448</td> \n",
       "</tr>\n",
       "<tr>\n",
       "  <th>Occupation_Other_service</th>   <td>-0.9379</td>  <td>0.1008</td>   <td>-9.3079</td> <td>0.0000</td> <td>-1.1354</td> <td>-0.7404</td>\n",
       "</tr>\n",
       "<tr>\n",
       "  <th>Education_Bachelors</th>        <td>0.4738</td>   <td>0.0603</td>   <td>7.8543</td>  <td>0.0000</td> <td>0.3556</td>  <td>0.5920</td> \n",
       "</tr>\n",
       "<tr>\n",
       "  <th>Relationship_Own_child</th>     <td>-1.6802</td>  <td>0.1434</td>  <td>-11.7181</td> <td>0.0000</td> <td>-1.9613</td> <td>-1.3992</td>\n",
       "</tr>\n",
       "</table>"
      ],
      "text/plain": [
       "<class 'statsmodels.iolib.summary2.Summary'>\n",
       "\"\"\"\n",
       "                              Results: Logit\n",
       "===========================================================================\n",
       "Model:                  Logit               Pseudo R-squared:    0.393     \n",
       "Dependent Variable:     Income              AIC:                 21879.8574\n",
       "Date:                   2017-11-09 19:39    BIC:                 22056.0657\n",
       "No. Observations:       32561               Log-Likelihood:      -10919.   \n",
       "Df Model:               20                  LL-Null:             -17974.   \n",
       "Df Residuals:           32540               LLR p-value:         0.0000    \n",
       "Converged:              1.0000              Scale:               1.0000    \n",
       "No. Iterations:         9.0000                                             \n",
       "---------------------------------------------------------------------------\n",
       "                            Coef.  Std.Err.    z     P>|z|   [0.025  0.975]\n",
       "---------------------------------------------------------------------------\n",
       "Marital_Married_civ_spouse  2.8678   0.0775  36.9795 0.0000  2.7158  3.0197\n",
       "Education_num               0.1177   0.0140   8.3956 0.0000  0.0903  0.1452\n",
       "Capital_Gain                0.0003   0.0000  31.3738 0.0000  0.0003  0.0003\n",
       "Occupation_Exec_managerial  0.8117   0.0481  16.8583 0.0000  0.7173  0.9061\n",
       "Capital_Loss                0.0006   0.0000  18.0644 0.0000  0.0006  0.0007\n",
       "Hours_Week                  0.0194   0.0015  13.3241 0.0000  0.0166  0.0223\n",
       "Age                         0.0170   0.0015  11.7262 0.0000  0.0142  0.0199\n",
       "Occupation_Prof_specialty   0.6222   0.0546  11.3964 0.0000  0.5152  0.7292\n",
       "Education_Primary          -0.7670   0.0960  -7.9923 0.0000 -0.9550 -0.5789\n",
       "Workclass_Self_emp_inc      0.4977   0.0849   5.8617 0.0000  0.3313  0.6641\n",
       "Workclass_Private           0.1923   0.0387   4.9700 0.0000  0.1165  0.2682\n",
       "Sex_Female                 -0.8396   0.0692 -12.1254 0.0000 -0.9754 -0.7039\n",
       "Relationship_Husband       -1.0789   0.0897 -12.0253 0.0000 -1.2547 -0.9030\n",
       "fnlgwt                     -0.4585   0.0139 -32.9189 0.0000 -0.4858 -0.4312\n",
       "Race_White                 -0.0448   0.0541  -0.8286 0.4073 -0.1508  0.0612\n",
       "Education_Masters           0.6637   0.0875   7.5874 0.0000  0.4923  0.8351\n",
       "Country_Poor               -0.7648   0.1303  -5.8701 0.0000 -1.0201 -0.5094\n",
       "Education_Prof_school       0.9682   0.1411   6.8604 0.0000  0.6916  1.2448\n",
       "Occupation_Other_service   -0.9379   0.1008  -9.3079 0.0000 -1.1354 -0.7404\n",
       "Education_Bachelors         0.4738   0.0603   7.8543 0.0000  0.3556  0.5920\n",
       "Relationship_Own_child     -1.6802   0.1434 -11.7181 0.0000 -1.9613 -1.3992\n",
       "===========================================================================\n",
       "\n",
       "\"\"\""
      ]
     },
     "execution_count": 142,
     "metadata": {},
     "output_type": "execute_result"
    }
   ],
   "source": [
    "# Modelo com variáveis obtidas do método forward\n",
    "iv = ['Marital_Married_civ_spouse','Education_num','Capital_Gain','Occupation_Exec_managerial','Capital_Loss','Hours_Week',\n",
    "'Age','Occupation_Prof_specialty','Education_Primary','Workclass_Self_emp_inc','Workclass_Private','Sex_Female',\n",
    "'Relationship_Husband','fnlgwt','Race_White','Education_Masters','Country_Poor','Education_Prof_school',\n",
    "'Occupation_Other_service','Education_Bachelors','Relationship_Own_child']\n",
    "\n",
    "logReg = sm.Logit(Ttrain, Xtrain[iv])\n",
    "\n",
    "#Ytrain = logReg.predict(Xtrain[iv])\n",
    "#Ytest = logReg.predict(Xtest)\n",
    "answer = logReg.fit()\n",
    "\n",
    "answer.summary2()\n"
   ]
  },
  {
   "cell_type": "code",
   "execution_count": 143,
   "metadata": {},
   "outputs": [
    {
     "name": "stdout",
     "output_type": "stream",
     "text": [
      "Area under the ROC curve Tain : 0.894787\n",
      "Area under the ROC curve Tain : 0.893805\n"
     ]
    }
   ],
   "source": [
    "# Calculando o valor predito das bases de treinamento e validação\n",
    "Ytrain = answer.predict(Xtrain[iv])\n",
    "\n",
    "fpr1, tpr1, thresholds =roc_curve(Ttrain, Ytrain)\n",
    "roc_auc1 = auc(fpr1, tpr1)\n",
    "print(\"Area under the ROC curve Tain : %f\" % roc_auc1)\n",
    "\n",
    "Ytest = answer.predict(Xtest[iv])\n",
    "\n",
    "fpr2, tpr2, thresholds =roc_curve(Ttest, Ytest)\n",
    "roc_auc2 = auc(fpr2, tpr2)\n",
    "print(\"Area under the ROC curve Tain : %f\" % roc_auc2)"
   ]
  },
  {
   "cell_type": "code",
   "execution_count": 144,
   "metadata": {},
   "outputs": [
    {
     "data": {
      "image/png": "[encoded data removed]",
      "text/plain": [
       "<matplotlib.figure.Figure at 0x10528748>"
      ]
     },
     "metadata": {},
     "output_type": "display_data"
    }
   ],
   "source": [
    "# plotando a curva ROC para as bases de treinamento e validação\n",
    "plt.plot(fpr1, tpr1)\n",
    "plt.plot(fpr2, tpr2)\n",
    "plt.plot()\n",
    "plt.xlim([0.0, 1.0])\n",
    "plt.ylim([0.0, 1.05])\n",
    "plt.xlabel('False Positive Rate')\n",
    "plt.ylabel('True Positive Rate')\n",
    "plt.title('ROC Graph')\n",
    "plt.legend([\"Train: \" + str(roc_auc1), \"Test: \" + str(roc_auc2)  ],  loc=\"lower right\")\n",
    "plt.show()"
   ]
  },
  {
   "cell_type": "markdown",
   "metadata": {
    "collapsed": true
   },
   "source": [
    "Referências <br>\n",
    "- https://www.kaggle.com/kost13/us-income-logistic-regression\n",
    "- http://planspace.org/20150423-forward_selection_with_statsmodels/"
   ]
  }
 ],
 "metadata": {
  "kernelspec": {
   "display_name": "Python 3",
   "language": "python",
   "name": "python3"
  },
  "language_info": {
   "codemirror_mode": {
    "name": "ipython",
    "version": 3
   },
   "file_extension": ".py",
   "mimetype": "text/x-python",
   "name": "python",
   "nbconvert_exporter": "python",
   "pygments_lexer": "ipython3",
   "version": "3.6.3"
  }
 },
 "nbformat": 4,
 "nbformat_minor": 1
}
